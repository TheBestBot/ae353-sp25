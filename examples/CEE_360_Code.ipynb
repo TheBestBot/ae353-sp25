{
 "cells": [
  {
   "cell_type": "code",
   "execution_count": 1,
   "id": "89e22714",
   "metadata": {},
   "outputs": [],
   "source": [
    "import numpy as np"
   ]
  },
  {
   "cell_type": "code",
   "execution_count": 2,
   "id": "53d0c0b4",
   "metadata": {},
   "outputs": [
    {
     "data": {
      "image/png": "[encoded data removed]",
      "text/plain": [
       "<Figure size 640x480 with 1 Axes>"
      ]
     },
     "metadata": {},
     "output_type": "display_data"
    }
   ],
   "source": [
    "import matplotlib.pyplot as plt\n",
    "\n",
    "# Define node coordinates (x, y)\n",
    "# Example: 7 nodes for a symmetric Howe truss with 6 panels\n",
    "nodes = {\n",
    "    0: (0, 0),\n",
    "    1: (1, 1),\n",
    "    2: (2, 0),\n",
    "    3: (3, 1),\n",
    "    4: (4, 0),\n",
    "    5: (5, 1),\n",
    "    6: (6, 0)\n",
    "}\n",
    "\n",
    "# Define members as tuples of node indices\n",
    "# Horizontal bottom chords, top chords, verticals, and diagonals\n",
    "members = [\n",
    "    (0, 2), (2, 4), (4, 6),        # bottom chords\n",
    "    (1, 3), (3, 5),                # top chords\n",
    "    (0, 1), (2, 1), (2, 3), (4, 3), (4, 5), (6, 5)  # diagonals and verticals\n",
    "]\n",
    "\n",
    "# Plotting the truss\n",
    "fig, ax = plt.subplots()\n",
    "for member in members:\n",
    "    n1, n2 = member\n",
    "    x_vals = [nodes[n1][0], nodes[n2][0]]\n",
    "    y_vals = [nodes[n1][1], nodes[n2][1]]\n",
    "    ax.plot(x_vals, y_vals, 'bo-')  # blue line with circles at nodes\n",
    "\n",
    "# Annotate node numbers\n",
    "for idx, (x, y) in nodes.items():\n",
    "    ax.text(x, y + 0.1, f'{idx}', ha='center')\n",
    "\n",
    "ax.set_aspect('equal')\n",
    "ax.set_title(\"Howe Truss Structure\")\n",
    "ax.set_xlabel(\"X Position\")\n",
    "ax.set_ylabel(\"Y Position\")\n",
    "plt.grid(True)\n",
    "plt.show()\n"
   ]
  },
  {
   "cell_type": "markdown",
   "id": "01908b89",
   "metadata": {},
   "source": [
    "## Write the displacement transformation matrix for each truss member"
   ]
  },
  {
   "cell_type": "code",
   "execution_count": null,
   "id": "4e31c9d7",
   "metadata": {},
   "outputs": [],
   "source": []
  },
  {
   "cell_type": "markdown",
   "id": "8364801a",
   "metadata": {},
   "source": [
    "## Assemble the global stiffness matrix"
   ]
  },
  {
   "cell_type": "code",
   "execution_count": null,
   "id": "a68247ff",
   "metadata": {},
   "outputs": [],
   "source": []
  },
  {
   "cell_type": "markdown",
   "id": "a7fc0276",
   "metadata": {},
   "source": [
    "## Solve the linear system \n",
    "in Python and calculate the forces in the truss members. Compare with the result found in Question 4"
   ]
  },
  {
   "cell_type": "code",
   "execution_count": null,
   "id": "b8a38fd6",
   "metadata": {},
   "outputs": [],
   "source": []
  },
  {
   "cell_type": "markdown",
   "id": "7dac32f2",
   "metadata": {},
   "source": [
    "## Determine the mid-span deflection \n",
    "in the vertical direction. Compare with the results found in questions 2 and 5"
   ]
  },
  {
   "cell_type": "code",
   "execution_count": null,
   "id": "ae646d9a",
   "metadata": {},
   "outputs": [],
   "source": []
  }
 ],
 "metadata": {
  "kernelspec": {
   "display_name": "ae353",
   "language": "python",
   "name": "python3"
  },
  "language_info": {
   "codemirror_mode": {
    "name": "ipython",
    "version": 3
   },
   "file_extension": ".py",
   "mimetype": "text/x-python",
   "name": "python",
   "nbconvert_exporter": "python",
   "pygments_lexer": "ipython3",
   "version": "3.13.1"
  }
 },
 "nbformat": 4,
 "nbformat_minor": 5
}
