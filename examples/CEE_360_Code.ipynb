{
 "cells": [
  {
   "cell_type": "markdown",
   "id": "51f5855d",
   "metadata": {},
   "source": [
    "## Define the problem"
   ]
  },
  {
   "cell_type": "code",
   "execution_count": 46,
   "id": "53d0c0b4",
   "metadata": {},
   "outputs": [
    {
     "data": {
      "image/png": "[encoded data removed]",
      "text/plain": [
       "<Figure size 1000x500 with 1 Axes>"
      ]
     },
     "metadata": {},
     "output_type": "display_data"
    }
   ],
   "source": [
    "import matplotlib.pyplot as plt\n",
    "import numpy as np\n",
    "import sympy as sym\n",
    "import matplotlib.pyplot as plt\n",
    "import matplotlib.colors as mcolors\n",
    "\n",
    "# Define system data\n",
    "L = 30 # ft\n",
    "I_xx = 1490 # in^4\n",
    "I_yy = 186 # in^4\n",
    "E = 29000 # ksi\n",
    "A = 29.4  # in^2\n",
    "\n",
    "# Define node coordinates (x, y)\n",
    "nodes = {\n",
    "    0: (0, 0), # 0 index my nodes\n",
    "    1: (L, 0),\n",
    "    2: (2*L, 0),\n",
    "    3: (3*L, 0),\n",
    "    4: (4*L, 0),\n",
    "    5: (L, L),\n",
    "    6: (2*L, L),\n",
    "    7: (3*L, L)\n",
    "}\n",
    "\n",
    "members = [\n",
    "    (5, 6), (6, 7),  # top chords\n",
    "    (0, 1), (1, 2), (2, 3), (3, 4), # bottom chords\n",
    "    (0, 5), (1, 5), (1, 6), (2, 6), (3, 6), (3, 7), (4, 7)  # diagonals and verticals\n",
    "]\n",
    "\n",
    "# Plot the truss\n",
    "fig, ax = plt.subplots(figsize=(10, 5))\n",
    "for member in members:\n",
    "    n1, n2 = member\n",
    "    x_vals = [nodes[n1][0], nodes[n2][0]]\n",
    "    y_vals = [nodes[n1][1], nodes[n2][1]]\n",
    "    ax.plot(x_vals, y_vals, 'ko-')\n",
    "\n",
    "ax.set_aspect('equal')\n",
    "ax.set_title(\"Howe Truss Structure\")\n",
    "ax.set_xlabel(\"X Position\")\n",
    "ax.set_ylabel(\"Y Position\")\n",
    "plt.grid(True)\n",
    "plt.show()\n"
   ]
  },
  {
   "cell_type": "markdown",
   "id": "01908b89",
   "metadata": {},
   "source": [
    "## Write the displacement transformation matrix for each truss member"
   ]
  },
  {
   "cell_type": "code",
   "execution_count": null,
   "id": "4e31c9d7",
   "metadata": {},
   "outputs": [
    {
     "name": "stdout",
     "output_type": "stream",
     "text": [
      "Member 0 (Node 5 to 6) Transformation Matrix:\n"
     ]
    },
    {
     "data": {
      "text/latex": [
       "$\\displaystyle \\left[\\begin{matrix}1.0 & 0.0 & 0.0 & 0.0\\\\0.0 & 0.0 & 1.0 & 0.0\\end{matrix}\\right]$"
      ],
      "text/plain": [
       "Matrix([\n",
       "[1.0, 0.0, 0.0, 0.0],\n",
       "[0.0, 0.0, 1.0, 0.0]])"
      ]
     },
     "metadata": {},
     "output_type": "display_data"
    },
    {
     "name": "stdout",
     "output_type": "stream",
     "text": [
      "\n",
      "Member 1 (Node 6 to 7) Transformation Matrix:\n"
     ]
    },
    {
     "data": {
      "text/latex": [
       "$\\displaystyle \\left[\\begin{matrix}1.0 & 0.0 & 0.0 & 0.0\\\\0.0 & 0.0 & 1.0 & 0.0\\end{matrix}\\right]$"
      ],
      "text/plain": [
       "Matrix([\n",
       "[1.0, 0.0, 0.0, 0.0],\n",
       "[0.0, 0.0, 1.0, 0.0]])"
      ]
     },
     "metadata": {},
     "output_type": "display_data"
    },
    {
     "name": "stdout",
     "output_type": "stream",
     "text": [
      "\n",
      "Member 2 (Node 0 to 1) Transformation Matrix:\n"
     ]
    },
    {
     "data": {
      "text/latex": [
       "$\\displaystyle \\left[\\begin{matrix}1.0 & 0.0 & 0.0 & 0.0\\\\0.0 & 0.0 & 1.0 & 0.0\\end{matrix}\\right]$"
      ],
      "text/plain": [
       "Matrix([\n",
       "[1.0, 0.0, 0.0, 0.0],\n",
       "[0.0, 0.0, 1.0, 0.0]])"
      ]
     },
     "metadata": {},
     "output_type": "display_data"
    },
    {
     "name": "stdout",
     "output_type": "stream",
     "text": [
      "\n",
      "Member 3 (Node 1 to 2) Transformation Matrix:\n"
     ]
    },
    {
     "data": {
      "text/latex": [
       "$\\displaystyle \\left[\\begin{matrix}1.0 & 0.0 & 0.0 & 0.0\\\\0.0 & 0.0 & 1.0 & 0.0\\end{matrix}\\right]$"
      ],
      "text/plain": [
       "Matrix([\n",
       "[1.0, 0.0, 0.0, 0.0],\n",
       "[0.0, 0.0, 1.0, 0.0]])"
      ]
     },
     "metadata": {},
     "output_type": "display_data"
    },
    {
     "name": "stdout",
     "output_type": "stream",
     "text": [
      "\n",
      "Member 4 (Node 2 to 3) Transformation Matrix:\n"
     ]
    },
    {
     "data": {
      "text/latex": [
       "$\\displaystyle \\left[\\begin{matrix}1.0 & 0.0 & 0.0 & 0.0\\\\0.0 & 0.0 & 1.0 & 0.0\\end{matrix}\\right]$"
      ],
      "text/plain": [
       "Matrix([\n",
       "[1.0, 0.0, 0.0, 0.0],\n",
       "[0.0, 0.0, 1.0, 0.0]])"
      ]
     },
     "metadata": {},
     "output_type": "display_data"
    },
    {
     "name": "stdout",
     "output_type": "stream",
     "text": [
      "\n",
      "Member 5 (Node 3 to 4) Transformation Matrix:\n"
     ]
    },
    {
     "data": {
      "text/latex": [
       "$\\displaystyle \\left[\\begin{matrix}1.0 & 0.0 & 0.0 & 0.0\\\\0.0 & 0.0 & 1.0 & 0.0\\end{matrix}\\right]$"
      ],
      "text/plain": [
       "Matrix([\n",
       "[1.0, 0.0, 0.0, 0.0],\n",
       "[0.0, 0.0, 1.0, 0.0]])"
      ]
     },
     "metadata": {},
     "output_type": "display_data"
    },
    {
     "name": "stdout",
     "output_type": "stream",
     "text": [
      "\n",
      "Member 6 (Node 0 to 5) Transformation Matrix:\n"
     ]
    },
    {
     "data": {
      "text/latex": [
       "$\\displaystyle \\left[\\begin{matrix}0.707106781186547 & 0.707106781186547 & 0.0 & 0.0\\\\0.0 & 0.0 & 0.707106781186547 & 0.707106781186547\\end{matrix}\\right]$"
      ],
      "text/plain": [
       "Matrix([\n",
       "[0.707106781186547, 0.707106781186547,               0.0,               0.0],\n",
       "[              0.0,               0.0, 0.707106781186547, 0.707106781186547]])"
      ]
     },
     "metadata": {},
     "output_type": "display_data"
    },
    {
     "name": "stdout",
     "output_type": "stream",
     "text": [
      "\n",
      "Member 7 (Node 1 to 5) Transformation Matrix:\n"
     ]
    },
    {
     "data": {
      "text/latex": [
       "$\\displaystyle \\left[\\begin{matrix}0.0 & 1.0 & 0.0 & 0.0\\\\0.0 & 0.0 & 0.0 & 1.0\\end{matrix}\\right]$"
      ],
      "text/plain": [
       "Matrix([\n",
       "[0.0, 1.0, 0.0, 0.0],\n",
       "[0.0, 0.0, 0.0, 1.0]])"
      ]
     },
     "metadata": {},
     "output_type": "display_data"
    },
    {
     "name": "stdout",
     "output_type": "stream",
     "text": [
      "\n",
      "Member 8 (Node 1 to 6) Transformation Matrix:\n"
     ]
    },
    {
     "data": {
      "text/latex": [
       "$\\displaystyle \\left[\\begin{matrix}0.707106781186547 & 0.707106781186547 & 0.0 & 0.0\\\\0.0 & 0.0 & 0.707106781186547 & 0.707106781186547\\end{matrix}\\right]$"
      ],
      "text/plain": [
       "Matrix([\n",
       "[0.707106781186547, 0.707106781186547,               0.0,               0.0],\n",
       "[              0.0,               0.0, 0.707106781186547, 0.707106781186547]])"
      ]
     },
     "metadata": {},
     "output_type": "display_data"
    },
    {
     "name": "stdout",
     "output_type": "stream",
     "text": [
      "\n",
      "Member 9 (Node 2 to 6) Transformation Matrix:\n"
     ]
    },
    {
     "data": {
      "text/latex": [
       "$\\displaystyle \\left[\\begin{matrix}0.0 & 1.0 & 0.0 & 0.0\\\\0.0 & 0.0 & 0.0 & 1.0\\end{matrix}\\right]$"
      ],
      "text/plain": [
       "Matrix([\n",
       "[0.0, 1.0, 0.0, 0.0],\n",
       "[0.0, 0.0, 0.0, 1.0]])"
      ]
     },
     "metadata": {},
     "output_type": "display_data"
    },
    {
     "name": "stdout",
     "output_type": "stream",
     "text": [
      "\n",
      "Member 10 (Node 3 to 6) Transformation Matrix:\n"
     ]
    },
    {
     "data": {
      "text/latex": [
       "$\\displaystyle \\left[\\begin{matrix}-0.707106781186547 & 0.707106781186547 & 0.0 & 0.0\\\\0.0 & 0.0 & -0.707106781186547 & 0.707106781186547\\end{matrix}\\right]$"
      ],
      "text/plain": [
       "Matrix([\n",
       "[-0.707106781186547, 0.707106781186547,                0.0,               0.0],\n",
       "[               0.0,               0.0, -0.707106781186547, 0.707106781186547]])"
      ]
     },
     "metadata": {},
     "output_type": "display_data"
    },
    {
     "name": "stdout",
     "output_type": "stream",
     "text": [
      "\n",
      "Member 11 (Node 3 to 7) Transformation Matrix:\n"
     ]
    },
    {
     "data": {
      "text/latex": [
       "$\\displaystyle \\left[\\begin{matrix}0.0 & 1.0 & 0.0 & 0.0\\\\0.0 & 0.0 & 0.0 & 1.0\\end{matrix}\\right]$"
      ],
      "text/plain": [
       "Matrix([\n",
       "[0.0, 1.0, 0.0, 0.0],\n",
       "[0.0, 0.0, 0.0, 1.0]])"
      ]
     },
     "metadata": {},
     "output_type": "display_data"
    },
    {
     "name": "stdout",
     "output_type": "stream",
     "text": [
      "\n",
      "Member 12 (Node 4 to 7) Transformation Matrix:\n"
     ]
    },
    {
     "data": {
      "text/latex": [
       "$\\displaystyle \\left[\\begin{matrix}-0.707106781186547 & 0.707106781186547 & 0.0 & 0.0\\\\0.0 & 0.0 & -0.707106781186547 & 0.707106781186547\\end{matrix}\\right]$"
      ],
      "text/plain": [
       "Matrix([\n",
       "[-0.707106781186547, 0.707106781186547,                0.0,               0.0],\n",
       "[               0.0,               0.0, -0.707106781186547, 0.707106781186547]])"
      ]
     },
     "metadata": {},
     "output_type": "display_data"
    },
    {
     "name": "stdout",
     "output_type": "stream",
     "text": [
      "\n"
     ]
    }
   ],
   "source": [
    "def compute_transformation_matrix(n1_coords, n2_coords):\n",
    "    x1, y1 = n1_coords\n",
    "    x2, y2 = n2_coords\n",
    "\n",
    "    dx = x2 - x1\n",
    "    dy = y2 - y1\n",
    "    L = np.sqrt(dx**2 + dy**2)\n",
    "\n",
    "    c = dx / L\n",
    "    s = dy / L\n",
    "\n",
    "    # Transformation matrix for a 2D truss element (local to global)\n",
    "    T = np.array([\n",
    "        [ c, s, 0, 0],\n",
    "        [ 0, 0, c, s]\n",
    "    ])\n",
    "\n",
    "    return T, L, c, s\n",
    "\n",
    "transformations = {}\n",
    "for i, (n1, n2) in enumerate(members):\n",
    "    T, L_member, c, s = compute_transformation_matrix(nodes[n1], nodes[n2])\n",
    "    transformations[i] = {\n",
    "        'nodes': (n1, n2),\n",
    "        'length': L_member,\n",
    "        'cosine': c,\n",
    "        'sine': s,\n",
    "        'T': T\n",
    "    }\n",
    "\n",
    "for i, data in transformations.items():\n",
    "    print(f\"Member {i} (Node {data['nodes'][0]} to {data['nodes'][1]}) Transformation Matrix:\")\n",
    "    display(sym.Matrix(data['T']))\n",
    "    print()\n"
   ]
  },
  {
   "cell_type": "markdown",
   "id": "8364801a",
   "metadata": {},
   "source": [
    "## Assemble the global stiffness matrix"
   ]
  },
  {
   "cell_type": "code",
   "execution_count": null,
   "id": "a68247ff",
   "metadata": {},
   "outputs": [
    {
     "name": "stdout",
     "output_type": "stream",
     "text": [
      "Global Stiffness Matrix K:\n"
     ]
    },
    {
     "data": {
      "text/latex": [
       "$\\displaystyle \\left[\\begin{array}{cccccccccccccccc}3205.6656133884 & 837.33228005507 & -2368.33333333333 & 0.0 & 0.0 & 0.0 & 0.0 & 0.0 & 0.0 & 0.0 & -837.33228005507 & -837.33228005507 & 0.0 & 0.0 & 0.0 & 0.0\\\\837.33228005507 & 837.33228005507 & 0.0 & 0.0 & 0.0 & 0.0 & 0.0 & 0.0 & 0.0 & 0.0 & -837.33228005507 & -837.33228005507 & 0.0 & 0.0 & 0.0 & 0.0\\\\-2368.33333333333 & 0.0 & 5573.99894672174 & 837.33228005507 & -2368.33333333333 & 0.0 & 0.0 & 0.0 & 0.0 & 0.0 & 0.0 & 0.0 & -837.33228005507 & -837.33228005507 & 0.0 & 0.0\\\\0.0 & 0.0 & 837.33228005507 & 3205.6656133884 & 0.0 & 0.0 & 0.0 & 0.0 & 0.0 & 0.0 & 0.0 & -2368.33333333333 & -837.33228005507 & -837.33228005507 & 0.0 & 0.0\\\\0.0 & 0.0 & -2368.33333333333 & 0.0 & 4736.66666666667 & 0.0 & -2368.33333333333 & 0.0 & 0.0 & 0.0 & 0.0 & 0.0 & 0.0 & 0.0 & 0.0 & 0.0\\\\0.0 & 0.0 & 0.0 & 0.0 & 0.0 & 2368.33333333333 & 0.0 & 0.0 & 0.0 & 0.0 & 0.0 & 0.0 & 0.0 & -2368.33333333333 & 0.0 & 0.0\\\\0.0 & 0.0 & 0.0 & 0.0 & -2368.33333333333 & 0.0 & 5573.99894672174 & -837.33228005507 & -2368.33333333333 & 0.0 & 0.0 & 0.0 & -837.33228005507 & 837.33228005507 & 0.0 & 0.0\\\\0.0 & 0.0 & 0.0 & 0.0 & 0.0 & 0.0 & -837.33228005507 & 3205.6656133884 & 0.0 & 0.0 & 0.0 & 0.0 & 837.33228005507 & -837.33228005507 & 0.0 & -2368.33333333333\\\\0.0 & 0.0 & 0.0 & 0.0 & 0.0 & 0.0 & -2368.33333333333 & 0.0 & 3205.6656133884 & -837.33228005507 & 0.0 & 0.0 & 0.0 & 0.0 & -837.33228005507 & 837.33228005507\\\\0.0 & 0.0 & 0.0 & 0.0 & 0.0 & 0.0 & 0.0 & 0.0 & -837.33228005507 & 837.33228005507 & 0.0 & 0.0 & 0.0 & 0.0 & 837.33228005507 & -837.33228005507\\\\-837.33228005507 & -837.33228005507 & 0.0 & 0.0 & 0.0 & 0.0 & 0.0 & 0.0 & 0.0 & 0.0 & 3205.6656133884 & 837.33228005507 & -2368.33333333333 & 0.0 & 0.0 & 0.0\\\\-837.33228005507 & -837.33228005507 & 0.0 & -2368.33333333333 & 0.0 & 0.0 & 0.0 & 0.0 & 0.0 & 0.0 & 837.33228005507 & 3205.6656133884 & 0.0 & 0.0 & 0.0 & 0.0\\\\0.0 & 0.0 & -837.33228005507 & -837.33228005507 & 0.0 & 0.0 & -837.33228005507 & 837.33228005507 & 0.0 & 0.0 & -2368.33333333333 & 0.0 & 6411.33122677681 & 0.0 & -2368.33333333333 & 0.0\\\\0.0 & 0.0 & -837.33228005507 & -837.33228005507 & 0.0 & -2368.33333333333 & 837.33228005507 & -837.33228005507 & 0.0 & 0.0 & 0.0 & 0.0 & 0.0 & 4042.99789344347 & 0.0 & 0.0\\\\0.0 & 0.0 & 0.0 & 0.0 & 0.0 & 0.0 & 0.0 & 0.0 & -837.33228005507 & 837.33228005507 & 0.0 & 0.0 & -2368.33333333333 & 0.0 & 3205.6656133884 & -837.33228005507\\\\0.0 & 0.0 & 0.0 & 0.0 & 0.0 & 0.0 & 0.0 & -2368.33333333333 & 837.33228005507 & -837.33228005507 & 0.0 & 0.0 & 0.0 & 0.0 & -837.33228005507 & 3205.6656133884\\end{array}\\right]$"
      ],
      "text/plain": [
       "Matrix([\n",
       "[  3205.6656133884,  837.33228005507, -2368.33333333333,               0.0,               0.0,               0.0,               0.0,               0.0,               0.0,              0.0,  -837.33228005507,  -837.33228005507,               0.0,               0.0,               0.0,               0.0],\n",
       "[  837.33228005507,  837.33228005507,               0.0,               0.0,               0.0,               0.0,               0.0,               0.0,               0.0,              0.0,  -837.33228005507,  -837.33228005507,               0.0,               0.0,               0.0,               0.0],\n",
       "[-2368.33333333333,              0.0,  5573.99894672174,   837.33228005507, -2368.33333333333,               0.0,               0.0,               0.0,               0.0,              0.0,               0.0,               0.0,  -837.33228005507,  -837.33228005507,               0.0,               0.0],\n",
       "[              0.0,              0.0,   837.33228005507,   3205.6656133884,               0.0,               0.0,               0.0,               0.0,               0.0,              0.0,               0.0, -2368.33333333333,  -837.33228005507,  -837.33228005507,               0.0,               0.0],\n",
       "[              0.0,              0.0, -2368.33333333333,               0.0,  4736.66666666667,               0.0, -2368.33333333333,               0.0,               0.0,              0.0,               0.0,               0.0,               0.0,               0.0,               0.0,               0.0],\n",
       "[              0.0,              0.0,               0.0,               0.0,               0.0,  2368.33333333333,               0.0,               0.0,               0.0,              0.0,               0.0,               0.0,               0.0, -2368.33333333333,               0.0,               0.0],\n",
       "[              0.0,              0.0,               0.0,               0.0, -2368.33333333333,               0.0,  5573.99894672174,  -837.33228005507, -2368.33333333333,              0.0,               0.0,               0.0,  -837.33228005507,   837.33228005507,               0.0,               0.0],\n",
       "[              0.0,              0.0,               0.0,               0.0,               0.0,               0.0,  -837.33228005507,   3205.6656133884,               0.0,              0.0,               0.0,               0.0,   837.33228005507,  -837.33228005507,               0.0, -2368.33333333333],\n",
       "[              0.0,              0.0,               0.0,               0.0,               0.0,               0.0, -2368.33333333333,               0.0,   3205.6656133884, -837.33228005507,               0.0,               0.0,               0.0,               0.0,  -837.33228005507,   837.33228005507],\n",
       "[              0.0,              0.0,               0.0,               0.0,               0.0,               0.0,               0.0,               0.0,  -837.33228005507,  837.33228005507,               0.0,               0.0,               0.0,               0.0,   837.33228005507,  -837.33228005507],\n",
       "[ -837.33228005507, -837.33228005507,               0.0,               0.0,               0.0,               0.0,               0.0,               0.0,               0.0,              0.0,   3205.6656133884,   837.33228005507, -2368.33333333333,               0.0,               0.0,               0.0],\n",
       "[ -837.33228005507, -837.33228005507,               0.0, -2368.33333333333,               0.0,               0.0,               0.0,               0.0,               0.0,              0.0,   837.33228005507,   3205.6656133884,               0.0,               0.0,               0.0,               0.0],\n",
       "[              0.0,              0.0,  -837.33228005507,  -837.33228005507,               0.0,               0.0,  -837.33228005507,   837.33228005507,               0.0,              0.0, -2368.33333333333,               0.0,  6411.33122677681,               0.0, -2368.33333333333,               0.0],\n",
       "[              0.0,              0.0,  -837.33228005507,  -837.33228005507,               0.0, -2368.33333333333,   837.33228005507,  -837.33228005507,               0.0,              0.0,               0.0,               0.0,               0.0,  4042.99789344347,               0.0,               0.0],\n",
       "[              0.0,              0.0,               0.0,               0.0,               0.0,               0.0,               0.0,               0.0,  -837.33228005507,  837.33228005507,               0.0,               0.0, -2368.33333333333,               0.0,   3205.6656133884,  -837.33228005507],\n",
       "[              0.0,              0.0,               0.0,               0.0,               0.0,               0.0,               0.0, -2368.33333333333,   837.33228005507, -837.33228005507,               0.0,               0.0,               0.0,               0.0,  -837.33228005507,   3205.6656133884]])"
      ]
     },
     "metadata": {},
     "output_type": "display_data"
    }
   ],
   "source": [
    "# Make units consistant\n",
    "ft_to_in = 12\n",
    "dof_per_node = 2\n",
    "n_nodes = len(nodes)\n",
    "n_dof = dof_per_node * n_nodes\n",
    "\n",
    "# Map the DOFs\n",
    "def get_dof_indices(n1, n2):\n",
    "    return [\n",
    "        2 * n1, 2 * n1 + 1,\n",
    "        2 * n2, 2 * n2 + 1\n",
    "    ]\n",
    "\n",
    "\n",
    "# Construct the global stiffness matrix\n",
    "K_global = np.zeros((n_dof, n_dof))\n",
    "for i, (n1, n2) in enumerate(members):\n",
    "    T, L_ft, c, s = compute_transformation_matrix(nodes[n1], nodes[n2])\n",
    "    L_in = L_ft * ft_to_in\n",
    "\n",
    "    # Local stiffness in local coords (2x2)\n",
    "    k_local = (A * E / L_in) * np.array([[1, -1], [-1, 1]])\n",
    "    T_full = T\n",
    "    k_global = T_full.T @ k_local @ T_full  # (4x2).T x (2x2) x (4x2)\n",
    "\n",
    "    dof_idxs = get_dof_indices(n1, n2)\n",
    "    for a in range(4):\n",
    "        for b in range(4):\n",
    "            K_global[dof_idxs[a], dof_idxs[b]] += k_global[a, b]\n",
    "\n",
    "np.set_printoptions(precision=3, suppress=True)\n",
    "print(\"Global Stiffness Matrix K:\")\n",
    "display(sym.Matrix(K_global))\n"
   ]
  },
  {
   "cell_type": "markdown",
   "id": "a7fc0276",
   "metadata": {},
   "source": [
    "## Solve the linear system \n",
    "in Python and calculate the forces in the truss members. Compare with the result found in Question 4"
   ]
  },
  {
   "cell_type": "code",
   "execution_count": null,
   "id": "b8a38fd6",
   "metadata": {},
   "outputs": [
    {
     "name": "stdout",
     "output_type": "stream",
     "text": [
      "\n",
      "Axial Forces in Members:\n",
      "Member 0 (Node 5-6): -18000.00 lb\n",
      "Member 1 (Node 6-7): -18000.00 lb\n",
      "Member 2 (Node 0-1): -3000.00 lb\n",
      "Member 3 (Node 1-2): 3000.00 lb\n",
      "Member 4 (Node 2-3): 3000.00 lb\n",
      "Member 5 (Node 3-4): -3000.00 lb\n",
      "Member 6 (Node 0-5): -25455.84 lb\n",
      "Member 7 (Node 1-5): 18000.00 lb\n",
      "Member 8 (Node 1-6): -8485.28 lb\n",
      "Member 9 (Node 2-6): 12000.00 lb\n",
      "Member 10 (Node 3-6): -8485.28 lb\n",
      "Member 11 (Node 3-7): 18000.00 lb\n",
      "Member 12 (Node 4-7): -25455.84 lb\n"
     ]
    }
   ],
   "source": [
    "# Add in loading conditions\n",
    "F_global = np.zeros(n_dof)\n",
    "F_global[3] = -12000\n",
    "F_global[5] = -12000\n",
    "F_global[7] = -12000\n",
    "\n",
    "# Boundary nodes\n",
    "fixed_dofs = [0, 1, 8, 9]\n",
    "\n",
    "# Free nodes\n",
    "all_dofs = np.arange(n_dof)\n",
    "free_dofs = np.setdiff1d(all_dofs, fixed_dofs)\n",
    "\n",
    "# Reduce K and F\n",
    "K_reduced = K_global[np.ix_(free_dofs, free_dofs)]\n",
    "F_reduced = F_global[free_dofs]\n",
    "\n",
    "# Solve the system\n",
    "U_reduced = np.linalg.solve(K_reduced, F_reduced)\n",
    "\n",
    "# Find the displacments\n",
    "U_global = np.zeros(n_dof)\n",
    "U_global[free_dofs] = U_reduced\n",
    "\n",
    "# Calculate all the forces\n",
    "member_forces = []\n",
    "for i, (n1, n2) in enumerate(members):\n",
    "    data = transformations[i]\n",
    "    T = data['T']\n",
    "    L_in = data['length'] * ft_to_in\n",
    "\n",
    "    k_local = (A * E / L_in) * np.array([[1, -1], [-1, 1]])\n",
    "    dof_idxs = get_dof_indices(n1, n2)\n",
    "\n",
    "    u_global = U_global[dof_idxs]\n",
    "\n",
    "    u_local = T @ u_global\n",
    "    f_local = k_local @ u_local\n",
    "    \n",
    "    axial_force = f_local[1]\n",
    "    member_forces.append(axial_force)\n",
    "\n",
    "print(\"\\nAxial Forces in Members:\")\n",
    "for i, force in enumerate(member_forces):\n",
    "    n1, n2 = members[i]\n",
    "    print(f\"Member {i} (Node {n1}-{n2}): {force:.2f} lb\")\n"
   ]
  },
  {
   "cell_type": "markdown",
   "id": "7dac32f2",
   "metadata": {},
   "source": [
    "## Determine the mid-span deflection \n",
    "in the vertical direction. Compare with the results found in questions 2 and 5"
   ]
  },
  {
   "cell_type": "code",
   "execution_count": 36,
   "id": "ae646d9a",
   "metadata": {},
   "outputs": [
    {
     "name": "stdout",
     "output_type": "stream",
     "text": [
      "Mid-span deflection in inches: -50.196587 in\n",
      "Mid-span deflection in feet  : -4.183049 ft\n"
     ]
    }
   ],
   "source": [
    "mid_span_deflection = U_global[5]\n",
    "print(f\"Mid-span deflection in inches: {mid_span_deflection:.6f} in\")\n",
    "print(f\"Mid-span deflection in feet  : {mid_span_deflection / 12:.6f} ft\")\n"
   ]
  },
  {
   "cell_type": "code",
   "execution_count": 42,
   "id": "d933e6f3",
   "metadata": {},
   "outputs": [
    {
     "data": {
      "image/png": "[encoded data removed]",
      "text/plain": [
       "<Figure size 1000x500 with 1 Axes>"
      ]
     },
     "metadata": {},
     "output_type": "display_data"
    }
   ],
   "source": [
    "scale = 1 / 12 # forgot to fix units lol\n",
    "\n",
    "# Find displaced node locations\n",
    "displaced_nodes = {}\n",
    "for i in range(n_nodes):\n",
    "    ux = U_global[2 * i]\n",
    "    uy = U_global[2 * i + 1]\n",
    "    x, y = nodes[i]\n",
    "    displaced_nodes[i] = (x + scale * ux, y + scale * uy)\n",
    "\n",
    "# Color members\n",
    "# Red -> compression\n",
    "# Black -> no force\n",
    "# Blue -> compression\n",
    "def get_member_color(force, max_force):\n",
    "    if abs(force) < 1e-3:\n",
    "        return 'black'\n",
    "    norm_force = min(abs(force) / max_force, 1.0)\n",
    "    if force > 0:\n",
    "        return mcolors.to_hex((0, 0, norm_force))\n",
    "    else:\n",
    "        return mcolors.to_hex((norm_force, 0, 0))\n",
    "max_force = max(abs(f) for f in member_forces)\n",
    "\n",
    "# Plot undeformed truss\n",
    "fig, ax = plt.subplots(figsize=(10, 5))\n",
    "for n1, n2 in members:\n",
    "    x_vals = [nodes[n1][0], nodes[n2][0]]\n",
    "    y_vals = [nodes[n1][1], nodes[n2][1]]\n",
    "    ax.plot(x_vals, y_vals, 'k--', linewidth=0.5, alpha=0.5)\n",
    "\n",
    "# Plot deformed truss\n",
    "for i, (n1, n2) in enumerate(members):\n",
    "    x_vals = [displaced_nodes[n1][0], displaced_nodes[n2][0]]\n",
    "    y_vals = [displaced_nodes[n1][1], displaced_nodes[n2][1]]\n",
    "    color = get_member_color(member_forces[i], max_force)\n",
    "    ax.plot(x_vals, y_vals, color=color, linewidth=2)\n",
    "\n",
    "ax.set_aspect('equal')\n",
    "ax.set_title(\"Deflected Howe Truss\")\n",
    "ax.set_xlabel(\"X Position (ft)\")\n",
    "ax.set_ylabel(\"Y Position (ft)\")\n",
    "plt.grid(True)\n",
    "plt.show()\n"
   ]
  },
  {
   "cell_type": "code",
   "execution_count": null,
   "id": "2911b572",
   "metadata": {},
   "outputs": [],
   "source": []
  }
 ],
 "metadata": {
  "kernelspec": {
   "display_name": "ae353",
   "language": "python",
   "name": "python3"
  },
  "language_info": {
   "codemirror_mode": {
    "name": "ipython",
    "version": 3
   },
   "file_extension": ".py",
   "mimetype": "text/x-python",
   "name": "python",
   "nbconvert_exporter": "python",
   "pygments_lexer": "ipython3",
   "version": "3.13.1"
  }
 },
 "nbformat": 4,
 "nbformat_minor": 5
}
