{
 "cells": [
  {
   "cell_type": "markdown",
   "id": "2192b108",
   "metadata": {},
   "source": [
    "# Derive models of drone"
   ]
  },
  {
   "cell_type": "markdown",
   "id": "6ac3a4e5",
   "metadata": {},
   "source": [
    "Do all imports."
   ]
  },
  {
   "cell_type": "code",
   "execution_count": 1,
   "id": "c51ddd4f",
   "metadata": {},
   "outputs": [],
   "source": [
    "import sympy as sym\n",
    "import numpy as np\n",
    "\n",
    "# Suppress the use of scientific notation when printing small numbers\n",
    "np.set_printoptions(suppress=True)"
   ]
  },
  {
   "cell_type": "markdown",
   "id": "under-stupid",
   "metadata": {},
   "source": [
    "## Dynamic model"
   ]
  },
  {
   "cell_type": "markdown",
   "id": "17737b05",
   "metadata": {},
   "source": [
    "Define physical parameters."
   ]
  },
  {
   "cell_type": "code",
   "execution_count": 2,
   "id": "e1b2349d",
   "metadata": {},
   "outputs": [],
   "source": [
    "params = {\n",
    "    'm': 0.5,\n",
    "    'Jx': 0.0023,\n",
    "    'Jy': 0.0023,\n",
    "    'Jz': 0.0040,\n",
    "    'l': 0.175,\n",
    "    'g': 9.81,\n",
    "}"
   ]
  },
  {
   "cell_type": "markdown",
   "id": "following-implementation",
   "metadata": {},
   "source": [
    "Derive the equations of motion:"
   ]
  },
  {
   "cell_type": "code",
   "execution_count": 3,
   "id": "executive-channel",
   "metadata": {},
   "outputs": [],
   "source": [
    "# components of position (meters)\n",
    "p_x, p_y, p_z = sym.symbols('p_x, p_y, p_z')\n",
    "\n",
    "# yaw, pitch, roll angles (radians)\n",
    "psi, theta, phi = sym.symbols('psi, theta, phi')\n",
    "\n",
    "# components of linear velocity (meters / second)\n",
    "v_x, v_y, v_z = sym.symbols('v_x, v_y, v_z')\n",
    "v_in_body = sym.Matrix([v_x, v_y, v_z])\n",
    "\n",
    "# components of angular velocity (radians / second)\n",
    "w_x, w_y, w_z = sym.symbols('w_x, w_y, w_z')\n",
    "w_in_body = sym.Matrix([w_x, w_y, w_z])\n",
    "\n",
    "# components of net rotor torque\n",
    "tau_x, tau_y, tau_z = sym.symbols('tau_x, tau_y, tau_z')\n",
    "\n",
    "# net rotor force\n",
    "f_z = sym.symbols('f_z')\n",
    "\n",
    "# parameters\n",
    "m = sym.nsimplify(params['m'])\n",
    "Jx = sym.nsimplify(params['Jx'])\n",
    "Jy = sym.nsimplify(params['Jy'])\n",
    "Jz = sym.nsimplify(params['Jz'])\n",
    "l = sym.nsimplify(params['l'])\n",
    "g = sym.nsimplify(params['g'])\n",
    "J = sym.diag(Jx, Jy, Jz)\n",
    "\n",
    "# rotation matrices\n",
    "Rz = sym.Matrix([[sym.cos(psi), -sym.sin(psi), 0], [sym.sin(psi), sym.cos(psi), 0], [0, 0, 1]])\n",
    "Ry = sym.Matrix([[sym.cos(theta), 0, sym.sin(theta)], [0, 1, 0], [-sym.sin(theta), 0, sym.cos(theta)]])\n",
    "Rx = sym.Matrix([[1, 0, 0], [0, sym.cos(phi), -sym.sin(phi)], [0, sym.sin(phi), sym.cos(phi)]])\n",
    "R_body_in_world = Rz @ Ry @ Rx\n",
    "\n",
    "# angular velocity to angular rates\n",
    "ex = sym.Matrix([[1], [0], [0]])\n",
    "ey = sym.Matrix([[0], [1], [0]])\n",
    "ez = sym.Matrix([[0], [0], [1]])\n",
    "M = sym.simplify(sym.Matrix.hstack((Ry @ Rx).T @ ez, Rx.T @ ey, ex).inv(), full=True)\n",
    "\n",
    "# applied forces\n",
    "f_in_body = R_body_in_world.T @ sym.Matrix([[0], [0], [-m * g]]) + sym.Matrix([[0], [0], [f_z]])\n",
    "\n",
    "# applied torques\n",
    "tau_in_body = sym.Matrix([[tau_x], [tau_y], [tau_z]])\n",
    "\n",
    "# equations of motion\n",
    "f = sym.Matrix.vstack(\n",
    "    R_body_in_world @ v_in_body,\n",
    "    M @ w_in_body,\n",
    "    (1 / m) * (f_in_body - w_in_body.cross(m * v_in_body)),\n",
    "    J.inv() @ (tau_in_body - w_in_body.cross(J @ w_in_body)),\n",
    ")\n",
    "\n",
    "f = sym.simplify(f, full=True)"
   ]
  },
  {
   "cell_type": "markdown",
   "id": "according-occasion",
   "metadata": {},
   "source": [
    "The equations of motion have this form:\n",
    "\n",
    "$$\\begin{bmatrix} \\dot{p}_x \\\\ \\dot{p}_y \\\\ \\dot{p}_z \\\\ \\dot{\\psi} \\\\ \\dot{\\theta} \\\\ \\dot{\\phi} \\\\ \\dot{v}_x \\\\ \\dot{v}_y \\\\ \\dot{v}_z \\\\ \\dot{w}_x \\\\ \\dot{w}_y \\\\ \\dot{w}_z \\end{bmatrix} = f\\left(p_x, p_y, p_z, \\psi, \\theta, \\phi, v_x, v_y, v_z, w_x, w_y, w_z, \\tau_x, \\tau_y, \\tau_z, f_z \\right)$$\n",
    "\n",
    "Here is the function $f$:"
   ]
  },
  {
   "cell_type": "code",
   "execution_count": 4,
   "id": "welsh-passion",
   "metadata": {},
   "outputs": [
    {
     "data": {
      "text/latex": [
       "$\\displaystyle \\left[\\begin{matrix}v_{x} \\cos{\\left(\\psi \\right)} \\cos{\\left(\\theta \\right)} + v_{y} \\left(\\sin{\\left(\\phi \\right)} \\sin{\\left(\\theta \\right)} \\cos{\\left(\\psi \\right)} - \\sin{\\left(\\psi \\right)} \\cos{\\left(\\phi \\right)}\\right) + v_{z} \\left(\\sin{\\left(\\phi \\right)} \\sin{\\left(\\psi \\right)} + \\sin{\\left(\\theta \\right)} \\cos{\\left(\\phi \\right)} \\cos{\\left(\\psi \\right)}\\right)\\\\v_{x} \\sin{\\left(\\psi \\right)} \\cos{\\left(\\theta \\right)} + v_{y} \\left(\\sin{\\left(\\phi \\right)} \\sin{\\left(\\psi \\right)} \\sin{\\left(\\theta \\right)} + \\cos{\\left(\\phi \\right)} \\cos{\\left(\\psi \\right)}\\right) - v_{z} \\left(\\sin{\\left(\\phi \\right)} \\cos{\\left(\\psi \\right)} - \\sin{\\left(\\psi \\right)} \\sin{\\left(\\theta \\right)} \\cos{\\left(\\phi \\right)}\\right)\\\\- v_{x} \\sin{\\left(\\theta \\right)} + v_{y} \\sin{\\left(\\phi \\right)} \\cos{\\left(\\theta \\right)} + v_{z} \\cos{\\left(\\phi \\right)} \\cos{\\left(\\theta \\right)}\\\\\\frac{w_{y} \\sin{\\left(\\phi \\right)} + w_{z} \\cos{\\left(\\phi \\right)}}{\\cos{\\left(\\theta \\right)}}\\\\w_{y} \\cos{\\left(\\phi \\right)} - w_{z} \\sin{\\left(\\phi \\right)}\\\\w_{x} + w_{y} \\sin{\\left(\\phi \\right)} \\tan{\\left(\\theta \\right)} + w_{z} \\cos{\\left(\\phi \\right)} \\tan{\\left(\\theta \\right)}\\\\v_{y} w_{z} - v_{z} w_{y} + \\frac{981 \\sin{\\left(\\theta \\right)}}{100}\\\\- v_{x} w_{z} + v_{z} w_{x} - \\frac{981 \\sin{\\left(\\phi \\right)} \\cos{\\left(\\theta \\right)}}{100}\\\\2 f_{z} + v_{x} w_{y} - v_{y} w_{x} - \\frac{981 \\cos{\\left(\\phi \\right)} \\cos{\\left(\\theta \\right)}}{100}\\\\\\frac{10000 \\tau_{x}}{23} - \\frac{17 w_{y} w_{z}}{23}\\\\\\frac{10000 \\tau_{y}}{23} + \\frac{17 w_{x} w_{z}}{23}\\\\250 \\tau_{z}\\end{matrix}\\right]$"
      ],
      "text/plain": [
       "Matrix([\n",
       "[v_x*cos(psi)*cos(theta) + v_y*(sin(phi)*sin(theta)*cos(psi) - sin(psi)*cos(phi)) + v_z*(sin(phi)*sin(psi) + sin(theta)*cos(phi)*cos(psi))],\n",
       "[v_x*sin(psi)*cos(theta) + v_y*(sin(phi)*sin(psi)*sin(theta) + cos(phi)*cos(psi)) - v_z*(sin(phi)*cos(psi) - sin(psi)*sin(theta)*cos(phi))],\n",
       "[                                                                      -v_x*sin(theta) + v_y*sin(phi)*cos(theta) + v_z*cos(phi)*cos(theta)],\n",
       "[                                                                                                 (w_y*sin(phi) + w_z*cos(phi))/cos(theta)],\n",
       "[                                                                                                              w_y*cos(phi) - w_z*sin(phi)],\n",
       "[                                                                                  w_x + w_y*sin(phi)*tan(theta) + w_z*cos(phi)*tan(theta)],\n",
       "[                                                                                                   v_y*w_z - v_z*w_y + 981*sin(theta)/100],\n",
       "[                                                                                         -v_x*w_z + v_z*w_x - 981*sin(phi)*cos(theta)/100],\n",
       "[                                                                                  2*f_z + v_x*w_y - v_y*w_x - 981*cos(phi)*cos(theta)/100],\n",
       "[                                                                                                           10000*tau_x/23 - 17*w_y*w_z/23],\n",
       "[                                                                                                           10000*tau_y/23 + 17*w_x*w_z/23],\n",
       "[                                                                                                                                250*tau_z]])"
      ]
     },
     "execution_count": 4,
     "metadata": {},
     "output_type": "execute_result"
    }
   ],
   "source": [
    "f"
   ]
  },
  {
   "cell_type": "markdown",
   "id": "b0c8096f",
   "metadata": {},
   "source": [
    "## Sensor model"
   ]
  },
  {
   "cell_type": "markdown",
   "id": "9fd374c5",
   "metadata": {},
   "source": [
    "Define the sensor model."
   ]
  },
  {
   "cell_type": "code",
   "execution_count": 5,
   "id": "14255c26",
   "metadata": {},
   "outputs": [],
   "source": [
    "# Position of drone in world frame\n",
    "p_in_world = sym.Matrix([p_x, p_y, p_z])\n",
    "\n",
    "# Position of markers in body frame\n",
    "a_in_body = sym.Matrix([0, l, 0])  # <-- marker on left rotor\n",
    "b_in_body = sym.Matrix([0, -l, 0]) # <-- marker on right rotor\n",
    "\n",
    "# Position of markers in world frame\n",
    "a_in_world = p_in_world + R_body_in_world @ a_in_body\n",
    "b_in_world = p_in_world + R_body_in_world @ b_in_body\n",
    "\n",
    "# Sensor model\n",
    "g = sym.simplify(sym.Matrix.vstack(a_in_world, b_in_world))"
   ]
  },
  {
   "cell_type": "markdown",
   "id": "8e33f4f7",
   "metadata": {},
   "source": [
    "The sensor model has this form:\n",
    "\n",
    "$$o = g(p_x, p_y, p_z, \\psi, \\theta, \\phi)$$\n",
    "\n",
    "Here is the function $g$:"
   ]
  },
  {
   "cell_type": "code",
   "execution_count": 6,
   "id": "ecc9e8bd",
   "metadata": {},
   "outputs": [
    {
     "data": {
      "text/latex": [
       "$\\displaystyle \\left[\\begin{matrix}p_{x} + \\frac{7 \\sin{\\left(\\phi \\right)} \\sin{\\left(\\theta \\right)} \\cos{\\left(\\psi \\right)}}{40} - \\frac{7 \\sin{\\left(\\psi \\right)} \\cos{\\left(\\phi \\right)}}{40}\\\\p_{y} + \\frac{7 \\sin{\\left(\\phi \\right)} \\sin{\\left(\\psi \\right)} \\sin{\\left(\\theta \\right)}}{40} + \\frac{7 \\cos{\\left(\\phi \\right)} \\cos{\\left(\\psi \\right)}}{40}\\\\p_{z} + \\frac{7 \\sin{\\left(\\phi \\right)} \\cos{\\left(\\theta \\right)}}{40}\\\\p_{x} - \\frac{7 \\sin{\\left(\\phi \\right)} \\sin{\\left(\\theta \\right)} \\cos{\\left(\\psi \\right)}}{40} + \\frac{7 \\sin{\\left(\\psi \\right)} \\cos{\\left(\\phi \\right)}}{40}\\\\p_{y} - \\frac{7 \\sin{\\left(\\phi \\right)} \\sin{\\left(\\psi \\right)} \\sin{\\left(\\theta \\right)}}{40} - \\frac{7 \\cos{\\left(\\phi \\right)} \\cos{\\left(\\psi \\right)}}{40}\\\\p_{z} - \\frac{7 \\sin{\\left(\\phi \\right)} \\cos{\\left(\\theta \\right)}}{40}\\end{matrix}\\right]$"
      ],
      "text/plain": [
       "Matrix([\n",
       "[p_x + 7*sin(phi)*sin(theta)*cos(psi)/40 - 7*sin(psi)*cos(phi)/40],\n",
       "[p_y + 7*sin(phi)*sin(psi)*sin(theta)/40 + 7*cos(phi)*cos(psi)/40],\n",
       "[                                  p_z + 7*sin(phi)*cos(theta)/40],\n",
       "[p_x - 7*sin(phi)*sin(theta)*cos(psi)/40 + 7*sin(psi)*cos(phi)/40],\n",
       "[p_y - 7*sin(phi)*sin(psi)*sin(theta)/40 - 7*cos(phi)*cos(psi)/40],\n",
       "[                                  p_z - 7*sin(phi)*cos(theta)/40]])"
      ]
     },
     "execution_count": 6,
     "metadata": {},
     "output_type": "execute_result"
    }
   ],
   "source": [
    "g"
   ]
  },
  {
   "cell_type": "markdown",
   "id": "fd57d98d",
   "metadata": {},
   "source": [
    "## Find A and B"
   ]
  },
  {
   "cell_type": "code",
   "execution_count": 20,
   "id": "abab5704",
   "metadata": {},
   "outputs": [
    {
     "name": "stdout",
     "output_type": "stream",
     "text": [
      "Matrix A:\n",
      "[[0.0, 0.0, 0.0, 0.0, 0.0, 0.0, 1.0, 0.0, 0.0, 0.0, 0.0, 0.0], [0.0, 0.0, 0.0, 0.0, 0.0, 0.0, 0.0, 1.0, 0.0, 0.0, 0.0, 0.0], [0.0, 0.0, 0.0, 0.0, 0.0, 0.0, -0.0, 0.0, 1.0, 0.0, 0.0, 0.0], [0.0, 0.0, 0.0, 0.0, 0.0, 0.0, 0.0, 0.0, 0.0, 0.0, 0.0, 1.0], [0.0, 0.0, 0.0, 0.0, 0.0, 0.0, 0.0, 0.0, 0.0, 0.0, 1.0, -0.0], [0.0, 0.0, 0.0, 0.0, 0.0, 0.0, 0.0, 0.0, 0.0, 1.0, 0.0, 0.0], [0.0, 0.0, 0.0, 0.0, 9.81, 0.0, 0.0, 0.0, 0.0, 0.0, 0.0, 0.0], [0.0, 0.0, 0.0, 0.0, 0.0, -9.81, 0.0, 0.0, 0.0, 0.0, 0.0, 0.0], [0.0, 0.0, 0.0, 0.0, 0.0, 0.0, 0.0, 0.0, 0.0, 0.0, 0.0, 0.0], [0.0, 0.0, 0.0, 0.0, 0.0, 0.0, 0.0, 0.0, 0.0, 0.0, -0.0, -0.0], [0.0, 0.0, 0.0, 0.0, 0.0, 0.0, 0.0, 0.0, 0.0, 0.0, 0.0, 0.0], [0.0, 0.0, 0.0, 0.0, 0.0, 0.0, 0.0, 0.0, 0.0, 0.0, 0.0, 0.0]]\n",
      "Matrix B:\n",
      "[[0.0, 0.0, 0.0, 0.0], [0.0, 0.0, 0.0, 0.0], [0.0, 0.0, 0.0, 0.0], [0.0, 0.0, 0.0, 0.0], [0.0, 0.0, 0.0, 0.0], [0.0, 0.0, 0.0, 0.0], [0.0, 0.0, 0.0, 0.0], [0.0, 0.0, 0.0, 0.0], [0.0, 0.0, 0.0, 2.0], [434.7826086956522, 0.0, 0.0, 0.0], [0.0, 434.7826086956522, 0.0, 0.0], [0.0, 0.0, 250.0, 0.0]]\n"
     ]
    }
   ],
   "source": [
    "from scipy.linalg import solve_continuous_are\n",
    "import numpy.linalg as la\n",
    "\n",
    "m = (p_x,p_y,p_z,psi,theta,phi,v_x,v_y,v_z,w_x,w_y,w_z)\n",
    "n = (tau_x,tau_y,tau_z,f_z)\n",
    "mn = (p_x,p_y,p_z,psi,theta,phi,v_x,v_y,v_z,w_x,w_y,w_z,tau_x,tau_y,tau_z,f_z)\n",
    "\n",
    "An = sym.lambdify(mn, f.jacobian(m))\n",
    "Bn = sym.lambdify(mn, f.jacobian(n))\n",
    "\n",
    "A = An(0,0,0,0,0,0,0,0,0,0,0,0,0,0,0,0)\n",
    "B = Bn(0,0,0,0,0,0,0,0,0,0,0,0,0,0,0,0)\n",
    "print(\"Matrix A:\")\n",
    "print(A.tolist())\n",
    "print(\"Matrix B:\")\n",
    "print(B.tolist())"
   ]
  },
  {
   "cell_type": "code",
   "execution_count": 13,
   "id": "62e9ca67",
   "metadata": {},
   "outputs": [],
   "source": [
    "def lqr(A, B, Q, R):\n",
    "    P = solve_continuous_are(A, B, Q, R)\n",
    "    K = la.inv(R) @ B.T @ P\n",
    "    return K"
   ]
  },
  {
   "cell_type": "code",
   "execution_count": 14,
   "id": "17bd2a33",
   "metadata": {},
   "outputs": [
    {
     "name": "stdout",
     "output_type": "stream",
     "text": [
      "System is controllable.\n",
      "Matrix K:\n",
      "[[1.0690978283355357e-16, -0.9999999999999986, 9.216661203999703e-17, 1.9123884871291397e-15, 3.4970580298294006e-15, 5.462132179920029, -3.1471776083481423e-15, -1.4538172313903344, 3.869534644780097e-15, 1.0124849668156224, 1.1519001360851602e-16, 2.0420473967275664e-16], [1.0000000000000009, 1.6735294837481088e-15, 1.401165385307871e-16, 4.876321589103552e-16, 5.462132179920066, 5.743508558311876e-15, 1.453817231390347, 1.0367594817247018e-16, 2.833104167048431e-16, 1.1519001360851602e-16, 1.0124849668156217, 5.2095906539437894e-17], [1.7826550200871787e-16, -7.114706402618334e-17, -6.009871410775964e-16, 1.0000000000000013, 4.40194436770896e-15, 1.1375719984630585e-15, -1.4535406810881632e-15, -3.150453237707317e-16, -2.2454950149551625e-16, 1.1741772531183507e-16, 2.995514626017679e-17, 1.00399203184089], [1.612671570200053e-16, 2.5234993309509705e-16, 0.9999999999999996, -6.609906583286819e-17, 4.1744919651083055e-16, -1.0211337709790963e-15, 1.795072436372342e-16, 4.703257046903045e-16, 1.4142135623730954, 1.7799859365988446e-17, 1.303227916842278e-18, -1.7963960119641302e-18]]\n"
     ]
    }
   ],
   "source": [
    "Q = np.diag((1,1,1,1,1,1,1,1,1,1,1,1)) * 1\n",
    "R = np.diag((1,1,1,1)) * 1\n",
    "\n",
    "W = B\n",
    "for i in range(1, A.shape[0]):\n",
    "    W = np.block([W, la.matrix_power(A, i) @ B])\n",
    "\n",
    "if W.shape[0] == la.matrix_rank(W):\n",
    "    print(\"System is controllable.\")\n",
    "    K = lqr(A,B,Q,R)\n",
    "    print(\"Matrix K:\")\n",
    "    print(K.tolist())\n",
    "else:\n",
    "    print(\"System is not controllable.\")"
   ]
  },
  {
   "cell_type": "code",
   "execution_count": 15,
   "id": "3c2924d6",
   "metadata": {},
   "outputs": [
    {
     "name": "stdout",
     "output_type": "stream",
     "text": [
      "[[0], [0.175000000000000], [0], [0], [-0.175000000000000], [0]]\n"
     ]
    }
   ],
   "source": [
    "o_e = g.subs({p_x: 0, p_y: 0, p_z: 0, psi: 0, theta: 0, phi: 0})\n",
    "print(o_e.evalf().tolist())"
   ]
  },
  {
   "cell_type": "code",
   "execution_count": 16,
   "id": "5cbe1e06",
   "metadata": {},
   "outputs": [
    {
     "name": "stdout",
     "output_type": "stream",
     "text": [
      "Matrix C:\n",
      "[[1.0, 0.0, 0.0, -0.175, 0.0, 0.0, 0.0, 0.0, 0.0, 0.0, 0.0, 0.0], [0.0, 1.0, 0.0, 0.0, 0.0, 0.0, 0.0, 0.0, 0.0, 0.0, 0.0, 0.0], [0.0, 0.0, 1.0, 0.0, -0.0, 0.175, 0.0, 0.0, 0.0, 0.0, 0.0, 0.0], [1.0, 0.0, 0.0, 0.175, -0.0, -0.0, 0.0, 0.0, 0.0, 0.0, 0.0, 0.0], [0.0, 1.0, 0.0, 0.0, -0.0, 0.0, 0.0, 0.0, 0.0, 0.0, 0.0, 0.0], [0.0, 0.0, 1.0, 0.0, 0.0, -0.175, 0.0, 0.0, 0.0, 0.0, 0.0, 0.0]]\n"
     ]
    }
   ],
   "source": [
    "m = (p_x,p_y,p_z,psi,theta,phi)\n",
    "n = ()\n",
    "mn = (p_x,p_y,p_z,psi,theta,phi)\n",
    "\n",
    "# No D because there are no inputs in the sensor model\n",
    "Cn = sym.lambdify(mn, g.jacobian(m))\n",
    "#Dn = sym.lambdify(mn, f.jacobian(n))\n",
    "\n",
    "C = Cn(0,0,0,0,0,0)\n",
    "C = np.hstack((C, np.zeros((C.shape[0], 6))))\n",
    "#D = Dn(0,0,0,0,0,0)\n",
    "print(\"Matrix C:\")\n",
    "print(C.tolist())\n",
    "# print(\"Matrix D:\")\n",
    "# print(D.tolist())"
   ]
  },
  {
   "cell_type": "code",
   "execution_count": 18,
   "id": "7378bcba",
   "metadata": {},
   "outputs": [
    {
     "name": "stdout",
     "output_type": "stream",
     "text": [
      "System is observable.\n",
      "Matrix L:\n",
      "[[2.9753760189621703, 1.0081449585351537e-15, -9.168280250544893e-17, 2.9753760189621703, 1.0081449585351537e-15, 9.16828025001474e-17], [1.013529909750936e-15, 2.9271137918024235, -0.21976816368497756, 1.0027600073193713e-15, 2.9271137918024235, 0.21976816368497815], [2.3735251220963706e-18, 2.948667518607218e-16, 1.0986841134678091, -2.373525127397908e-18, 2.948667518607218e-16, 1.0986841134678091], [-2.130870755866928, -3.0771149804471156e-17, -8.063485983032896e-17, 2.1308707558669253, -3.0771149804471156e-17, 5.350885840464738e-17], [1.3054317390112538, 1.0248304349207444e-15, -8.449765858237292e-17, 1.3054317390112533, 1.0248304349207444e-15, 8.449765857836918e-17], [-4.568298694699299e-16, -1.2558180781998736, 0.3042973803557072, -5.909735877049063e-16, -1.2558180781998736, -0.3042973803557077], [8.352862454215185, 4.6236819209162666e-15, -4.055583426375225e-16, 8.352862454215185, 4.6236819209162666e-15, 4.0555834261897337e-16], [2.9804292483059424e-15, 8.116293195929348, -1.191533568847741, 3.5765502015450835e-15, 8.116293195929348, 1.1915335688477433], [-1.138829781284749e-18, 3.9895332434258046e-17, 0.7071067811865475, 1.1388297687685066e-18, 3.9895332434258046e-17, 0.7071067811865475], [-8.574249377404041e-17, -0.6768313358185478, 0.2046932897143634, -1.0678926858195288e-16, -0.6768313358185478, -0.20469328971436374], [0.707106781186543, 9.458484201047036e-16, -6.817918452004437e-17, 0.7071067811865426, 9.458484201047036e-16, 6.817918451570768e-17], [-0.7071067811865518, -1.1121755395621002e-16, 3.9583255616087807e-17, 0.7071067811865513, -1.1121755395621002e-16, 2.4014558381966805e-17]]\n"
     ]
    }
   ],
   "source": [
    "# Define weight matrices for LQR\n",
    "Q0 = np.eye(C.shape[0]) * 1\n",
    "R0 = np.eye(A.shape[0]) * 1\n",
    "\n",
    "O = C\n",
    "for i in range(1, A.shape[0]):\n",
    "    O = np.vstack([O, C @ la.matrix_power(A, i)])\n",
    "\n",
    "if A.shape[0] == la.matrix_rank(O):\n",
    "    print(\"System is observable.\")\n",
    "    L = lqr(A.T, C.T, la.inv(R0), la.inv(Q0)).T\n",
    "    print(\"Matrix L:\")\n",
    "    print(L.tolist())\n",
    "else:\n",
    "    print(\"System is not observable, the rank is\", la.matrix_rank(O))"
   ]
  },
  {
   "cell_type": "code",
   "execution_count": null,
   "id": "2f1a597f",
   "metadata": {},
   "outputs": [],
   "source": []
  }
 ],
 "metadata": {
  "kernelspec": {
   "display_name": "ae353",
   "language": "python",
   "name": "python3"
  },
  "language_info": {
   "codemirror_mode": {
    "name": "ipython",
    "version": 3
   },
   "file_extension": ".py",
   "mimetype": "text/x-python",
   "name": "python",
   "nbconvert_exporter": "python",
   "pygments_lexer": "ipython3",
   "version": "3.13.1"
  }
 },
 "nbformat": 4,
 "nbformat_minor": 5
}
