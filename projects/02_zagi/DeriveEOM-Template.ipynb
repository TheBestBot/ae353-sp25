{
 "cells": [
  {
   "cell_type": "markdown",
   "id": "occasional-george",
   "metadata": {},
   "source": [
    "# Equations of motion for a \"zagi-like\" flying wing UAV"
   ]
  },
  {
   "cell_type": "markdown",
   "id": "d4cbc89f",
   "metadata": {},
   "source": [
    "Do imports."
   ]
  },
  {
   "cell_type": "code",
   "execution_count": 86,
   "id": "sitting-discount",
   "metadata": {},
   "outputs": [],
   "source": [
    "import numpy as np\n",
    "import sympy as sym\n",
    "from scipy import linalg\n",
    "import matplotlib.pyplot as plt\n",
    "from IPython.display import display, Markdown\n",
    "from scipy.signal import place_poles\n",
    "from scipy.linalg import solve_continuous_are\n",
    "from scipy.optimize import minimize"
   ]
  },
  {
   "cell_type": "markdown",
   "id": "e2bc1e04",
   "metadata": {},
   "source": [
    "Define variables and parameters as symbols."
   ]
  },
  {
   "cell_type": "code",
   "execution_count": 87,
   "id": "eb2cd207",
   "metadata": {},
   "outputs": [],
   "source": [
    "#\n",
    "# VARIABLES\n",
    "#\n",
    "\n",
    "# Time\n",
    "t = sym.Symbol('t', real=True)\n",
    "\n",
    "# Components of position (meters)\n",
    "p_x, p_y, p_z = sym.symbols('p_x, p_y, p_z', real=True)\n",
    "\n",
    "# Yaw, pitch, and roll angles (radians)\n",
    "psi, theta, phi = sym.symbols('psi, theta, phi', real=True)\n",
    "\n",
    "# Components of linear velocity in the body frame (meters / second)\n",
    "v_x, v_y, v_z = sym.symbols('v_x, v_y, v_z', real=True)\n",
    "\n",
    "# Components of angular velocity in the body frame (radians / second)\n",
    "w_x, w_y, w_z = sym.symbols('w_x, w_y, w_z', real=True)\n",
    "\n",
    "# Elevon angles\n",
    "delta_r, delta_l = sym.symbols('delta_r, delta_l', real=True)\n",
    "\n",
    "#\n",
    "# PARAMETERS\n",
    "#\n",
    "\n",
    "# Aerodynamic parameters\n",
    "rho, S, c, b = sym.symbols('rho, S, c, b', real=True)\n",
    "C_L_0, C_L_alpha, C_L_q, C_L_delta_e = sym.symbols('C_L_0, C_L_alpha, C_L_q, C_L_delta_e', real=True)\n",
    "C_D_0, C_D_alpha, C_D_q, C_D_delta_e = sym.symbols('C_D_0, C_D_alpha, C_D_q, C_D_delta_e', real=True)\n",
    "C_m_0, C_m_alpha, C_m_q, C_m_delta_e = sym.symbols('C_m_0, C_m_alpha, C_m_q, C_m_delta_e', real=True)\n",
    "C_Y_0, C_Y_beta, C_Y_p, C_Y_r, C_Y_delta_a = sym.symbols('C_Y_0, C_Y_beta, C_Y_p, C_Y_r, C_Y_delta_a', real=True)\n",
    "C_l_0, C_l_beta, C_l_p, C_l_r, C_l_delta_a = sym.symbols('C_l_0, C_l_beta, C_l_p, C_l_r, C_l_delta_a', real=True)\n",
    "C_n_0, C_n_beta, C_n_p, C_n_r, C_n_delta_a = sym.symbols('C_n_0, C_n_beta, C_n_p, C_n_r, C_n_delta_a', real=True)\n",
    "e, alpha_0, C_D_p, M = sym.symbols('e, alpha_0, C_D_p, M', real=True)\n",
    "k, k_e = sym.symbols('k, k_e', real=True)\n",
    "\n",
    "# Mass and inertia parameters\n",
    "J_x, J_y, J_z, J_xz = sym.symbols('J_x, J_y, J_z, J_xz', real=True)\n",
    "m, g = sym.symbols('m, g', real=True)"
   ]
  },
  {
   "cell_type": "markdown",
   "id": "9a082a6b",
   "metadata": {},
   "source": [
    "Define numerical values of parameters."
   ]
  },
  {
   "cell_type": "code",
   "execution_count": 88,
   "id": "43e0698b",
   "metadata": {},
   "outputs": [],
   "source": [
    "params = {\n",
    "    g: 9.81,               # Gravity (m/s²)\n",
    "    m: 1.56,               # Mass of the UAV (kg)\n",
    "    J_x: 0.1147,           # Moment of inertia about x-axis (kg·m²) [UPDATED 02/28/2025]\n",
    "    J_y: 0.0576,           # Moment of inertia about y-axis (kg·m²) [UPDATED 02/28/2025]\n",
    "    J_z: 0.1712,           # Moment of inertia about z-axis (kg·m²) [UPDATED 02/28/2025]\n",
    "    J_xz: 0.0015,          # Product of inertia (kg·m²)             [UPDATED 02/28/2025]\n",
    "\n",
    "    S: 0.4696,             # Wing area (m²)\n",
    "    b: 1.4224,             # Wingspan (m)\n",
    "    c: 0.3302,             # Mean aerodynamic chord (m)\n",
    "\n",
    "    rho: 1.2682,           # Air density (kg/m³)\n",
    "\n",
    "    # Lift Coefficients\n",
    "    C_L_0: 0.2,            # Lift coefficient at zero AoA\n",
    "    C_L_alpha: 4.8,        # Lift curve slope (1/rad)\n",
    "    C_L_q: 2.2,            # Pitch rate effect on lift (1/rad)\n",
    "\n",
    "    # Drag Coefficients\n",
    "    C_D_0: 0.02,           # Zero-lift drag coefficient\n",
    "    C_D_alpha: 0.30,       # Drag change per AoA (1/rad)\n",
    "    C_D_q: 0.0,            # Pitch rate effect on drag (1/rad)\n",
    "    C_D_p: 0.03,           # Parasitic drag coefficient\n",
    "\n",
    "    # Pitching Moment Coefficients\n",
    "    C_m_0: -0.02,          # Pitching moment at zero AoA\n",
    "    C_m_alpha: -0.6,       # Pitching moment change per AoA (1/rad)\n",
    "    C_m_q: -1.8,           # Pitch rate effect on moment (1/rad)\n",
    "    C_m_delta_e: -0.35,    # Effect of elevator deflection on pitching moment (1/rad)\n",
    "\n",
    "    # Side Force Coefficients\n",
    "    C_Y_0: 0.0,            # Side force at zero sideslip\n",
    "    C_Y_beta: -0.08,       # Side force per sideslip angle (1/rad)\n",
    "    C_Y_p: 0.0,            # Side force due to roll rate\n",
    "    C_Y_r: 0.0,            # Side force due to yaw rate\n",
    "    C_Y_delta_a: 0.0,      # Side force due to aileron deflection\n",
    "\n",
    "    # Roll Moment Coefficients\n",
    "    C_l_0: 0.0,            # Roll moment at zero sideslip\n",
    "    C_l_beta: -0.10,       # Roll moment due to sideslip (1/rad)\n",
    "    C_l_p: -0.45,          # Roll damping derivative (1/rad)\n",
    "    C_l_r: 0.03,           # Roll moment due to yaw rate (1/rad)\n",
    "    C_l_delta_a: 0.18,     # Aileron effect on roll (1/rad)\n",
    "\n",
    "    # Yaw Moment Coefficients\n",
    "    C_n_0: 0.0,            # Yaw moment at zero sideslip\n",
    "    C_n_beta: 0.008,       # Yaw moment due to sideslip (1/rad)\n",
    "    C_n_p: -0.022,         # Yaw moment due to roll rate (1/rad)\n",
    "    C_n_r: -0.009,         # Yaw damping derivative (1/rad)\n",
    "    C_n_delta_a: -0.004,   # Aileron effect on yaw (1/rad)\n",
    "\n",
    "    # Control Derivatives\n",
    "    C_L_delta_e: 0.30,     # Effect of elevator deflection on lift (1/rad)\n",
    "    C_D_delta_e: 0.32,     # Effect of elevator deflection on drag (1/rad)\n",
    "\n",
    "    # Efficiency Factors\n",
    "    e: 0.85,               # Oswald efficiency factor\n",
    "    alpha_0: 0.45,         # Zero-lift angle of attack (rad)\n",
    "\n",
    "    # Additional Drag & Lift Coefficients\n",
    "    M: 50.0,               # Sigmoid blending function parameter\n",
    "    k_e: 0.01,             # Drag due to elevator deflection (empirical coefficient)\n",
    "    k: 0.048               # Induced drag factor\n",
    "}"
   ]
  },
  {
   "cell_type": "markdown",
   "id": "ac2be7c3",
   "metadata": {},
   "source": [
    "Compute aerodynamic forces and torques (assuming low angles of attack, so no stall)."
   ]
  },
  {
   "cell_type": "code",
   "execution_count": 89,
   "id": "2e55a7b4",
   "metadata": {},
   "outputs": [],
   "source": [
    "# Get airspeed, angle of attack, and angle of sideslip\n",
    "V_a = sym.sqrt(v_x**2 + v_y**2 + v_z**2)\n",
    "alpha = sym.atan(v_z / v_x)\n",
    "beta = sym.asin(v_y / V_a)\n",
    "\n",
    "# Convert from right and left elevon deflections to equivalent elevator and aileron deflections\n",
    "delta_e = (delta_r + delta_l) / 2\n",
    "delta_a = (-delta_r + delta_l) / 2\n",
    "\n",
    "# Longitudinal aerodynamics\n",
    "C_L = C_L_0 + C_L_alpha * alpha\n",
    "F_lift = rho * V_a**2 * S * (C_L + C_L_q * (c / (2 * V_a)) * w_y + C_L_delta_e * delta_e) / 2\n",
    "F_drag = rho * V_a**2 * S * ((C_D_0 + k * C_L**2) + C_D_q * (c / (2 * V_a)) * w_y + k_e * (C_L_delta_e * delta_e)**2) / 2\n",
    "f_x, f_z = sym.Matrix([[sym.cos(alpha), -sym.sin(alpha)], [sym.sin(alpha), sym.cos(alpha)]]) @ sym.Matrix([[-F_drag], [-F_lift]])\n",
    "tau_y = rho * V_a**2 * S * c * (C_m_0 + C_m_alpha * alpha + C_m_q * (c / (2 * V_a)) * w_y + C_m_delta_e * delta_e) / 2\n",
    "\n",
    "# Lateral aerodynamics\n",
    "f_y =   rho * V_a**2 * S *     (C_Y_0 + C_Y_beta * beta + C_Y_p * (b / (2 * V_a)) * w_x + C_Y_r * (b / (2 * V_a)) * w_z + C_Y_delta_a * delta_a) / 2\n",
    "tau_x = rho * V_a**2 * S * b * (C_l_0 + C_l_beta * beta + C_l_p * (b / (2 * V_a)) * w_x + C_l_r * (b / (2 * V_a)) * w_z + C_l_delta_a * delta_a) / 2\n",
    "tau_z = rho * V_a**2 * S * b * (C_n_0 + C_n_beta * beta + C_n_p * (b / (2 * V_a)) * w_x + C_n_r * (b / (2 * V_a)) * w_z + C_n_delta_a * delta_a) / 2"
   ]
  },
  {
   "cell_type": "markdown",
   "id": "a2dc1366",
   "metadata": {},
   "source": [
    "Define the linear velocity vector $v^B_{W, B}$ and the angular velocity vector $w^B_{W, B}$ in the coordinates of the body frame."
   ]
  },
  {
   "cell_type": "code",
   "execution_count": 90,
   "id": "90019c9a",
   "metadata": {},
   "outputs": [],
   "source": [
    "v_inB_ofWB = sym.Matrix([v_x, v_y, v_z])\n",
    "w_inB_ofWB = sym.Matrix([w_x, w_y, w_z])"
   ]
  },
  {
   "cell_type": "markdown",
   "id": "5228b6ce",
   "metadata": {},
   "source": [
    "Define the moment of inertia matrix in the coordinates of the body frame."
   ]
  },
  {
   "cell_type": "code",
   "execution_count": 91,
   "id": "2c51e28d",
   "metadata": {},
   "outputs": [],
   "source": [
    "J_inB = sym.Matrix([[  J_x,    0, -J_xz],\n",
    "                    [    0,  J_y,     0],\n",
    "                    [-J_xz,    0,   J_z]])"
   ]
  },
  {
   "cell_type": "markdown",
   "id": "c4b2b9b3",
   "metadata": {},
   "source": [
    "Define individual rotation matrices."
   ]
  },
  {
   "cell_type": "code",
   "execution_count": 92,
   "id": "abb422e6",
   "metadata": {},
   "outputs": [],
   "source": [
    "Rz = sym.Matrix([[sym.cos(psi), -sym.sin(psi), 0],\n",
    "                 [sym.sin(psi), sym.cos(psi), 0],\n",
    "                 [0, 0, 1]])\n",
    "\n",
    "Ry = sym.Matrix([[sym.cos(theta), 0, sym.sin(theta)],\n",
    "                 [0, 1, 0],\n",
    "                 [-sym.sin(theta), 0, sym.cos(theta)]])\n",
    "\n",
    "Rx = sym.Matrix([[1, 0, 0],\n",
    "                 [0, sym.cos(phi), -sym.sin(phi)],\n",
    "                 [0, sym.sin(phi), sym.cos(phi)]])"
   ]
  },
  {
   "cell_type": "markdown",
   "id": "bfe068f4",
   "metadata": {},
   "source": [
    "Apply sequential transformation to compute the rotation matrix that describes the orientation of the aircraft (i.e., of frame $B$ in the coordinates of frame $W$)."
   ]
  },
  {
   "cell_type": "code",
   "execution_count": 93,
   "id": "a708cce2",
   "metadata": {},
   "outputs": [],
   "source": [
    "R_inW_ofB = Rz @ Ry @ Rx"
   ]
  },
  {
   "cell_type": "markdown",
   "id": "2d450c82",
   "metadata": {},
   "source": [
    "Compute the matrix $N$ for which\n",
    "\n",
    "$$\\begin{bmatrix} \\dot{\\psi} \\\\ \\dot{\\theta} \\\\ \\dot{\\phi} \\end{bmatrix} = N w_{W, B}^{B}.$$"
   ]
  },
  {
   "cell_type": "code",
   "execution_count": 94,
   "id": "e1984caf",
   "metadata": {},
   "outputs": [],
   "source": [
    "# First, compute the inverse of N\n",
    "Ninv = sym.Matrix.hstack((Ry * Rx).T * sym.Matrix([0, 0, 1]),\n",
    "                              (Rx).T * sym.Matrix([0, 1, 0]),\n",
    "                                       sym.Matrix([1, 0, 0]))\n",
    "\n",
    "# Then, take the inverse of this result to compute N\n",
    "N = sym.simplify(Ninv.inv())"
   ]
  },
  {
   "cell_type": "markdown",
   "id": "291bac9d",
   "metadata": {},
   "source": [
    "Compute the total force and torque on the aicraft in the body frame (remember that $z$ is down!)."
   ]
  },
  {
   "cell_type": "code",
   "execution_count": 95,
   "id": "3603cc4f",
   "metadata": {},
   "outputs": [],
   "source": [
    "# Total force\n",
    "f_inB = R_inW_ofB.T * sym.Matrix([0, 0, m * g]) + sym.Matrix([f_x, f_y, f_z])\n",
    "\n",
    "# Total torque\n",
    "tau_inB = sym.Matrix([tau_x, tau_y, tau_z])"
   ]
  },
  {
   "cell_type": "markdown",
   "id": "7384c6b3",
   "metadata": {},
   "source": [
    "Define (fully) symbolic equations of motion. These are complicated enough that we won't bother to show them."
   ]
  },
  {
   "cell_type": "code",
   "execution_count": 96,
   "id": "14326c7d",
   "metadata": {},
   "outputs": [],
   "source": [
    "f_sym = sym.Matrix.vstack(\n",
    "    R_inW_ofB * v_inB_ofWB,\n",
    "    N * w_inB_ofWB,\n",
    "    (1 / m) * (f_inB - w_inB_ofWB.cross(m * v_inB_ofWB)),\n",
    "    J_inB.inv() * (tau_inB - w_inB_ofWB.cross(J_inB * w_inB_ofWB)),\n",
    ")"
   ]
  },
  {
   "cell_type": "markdown",
   "id": "3943b6f1",
   "metadata": {},
   "source": [
    "Substitute numerical values for each parameter. The only symbols that remain in these equations of motion are the (nonlinear) states and inputs. Again, these equations of motion are complicated, so we won't bother to show them. They have the following form:\n",
    "\n",
    "$$\n",
    "\\begin{bmatrix} \\dot{p}_x \\\\ \\dot{p}_y \\\\ \\dot{p}_z \\\\ \\dot{\\psi} \\\\ \\dot{\\theta} \\\\ \\dot{\\phi} \\\\ \\dot{v}_x \\\\ \\dot{v}_y \\\\ \\dot{v}_z \\\\ \\dot{w}_x \\\\ \\dot{w}_y \\\\ \\dot{w}_z \\end{bmatrix}\n",
    "=\n",
    "f\\left(\n",
    "\\begin{bmatrix} p_x \\\\ p_y \\\\ p_z \\\\ \\psi \\\\ \\theta \\\\ \\phi \\\\ v_x \\\\ v_y \\\\ v_z \\\\ w_x \\\\ w_y \\\\ w_z \\end{bmatrix},\n",
    "\\begin{bmatrix} \\delta_r \\\\ \\delta_l \\end{bmatrix}\n",
    "\\right).\n",
    "$$"
   ]
  },
  {
   "cell_type": "code",
   "execution_count": 97,
   "id": "fa92b4e7",
   "metadata": {},
   "outputs": [],
   "source": [
    "f = f_sym.subs(params)\n",
    "\n",
    "a = f[1:2]\n",
    "b = f[3:14]\n",
    "f_cut = sym.Matrix(a+b)\n",
    "\n",
    "#display(f_cut)\n",
    "#display(f) # Basically useless"
   ]
  },
  {
   "cell_type": "code",
   "execution_count": null,
   "id": "f30a37a7",
   "metadata": {},
   "outputs": [],
   "source": [
    "# Define generalized coordinates and their derivatives\n",
    "m = sym.Matrix([p_y,psi, theta, phi, v_x, v_y, v_z, w_x, w_y, w_z])\n",
    "mu = sym.Matrix([p_y,psi, theta, phi, v_x, v_y, v_z, w_x, w_y, w_z, delta_r, delta_l])\n",
    "u = sym.Matrix([delta_r, delta_l])\n",
    "\n",
    "xd = f_cut\n",
    "An = sym.lambdify(mu,xd.jacobian([m]))\n",
    "Bn = sym.lambdify(mu,xd.jacobian([u]))\n",
    "\n",
    "A = An(0.000,  -0.000,   0.022,   0.000,   9.432,   0.000,   0.858,   0.000,   0.000,  -0.000,  -0.213,  -0.213)\n",
    "B = Bn(0.000,  -0.000,   0.022,   0.000,   9.432,   0.000,   0.858,   0.000,   0.000,  -0.000,  -0.213,  -0.213)\n",
    "\n",
    "#display(sym.Matrix(A))\n",
    "#display(sym.Matrix(B))"
   ]
  },
  {
   "cell_type": "code",
   "execution_count": 112,
   "id": "f8f455b6",
   "metadata": {},
   "outputs": [
    {
     "data": {
      "text/latex": [
       "$\\displaystyle \\left[\\begin{matrix}-0.707106781186638 & -19.9489177567469 & -5.188230109985 & -13.2905072675792 & 0.767124793292716 & -3.21719269216525 & -0.461051384244452 & -0.806842023887712 & -0.788201722236421 & -13.9309299487981\\\\0.707106781186608 & 19.948917756746 & -5.18823010998499 & 13.2905072675788 & 0.767124793292713 & 3.2171926921652 & -0.46105138424445 & 0.806842023887706 & -0.788201722236419 & 13.9309299487974\\end{matrix}\\right]$"
      ],
      "text/plain": [
       "Matrix([\n",
       "[-0.707106781186638, -19.9489177567469,   -5.188230109985, -13.2905072675792, 0.767124793292716, -3.21719269216525, -0.461051384244452, -0.806842023887712, -0.788201722236421, -13.9309299487981],\n",
       "[ 0.707106781186608,   19.948917756746, -5.18823010998499,  13.2905072675788, 0.767124793292713,   3.2171926921652,  -0.46105138424445,  0.806842023887706, -0.788201722236419,  13.9309299487974]])"
      ]
     },
     "metadata": {},
     "output_type": "display_data"
    },
    {
     "data": {
      "text/plain": [
       "array([[ -0.70710678, -19.94891776,  -5.18823011, -13.29050727,\n",
       "          0.76712479,  -3.21719269,  -0.46105138,  -0.80684202,\n",
       "         -0.78820172, -13.93092995],\n",
       "       [  0.70710678,  19.94891776,  -5.18823011,  13.29050727,\n",
       "          0.76712479,   3.21719269,  -0.46105138,   0.80684202,\n",
       "         -0.78820172,  13.93092995]])"
      ]
     },
     "metadata": {},
     "output_type": "display_data"
    }
   ],
   "source": [
    "def lqr(A, B, Q, R):\n",
    "    P = linalg.solve_continuous_are(A, B, Q, R)\n",
    "    K = linalg.inv(R) @  B.T @ P\n",
    "    return K, P\n",
    "\n",
    "#           p_y, psi, theta, phi, v_x, v_y, v_z, w_x, w_y, w_z, delta_r, delta_l\n",
    "Q = np.diag([1., 1.,     1.,  1.,  2.,  10.,  5.,   1., 1., 1.])\n",
    "R = np.diag([1., 1.])\n",
    "\n",
    "K, P = lqr(A, B, Q, R)\n",
    "display(sym.Matrix(K))\n",
    "display(K)\n"
   ]
  },
  {
   "cell_type": "code",
   "execution_count": 100,
   "id": "bcc86d3a",
   "metadata": {},
   "outputs": [
    {
     "name": "stdout",
     "output_type": "stream",
     "text": [
      "  message: Optimization terminated successfully.\n",
      "  success: True\n",
      "   status: 0\n",
      "      fun: 6.145523000043526e-12\n",
      "        x: [ 0.000e+00 -1.367e-06  1.107e-01  4.081e-07  7.033e+00\n",
      "             1.029e-05  1.355e+00 -1.938e-07  8.015e-07  3.498e-07\n",
      "            -3.835e-01 -3.835e-01]\n",
      "      nit: 18\n",
      "      jac: [ 0.000e+00  4.915e-07 -3.526e-05  4.024e-06  8.801e-07\n",
      "             1.086e-06 -7.430e-06  2.858e-06 -2.929e-06 -7.956e-07\n",
      "            -1.049e-05 -2.090e-05]\n",
      " hess_inv: [[ 1.000e+00  0.000e+00 ...  0.000e+00  0.000e+00]\n",
      "            [ 0.000e+00  3.657e-02 ...  1.623e-02 -1.572e-02]\n",
      "            ...\n",
      "            [ 0.000e+00  1.623e-02 ...  1.171e-01  4.537e-02]\n",
      "            [ 0.000e+00 -1.572e-02 ...  4.537e-02  1.132e-01]]\n",
      "     nfev: 338\n",
      "     njev: 26\n",
      "\n",
      "0.000, -0.000, 0.111, 0.000, 7.033, 0.000, 1.355, -0.000, 0.000, 0.000, -0.383, -0.383\n"
     ]
    }
   ],
   "source": [
    "f_num = sym.lambdify(mu, f_cut)\n",
    "\n",
    "# numeric solve\n",
    "f_num_for_minimize = lambda x: np.linalg.norm(f_num(*x).flatten())**2\n",
    "\n",
    "#      p_y,psi, theta,         phi, v_x, v_y, v_z, w_x, w_y, w_z, delta_r, delta_l\n",
    "x0 =   [0,  0,  0.1,              0 ,  7,   0,   .2,   0,   0,   0,   -.1,       -.1] \n",
    "# the starting guess for an EQ point\n",
    "\n",
    "sol = minimize(f_num_for_minimize, x0, tol=1e-4)\n",
    "\n",
    "print(sol)\n",
    "print('')\n",
    "print(\", \".join(f\"{val:.3f}\" for val in sol.x))\n"
   ]
  },
  {
   "cell_type": "code",
   "execution_count": null,
   "id": "0c5290f7",
   "metadata": {},
   "outputs": [
    {
     "name": "stdout",
     "output_type": "stream",
     "text": [
      "Found 39 unique equilibrium points.\n",
      "  0.000,  -0.000,  -0.023,   0.000,  11.305,   0.000,   0.573,   0.000,   0.000,  -0.000,  -0.144,  -0.144\n",
      "  0.000,   0.000,  -0.020,  -0.000,  11.181,  -0.000,   0.590,  -0.000,   0.000,  -0.000,  -0.148,  -0.148\n",
      "  0.000,   0.000,  -0.015,  -0.000,  10.962,  -0.000,   0.621,   0.000,   0.000,  -0.000,  -0.154,  -0.154\n",
      "  0.000,  -0.000,  -0.007,  -0.000,  10.587,   0.000,   0.675,   0.000,   0.000,  -0.000,  -0.166,  -0.166\n",
      "  0.000,  -0.000,  -0.007,  -0.000,  10.561,  -0.000,   0.678,  -0.000,   0.000,  -0.000,  -0.167,  -0.167\n",
      "  0.000,  -0.000,  -0.006,  -0.000,  10.529,   0.000,   0.683,   0.000,   0.000,  -0.000,  -0.168,  -0.168\n",
      "  0.000,   0.000,   0.005,  -0.000,  10.097,  -0.000,   0.749,  -0.000,   0.000,  -0.000,  -0.184,  -0.184\n",
      "  0.000,   0.000,   0.007,  -0.000,   9.978,  -0.000,   0.768,  -0.000,   0.000,  -0.000,  -0.189,  -0.189\n",
      "  0.000,  -0.000,   0.012,  -0.000,   9.783,  -0.000,   0.799,  -0.000,   0.000,  -0.000,  -0.197,  -0.197\n",
      "  0.000,  -0.000,   0.022,   0.000,   9.432,   0.000,   0.858,   0.000,   0.000,  -0.000,  -0.213,  -0.213\n",
      "  0.000,  -0.000,   0.024,  -0.000,   9.353,  -0.000,   0.871,  -0.000,   0.000,  -0.000,  -0.216,  -0.216\n",
      "  0.000,  -0.000,   0.032,  -0.000,   9.086,   0.000,   0.919,   0.000,   0.000,  -0.000,  -0.230,  -0.230\n",
      "  0.000,   0.000,   0.033,  -0.000,   9.061,  -0.000,   0.923,  -0.000,   0.000,  -0.000,  -0.231,  -0.231\n",
      "  0.000,   0.000,   0.052,  -0.000,   8.449,  -0.000,   1.039,  -0.000,   0.000,  -0.000,  -0.267,  -0.267\n",
      "  0.000,  -0.000,   0.064,   0.000,   8.120,   0.001,   1.106,   0.000,   0.000,   0.000,  -0.289,  -0.289\n",
      "  0.000,   0.000,   0.076,  -0.000,   7.815,  -0.000,   1.172,  -0.000,   0.000,  -0.000,  -0.312,  -0.312\n",
      "  0.000,   0.000,   0.081,  -0.000,   7.690,  -0.000,   1.200,  -0.000,   0.000,  -0.000,  -0.322,  -0.322\n",
      "  0.000,  -0.000,   0.104,   0.000,   7.175,   0.000,   1.320,   0.000,   0.000,   0.000,  -0.369,  -0.369\n",
      "  0.000,  -0.000,   0.105,   0.000,   7.158,   0.000,   1.324,   0.000,   0.000,   0.000,  -0.371,  -0.371\n",
      "  0.000,  -0.000,   0.107,   0.000,   7.100,   0.002,   1.338,   0.000,   0.000,   0.000,  -0.377,  -0.376\n",
      "  0.000,  -0.000,   0.109,   0.000,   7.071,   0.000,   1.346,   0.000,  -0.000,   0.000,  -0.380,  -0.379\n",
      "  0.000,  -0.000,   0.110,  -0.000,   7.056,   0.000,   1.350,   0.000,  -0.000,  -0.000,  -0.381,  -0.381\n",
      "  0.000,  -0.000,   0.127,   0.000,   6.730,   0.000,   1.433,   0.000,   0.000,   0.000,  -0.417,  -0.417\n",
      "  0.000,   0.000,   0.131,  -0.000,   6.660,  -0.000,   1.451,  -0.000,   0.000,  -0.000,  -0.425,  -0.425\n",
      "  0.000,   0.000,   0.146,  -0.000,   6.389,  -0.000,   1.524,   0.000,   0.000,  -0.000,  -0.459,  -0.459\n",
      "  0.000,  -0.000,   0.156,   0.000,   6.239,   0.002,   1.566,   0.000,   0.000,   0.000,  -0.479,  -0.479\n",
      "  0.000,  -0.000,   0.161,  -0.000,   6.156,   0.000,   1.590,   0.000,   0.000,  -0.000,  -0.490,  -0.490\n",
      "  0.000,  -0.000,   0.170,  -0.000,   6.030,   0.000,   1.626,   0.000,   0.000,  -0.000,  -0.509,  -0.509\n",
      "  0.000,   0.000,   0.224,   0.000,   5.329,  -0.000,   1.840,  -0.000,   0.000,   0.000,  -0.627,  -0.627\n",
      "  0.000,  -0.000,   0.285,  -0.000,   4.686,   0.001,   2.049,   0.000,   0.000,  -0.000,  -0.764,  -0.764\n",
      "  0.000,  -0.000,   0.300,   0.000,   4.551,   0.001,   2.093,   0.000,   0.000,  -0.000,  -0.796,  -0.796\n",
      "  0.000,  -0.001,   0.305,   0.000,   4.503,   0.004,   2.109,   0.000,  -0.000,  -0.000,  -0.809,  -0.808\n",
      "  0.000,  -0.000,   0.306,  -0.000,   4.493,   0.000,   2.112,   0.000,   0.000,  -0.000,  -0.811,  -0.811\n",
      "  0.000,   0.000,   0.320,  -0.000,   4.375,  -0.000,   2.152,  -0.000,  -0.000,   0.000,  -0.841,  -0.841\n",
      "  0.000,  -0.000,   0.326,   0.000,   4.319,   0.000,   2.170,   0.000,   0.000,   0.000,  -0.855,  -0.855\n",
      "  0.000,   0.000,   0.338,  -0.000,   4.225,  -0.001,   2.201,  -0.000,   0.000,   0.000,  -0.881,  -0.881\n",
      "  0.000,  -0.000,   0.365,   0.000,   4.003,   0.000,   2.274,  -0.000,   0.000,   0.000,  -0.943,  -0.943\n",
      "  0.000,  -0.000,   0.371,   0.000,   3.960,   0.001,   2.288,   0.000,   0.000,  -0.000,  -0.956,  -0.955\n",
      "  0.000,  -0.000,   0.394,   0.000,   3.785,   0.002,   2.344,   0.000,  -0.000,  -0.000,  -1.008,  -1.008\n"
     ]
    }
   ],
   "source": [
    "num_attempts = 40  # number of guesses\n",
    "solutions = []\n",
    "\n",
    "for _ in range(num_attempts):\n",
    "    x0_random = np.array(x0)\n",
    "\n",
    "    # monte carlo EQ point finding lul\n",
    "    x0_random[4] = np.random.uniform(3, 11)\n",
    "    x0_random[6] = np.random.uniform(0, 1)\n",
    "    \n",
    "    sol = minimize(f_num_for_minimize, x0_random, tol=1e-4)\n",
    "    \n",
    "    if sol.success:\n",
    "        eq_point = sol.x\n",
    "        if not any(np.linalg.norm(eq_point - s) < 1e-2 for s in solutions):  # remove duplicates\n",
    "            solutions.append(eq_point)\n",
    "\n",
    "print(f\"Found {len(solutions)} unique equilibrium points.\")\n",
    "solutions_sorted = sorted(solutions, key=lambda x: x[4], reverse=True)\n",
    "\n",
    "for eq_point in solutions_sorted:\n",
    "    print(\", \".join([f\"{val:7.3f}\" for val in eq_point]))  "
   ]
  },
  {
   "cell_type": "code",
   "execution_count": null,
   "id": "96d041f9",
   "metadata": {},
   "outputs": [
    {
     "data": {
      "text/plain": [
       "[<matplotlib.lines.Line2D at 0x1ef41f7c7d0>]"
      ]
     },
     "execution_count": 114,
     "metadata": {},
     "output_type": "execute_result"
    },
    {
     "data": {
      "image/png": "[encoded data removed]",
      "text/plain": [
       "<Figure size 800x600 with 1 Axes>"
      ]
     },
     "metadata": {},
     "output_type": "display_data"
    }
   ],
   "source": [
    "v_x_vals = [eq_point[4] for eq_point in solutions_sorted]\n",
    "v_y_vals = [eq_point[6] for eq_point in solutions_sorted]\n",
    "\n",
    "plt.figure(figsize=(8, 6))\n",
    "\n",
    "plt.plot(v_x_vals, v_y_vals, marker='o', linestyle='-', color='b')\n"
   ]
  },
  {
   "cell_type": "code",
   "execution_count": 2,
   "id": "e1daf35b",
   "metadata": {},
   "outputs": [
    {
     "name": "stdout",
     "output_type": "stream",
     "text": [
      "Total simulations run: 100\n",
      "Successful landings: 95\n",
      "Failed landings: 5\n"
     ]
    }
   ],
   "source": [
    "import numpy as np\n",
    "import matplotlib.pyplot as plt\n",
    "import ae353_zagi\n",
    "\n",
    "# Create an instance of the simulator with display disabled\n",
    "simulator = ae353_zagi.Simulator(display=False)\n",
    "\n",
    "# Define the controller\n",
    "class Controller:\n",
    "    def __init__(self):\n",
    "        pass\n",
    "    \n",
    "    def reset(self):\n",
    "        pass\n",
    "    \n",
    "    def run(self, t, p_x, p_y, p_z, psi, theta, phi, v_x, v_y, v_z, w_x, w_y, w_z):\n",
    "        # State feedback gain matrix\n",
    "        K = np.array(\n",
    "            [[-0.7071067811866092, -21.602054309256516, -4.565990343918835, -14.102121224883133, 0.4754289309020085, -3.2784129568395675, -1.137152279834266, -0.7834206400782244, -0.8029239895966876, -12.743148431934118], [0.7071067811865213, 21.60205430925393, -4.5659903439188225, 14.102121224882067, 0.47542893090201505, 3.278412956839427, -1.1371522798342677, 0.7834206400782118, -0.8029239895966852, 12.743148431932385]]\n",
    "\n",
    "        )\n",
    "        \n",
    "        # State vector\n",
    "        x = np.array([[p_y, psi, theta, phi, v_x, v_y, v_z, w_x, w_y, w_z]]).T\n",
    "\n",
    "        # Compute control input\n",
    "        x_d = -K @ x\n",
    "        delta_r = x_d[0][0]  # Right elevon deflection angle (positive is down)\n",
    "        delta_l = x_d[1][0]  # Left elevon deflection angle (positive is down)\n",
    "        \n",
    "        return delta_r, delta_l\n",
    "\n",
    "# Create an instance of the controller\n",
    "controller = Controller()\n",
    "\n",
    "# Run multiple simulations and count landings\n",
    "num_simulations = 100\n",
    "successful_landings = 0\n",
    "failed_landings = 0\n",
    "\n",
    "for i in range(num_simulations):\n",
    "    simulator.reset()  # Reset simulator with random initial conditions\n",
    "    controller.reset()  # Reset controller\n",
    "    \n",
    "    # Run simulation\n",
    "    simulator.run(controller, maximum_time=30.)\n",
    "    \n",
    "    # Check if the aircraft has landed\n",
    "    if simulator.has_landed():\n",
    "        successful_landings += 1\n",
    "    else:\n",
    "        failed_landings += 1\n",
    "\n",
    "# Print the results\n",
    "print(f\"Total simulations run: {num_simulations}\")\n",
    "print(f\"Successful landings: {successful_landings}\")\n",
    "print(f\"Failed landings: {failed_landings}\")"
   ]
  }
 ],
 "metadata": {
  "kernelspec": {
   "display_name": "ae353",
   "language": "python",
   "name": "python3"
  },
  "language_info": {
   "codemirror_mode": {
    "name": "ipython",
    "version": 3
   },
   "file_extension": ".py",
   "mimetype": "text/x-python",
   "name": "python",
   "nbconvert_exporter": "python",
   "pygments_lexer": "ipython3",
   "version": "3.13.1"
  }
 },
 "nbformat": 4,
 "nbformat_minor": 5
}
