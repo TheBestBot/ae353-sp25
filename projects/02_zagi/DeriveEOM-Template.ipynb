{
 "cells": [
  {
   "cell_type": "markdown",
   "id": "occasional-george",
   "metadata": {},
   "source": [
    "# Equations of motion for a \"zagi-like\" flying wing UAV"
   ]
  },
  {
   "cell_type": "markdown",
   "id": "d4cbc89f",
   "metadata": {},
   "source": [
    "Do imports."
   ]
  },
  {
   "cell_type": "code",
   "execution_count": 64,
   "id": "sitting-discount",
   "metadata": {},
   "outputs": [],
   "source": [
    "import numpy as np\n",
    "import sympy as sym\n",
    "from scipy import linalg\n",
    "import matplotlib.pyplot as plt\n",
    "from IPython.display import display, Markdown\n",
    "from scipy.signal import place_poles\n",
    "from scipy.linalg import solve_continuous_are"
   ]
  },
  {
   "cell_type": "markdown",
   "id": "e2bc1e04",
   "metadata": {},
   "source": [
    "Define variables and parameters as symbols."
   ]
  },
  {
   "cell_type": "code",
   "execution_count": 65,
   "id": "eb2cd207",
   "metadata": {},
   "outputs": [],
   "source": [
    "#\n",
    "# VARIABLES\n",
    "#\n",
    "\n",
    "# Time\n",
    "t = sym.Symbol('t', real=True)\n",
    "\n",
    "# Components of position (meters)\n",
    "p_x, p_y, p_z = sym.symbols('p_x, p_y, p_z', real=True)\n",
    "\n",
    "# Yaw, pitch, and roll angles (radians)\n",
    "psi, theta, phi = sym.symbols('psi, theta, phi', real=True)\n",
    "\n",
    "# Components of linear velocity in the body frame (meters / second)\n",
    "v_x, v_y, v_z = sym.symbols('v_x, v_y, v_z', real=True)\n",
    "\n",
    "# Components of angular velocity in the body frame (radians / second)\n",
    "w_x, w_y, w_z = sym.symbols('w_x, w_y, w_z', real=True)\n",
    "\n",
    "# Elevon angles\n",
    "delta_r, delta_l = sym.symbols('delta_r, delta_l', real=True)\n",
    "\n",
    "#\n",
    "# PARAMETERS\n",
    "#\n",
    "\n",
    "# Aerodynamic parameters\n",
    "rho, S, c, b = sym.symbols('rho, S, c, b', real=True)\n",
    "C_L_0, C_L_alpha, C_L_q, C_L_delta_e = sym.symbols('C_L_0, C_L_alpha, C_L_q, C_L_delta_e', real=True)\n",
    "C_D_0, C_D_alpha, C_D_q, C_D_delta_e = sym.symbols('C_D_0, C_D_alpha, C_D_q, C_D_delta_e', real=True)\n",
    "C_m_0, C_m_alpha, C_m_q, C_m_delta_e = sym.symbols('C_m_0, C_m_alpha, C_m_q, C_m_delta_e', real=True)\n",
    "C_Y_0, C_Y_beta, C_Y_p, C_Y_r, C_Y_delta_a = sym.symbols('C_Y_0, C_Y_beta, C_Y_p, C_Y_r, C_Y_delta_a', real=True)\n",
    "C_l_0, C_l_beta, C_l_p, C_l_r, C_l_delta_a = sym.symbols('C_l_0, C_l_beta, C_l_p, C_l_r, C_l_delta_a', real=True)\n",
    "C_n_0, C_n_beta, C_n_p, C_n_r, C_n_delta_a = sym.symbols('C_n_0, C_n_beta, C_n_p, C_n_r, C_n_delta_a', real=True)\n",
    "e, alpha_0, C_D_p, M = sym.symbols('e, alpha_0, C_D_p, M', real=True)\n",
    "k, k_e = sym.symbols('k, k_e', real=True)\n",
    "\n",
    "# Mass and inertia parameters\n",
    "J_x, J_y, J_z, J_xz = sym.symbols('J_x, J_y, J_z, J_xz', real=True)\n",
    "m, g = sym.symbols('m, g', real=True)"
   ]
  },
  {
   "cell_type": "markdown",
   "id": "9a082a6b",
   "metadata": {},
   "source": [
    "Define numerical values of parameters."
   ]
  },
  {
   "cell_type": "code",
   "execution_count": 66,
   "id": "43e0698b",
   "metadata": {},
   "outputs": [],
   "source": [
    "params = {\n",
    "    g: 9.81,               # Gravity (m/s²)\n",
    "    m: 1.56,               # Mass of the UAV (kg)\n",
    "    J_x: 0.1147,           # Moment of inertia about x-axis (kg·m²) [UPDATED 02/28/2025]\n",
    "    J_y: 0.0576,           # Moment of inertia about y-axis (kg·m²) [UPDATED 02/28/2025]\n",
    "    J_z: 0.1712,           # Moment of inertia about z-axis (kg·m²) [UPDATED 02/28/2025]\n",
    "    J_xz: 0.0015,          # Product of inertia (kg·m²)             [UPDATED 02/28/2025]\n",
    "\n",
    "    S: 0.4696,             # Wing area (m²)\n",
    "    b: 1.4224,             # Wingspan (m)\n",
    "    c: 0.3302,             # Mean aerodynamic chord (m)\n",
    "\n",
    "    rho: 1.2682,           # Air density (kg/m³)\n",
    "\n",
    "    # Lift Coefficients\n",
    "    C_L_0: 0.2,            # Lift coefficient at zero AoA\n",
    "    C_L_alpha: 4.8,        # Lift curve slope (1/rad)\n",
    "    C_L_q: 2.2,            # Pitch rate effect on lift (1/rad)\n",
    "\n",
    "    # Drag Coefficients\n",
    "    C_D_0: 0.02,           # Zero-lift drag coefficient\n",
    "    C_D_alpha: 0.30,       # Drag change per AoA (1/rad)\n",
    "    C_D_q: 0.0,            # Pitch rate effect on drag (1/rad)\n",
    "    C_D_p: 0.03,           # Parasitic drag coefficient\n",
    "\n",
    "    # Pitching Moment Coefficients\n",
    "    C_m_0: -0.02,          # Pitching moment at zero AoA\n",
    "    C_m_alpha: -0.6,       # Pitching moment change per AoA (1/rad)\n",
    "    C_m_q: -1.8,           # Pitch rate effect on moment (1/rad)\n",
    "    C_m_delta_e: -0.35,    # Effect of elevator deflection on pitching moment (1/rad)\n",
    "\n",
    "    # Side Force Coefficients\n",
    "    C_Y_0: 0.0,            # Side force at zero sideslip\n",
    "    C_Y_beta: -0.08,       # Side force per sideslip angle (1/rad)\n",
    "    C_Y_p: 0.0,            # Side force due to roll rate\n",
    "    C_Y_r: 0.0,            # Side force due to yaw rate\n",
    "    C_Y_delta_a: 0.0,      # Side force due to aileron deflection\n",
    "\n",
    "    # Roll Moment Coefficients\n",
    "    C_l_0: 0.0,            # Roll moment at zero sideslip\n",
    "    C_l_beta: -0.10,       # Roll moment due to sideslip (1/rad)\n",
    "    C_l_p: -0.45,          # Roll damping derivative (1/rad)\n",
    "    C_l_r: 0.03,           # Roll moment due to yaw rate (1/rad)\n",
    "    C_l_delta_a: 0.18,     # Aileron effect on roll (1/rad)\n",
    "\n",
    "    # Yaw Moment Coefficients\n",
    "    C_n_0: 0.0,            # Yaw moment at zero sideslip\n",
    "    C_n_beta: 0.008,       # Yaw moment due to sideslip (1/rad)\n",
    "    C_n_p: -0.022,         # Yaw moment due to roll rate (1/rad)\n",
    "    C_n_r: -0.009,         # Yaw damping derivative (1/rad)\n",
    "    C_n_delta_a: -0.004,   # Aileron effect on yaw (1/rad)\n",
    "\n",
    "    # Control Derivatives\n",
    "    C_L_delta_e: 0.30,     # Effect of elevator deflection on lift (1/rad)\n",
    "    C_D_delta_e: 0.32,     # Effect of elevator deflection on drag (1/rad)\n",
    "\n",
    "    # Efficiency Factors\n",
    "    e: 0.85,               # Oswald efficiency factor\n",
    "    alpha_0: 0.45,         # Zero-lift angle of attack (rad)\n",
    "\n",
    "    # Additional Drag & Lift Coefficients\n",
    "    M: 50.0,               # Sigmoid blending function parameter\n",
    "    k_e: 0.01,             # Drag due to elevator deflection (empirical coefficient)\n",
    "    k: 0.048               # Induced drag factor\n",
    "}"
   ]
  },
  {
   "cell_type": "markdown",
   "id": "ac2be7c3",
   "metadata": {},
   "source": [
    "Compute aerodynamic forces and torques (assuming low angles of attack, so no stall)."
   ]
  },
  {
   "cell_type": "code",
   "execution_count": 67,
   "id": "2e55a7b4",
   "metadata": {},
   "outputs": [],
   "source": [
    "# Get airspeed, angle of attack, and angle of sideslip\n",
    "V_a = sym.sqrt(v_x**2 + v_y**2 + v_z**2)\n",
    "alpha = sym.atan(v_z / v_x)\n",
    "beta = sym.asin(v_y / V_a)\n",
    "\n",
    "# Convert from right and left elevon deflections to equivalent elevator and aileron deflections\n",
    "delta_e = (delta_r + delta_l) / 2\n",
    "delta_a = (-delta_r + delta_l) / 2\n",
    "\n",
    "# Longitudinal aerodynamics\n",
    "C_L = C_L_0 + C_L_alpha * alpha\n",
    "F_lift = rho * V_a**2 * S * (C_L + C_L_q * (c / (2 * V_a)) * w_y + C_L_delta_e * delta_e) / 2\n",
    "F_drag = rho * V_a**2 * S * ((C_D_0 + k * C_L**2) + C_D_q * (c / (2 * V_a)) * w_y + k_e * (C_L_delta_e * delta_e)**2) / 2\n",
    "f_x, f_z = sym.Matrix([[sym.cos(alpha), -sym.sin(alpha)], [sym.sin(alpha), sym.cos(alpha)]]) @ sym.Matrix([[-F_drag], [-F_lift]])\n",
    "tau_y = rho * V_a**2 * S * c * (C_m_0 + C_m_alpha * alpha + C_m_q * (c / (2 * V_a)) * w_y + C_m_delta_e * delta_e) / 2\n",
    "\n",
    "# Lateral aerodynamics\n",
    "f_y =   rho * V_a**2 * S *     (C_Y_0 + C_Y_beta * beta + C_Y_p * (b / (2 * V_a)) * w_x + C_Y_r * (b / (2 * V_a)) * w_z + C_Y_delta_a * delta_a) / 2\n",
    "tau_x = rho * V_a**2 * S * b * (C_l_0 + C_l_beta * beta + C_l_p * (b / (2 * V_a)) * w_x + C_l_r * (b / (2 * V_a)) * w_z + C_l_delta_a * delta_a) / 2\n",
    "tau_z = rho * V_a**2 * S * b * (C_n_0 + C_n_beta * beta + C_n_p * (b / (2 * V_a)) * w_x + C_n_r * (b / (2 * V_a)) * w_z + C_n_delta_a * delta_a) / 2"
   ]
  },
  {
   "cell_type": "markdown",
   "id": "a2dc1366",
   "metadata": {},
   "source": [
    "Define the linear velocity vector $v^B_{W, B}$ and the angular velocity vector $w^B_{W, B}$ in the coordinates of the body frame."
   ]
  },
  {
   "cell_type": "code",
   "execution_count": 68,
   "id": "90019c9a",
   "metadata": {},
   "outputs": [],
   "source": [
    "v_inB_ofWB = sym.Matrix([v_x, v_y, v_z])\n",
    "w_inB_ofWB = sym.Matrix([w_x, w_y, w_z])"
   ]
  },
  {
   "cell_type": "markdown",
   "id": "5228b6ce",
   "metadata": {},
   "source": [
    "Define the moment of inertia matrix in the coordinates of the body frame."
   ]
  },
  {
   "cell_type": "code",
   "execution_count": 69,
   "id": "2c51e28d",
   "metadata": {},
   "outputs": [],
   "source": [
    "J_inB = sym.Matrix([[  J_x,    0, -J_xz],\n",
    "                    [    0,  J_y,     0],\n",
    "                    [-J_xz,    0,   J_z]])"
   ]
  },
  {
   "cell_type": "markdown",
   "id": "c4b2b9b3",
   "metadata": {},
   "source": [
    "Define individual rotation matrices."
   ]
  },
  {
   "cell_type": "code",
   "execution_count": 70,
   "id": "abb422e6",
   "metadata": {},
   "outputs": [],
   "source": [
    "Rz = sym.Matrix([[sym.cos(psi), -sym.sin(psi), 0],\n",
    "                 [sym.sin(psi), sym.cos(psi), 0],\n",
    "                 [0, 0, 1]])\n",
    "\n",
    "Ry = sym.Matrix([[sym.cos(theta), 0, sym.sin(theta)],\n",
    "                 [0, 1, 0],\n",
    "                 [-sym.sin(theta), 0, sym.cos(theta)]])\n",
    "\n",
    "Rx = sym.Matrix([[1, 0, 0],\n",
    "                 [0, sym.cos(phi), -sym.sin(phi)],\n",
    "                 [0, sym.sin(phi), sym.cos(phi)]])"
   ]
  },
  {
   "cell_type": "markdown",
   "id": "bfe068f4",
   "metadata": {},
   "source": [
    "Apply sequential transformation to compute the rotation matrix that describes the orientation of the aircraft (i.e., of frame $B$ in the coordinates of frame $W$)."
   ]
  },
  {
   "cell_type": "code",
   "execution_count": 71,
   "id": "a708cce2",
   "metadata": {},
   "outputs": [],
   "source": [
    "R_inW_ofB = Rz @ Ry @ Rx"
   ]
  },
  {
   "cell_type": "markdown",
   "id": "2d450c82",
   "metadata": {},
   "source": [
    "Compute the matrix $N$ for which\n",
    "\n",
    "$$\\begin{bmatrix} \\dot{\\psi} \\\\ \\dot{\\theta} \\\\ \\dot{\\phi} \\end{bmatrix} = N w_{W, B}^{B}.$$"
   ]
  },
  {
   "cell_type": "code",
   "execution_count": 72,
   "id": "e1984caf",
   "metadata": {},
   "outputs": [],
   "source": [
    "# First, compute the inverse of N\n",
    "Ninv = sym.Matrix.hstack((Ry * Rx).T * sym.Matrix([0, 0, 1]),\n",
    "                              (Rx).T * sym.Matrix([0, 1, 0]),\n",
    "                                       sym.Matrix([1, 0, 0]))\n",
    "\n",
    "# Then, take the inverse of this result to compute N\n",
    "N = sym.simplify(Ninv.inv())"
   ]
  },
  {
   "cell_type": "markdown",
   "id": "291bac9d",
   "metadata": {},
   "source": [
    "Compute the total force and torque on the aicraft in the body frame (remember that $z$ is down!)."
   ]
  },
  {
   "cell_type": "code",
   "execution_count": 73,
   "id": "3603cc4f",
   "metadata": {},
   "outputs": [],
   "source": [
    "# Total force\n",
    "f_inB = R_inW_ofB.T * sym.Matrix([0, 0, m * g]) + sym.Matrix([f_x, f_y, f_z])\n",
    "\n",
    "# Total torque\n",
    "tau_inB = sym.Matrix([tau_x, tau_y, tau_z])"
   ]
  },
  {
   "cell_type": "markdown",
   "id": "7384c6b3",
   "metadata": {},
   "source": [
    "Define (fully) symbolic equations of motion. These are complicated enough that we won't bother to show them."
   ]
  },
  {
   "cell_type": "code",
   "execution_count": 74,
   "id": "14326c7d",
   "metadata": {},
   "outputs": [],
   "source": [
    "f_sym = sym.Matrix.vstack(\n",
    "    R_inW_ofB * v_inB_ofWB,\n",
    "    N * w_inB_ofWB,\n",
    "    (1 / m) * (f_inB - w_inB_ofWB.cross(m * v_inB_ofWB)),\n",
    "    J_inB.inv() * (tau_inB - w_inB_ofWB.cross(J_inB * w_inB_ofWB)),\n",
    ")"
   ]
  },
  {
   "cell_type": "markdown",
   "id": "3943b6f1",
   "metadata": {},
   "source": [
    "Substitute numerical values for each parameter. The only symbols that remain in these equations of motion are the (nonlinear) states and inputs. Again, these equations of motion are complicated, so we won't bother to show them. They have the following form:\n",
    "\n",
    "$$\n",
    "\\begin{bmatrix} \\dot{p}_x \\\\ \\dot{p}_y \\\\ \\dot{p}_z \\\\ \\dot{\\psi} \\\\ \\dot{\\theta} \\\\ \\dot{\\phi} \\\\ \\dot{v}_x \\\\ \\dot{v}_y \\\\ \\dot{v}_z \\\\ \\dot{w}_x \\\\ \\dot{w}_y \\\\ \\dot{w}_z \\end{bmatrix}\n",
    "=\n",
    "f\\left(\n",
    "\\begin{bmatrix} p_x \\\\ p_y \\\\ p_z \\\\ \\psi \\\\ \\theta \\\\ \\phi \\\\ v_x \\\\ v_y \\\\ v_z \\\\ w_x \\\\ w_y \\\\ w_z \\end{bmatrix},\n",
    "\\begin{bmatrix} \\delta_r \\\\ \\delta_l \\end{bmatrix}\n",
    "\\right).\n",
    "$$"
   ]
  },
  {
   "cell_type": "code",
   "execution_count": 75,
   "id": "fa92b4e7",
   "metadata": {},
   "outputs": [],
   "source": [
    "f = f_sym.subs(params)\n",
    "\n",
    "a = f[1:2]\n",
    "b = f[3:14]\n",
    "f_cut = sym.Matrix(a+b)\n",
    "\n",
    "#display(f_cut)\n",
    "#display(f) # Basically useless"
   ]
  },
  {
   "cell_type": "code",
   "execution_count": 80,
   "id": "f30a37a7",
   "metadata": {},
   "outputs": [
    {
     "data": {
      "text/latex": [
       "$\\displaystyle \\left[\\begin{matrix}0.0 & 6.66666985477358 & 0.0 & -1.488 & 0.0 & 1.0 & 0.0 & 0.0 & 0.0 & 0.0\\\\0.0 & 0.0 & 0.0 & 0.0 & 0.0 & 0.0 & 0.0 & 0.0 & 0.0 & 1.00959814677957\\\\0.0 & 0.0 & 0.0 & 0.0 & 0.0 & 0.0 & 0.0 & 0.0 & 1.0 & 0.0\\\\0.0 & 0.0 & 0.0 & 0.0 & 0.0 & 0.0 & 0.0 & 1.0 & 0.0 & 0.138882749039409\\\\0.0 & 0.0 & -9.7167373288987 & 0.0 & -0.068569240434248 & 0.0 & 2.12144472109917 & 0.0 & -1.38483463278784 & 0.0\\\\0.0 & 0.0 & 0.0 & 9.7167373288987 & 0.0 & -0.102182698764416 & 0.0 & 1.488 & 0.0 & -6.524\\\\0.0 & 0.0 & -1.34948719193129 & 0.0 & -1.51124428370744 & 0.0 & -6.43934542211183 & 0.0 & 6.07168087655099 & 0.0\\\\0.0 & 0.0 & 0.0 & 0.0 & 0.0 & -2.4695370837114 & 0.0 & -7.91243804252599 & 0.0 & 0.525884082270567\\\\0.0 & 0.0 & 0.0 & 0.0 & 1.51964631980466 & 0.0 & -6.68298775923595 & 0.0 & -3.39458074891096 & 0.0\\\\0.0 & 0.0 & 0.0 & 0.0 & 0.0 & 0.11080293812584 & 0.0 & -0.328352884086712 & 0.0 & -0.101357804670714\\end{matrix}\\right]$"
      ],
      "text/plain": [
       "Matrix([\n",
       "[0.0, 6.66666985477358,               0.0,          -1.488,                0.0,                1.0,               0.0,                0.0,               0.0,                0.0],\n",
       "[0.0,              0.0,               0.0,             0.0,                0.0,                0.0,               0.0,                0.0,               0.0,   1.00959814677957],\n",
       "[0.0,              0.0,               0.0,             0.0,                0.0,                0.0,               0.0,                0.0,               1.0,                0.0],\n",
       "[0.0,              0.0,               0.0,             0.0,                0.0,                0.0,               0.0,                1.0,               0.0,  0.138882749039409],\n",
       "[0.0,              0.0,  -9.7167373288987,             0.0, -0.068569240434248,                0.0,  2.12144472109917,                0.0, -1.38483463278784,                0.0],\n",
       "[0.0,              0.0,               0.0, 9.7167373288987,                0.0, -0.102182698764416,               0.0,              1.488,               0.0,             -6.524],\n",
       "[0.0,              0.0, -1.34948719193129,             0.0,  -1.51124428370744,                0.0, -6.43934542211183,                0.0,  6.07168087655099,                0.0],\n",
       "[0.0,              0.0,               0.0,             0.0,                0.0,   -2.4695370837114,               0.0,  -7.91243804252599,               0.0,  0.525884082270567],\n",
       "[0.0,              0.0,               0.0,             0.0,   1.51964631980466,                0.0, -6.68298775923595,                0.0, -3.39458074891096,                0.0],\n",
       "[0.0,              0.0,               0.0,             0.0,                0.0,   0.11080293812584,               0.0, -0.328352884086712,               0.0, -0.101357804670714]])"
      ]
     },
     "metadata": {},
     "output_type": "display_data"
    },
    {
     "data": {
      "text/latex": [
       "$\\displaystyle \\left[\\begin{matrix}0.0 & 0.0\\\\0.0 & 0.0\\\\0.0 & 0.0\\\\0.0 & 0.0\\\\0.288397096889256 & 0.288397096889256\\\\0.0 & 0.0\\\\-1.24919551521133 & -1.24919551521133\\\\-14.8800418218508 & 14.8800418218508\\\\-13.376138377328 & -13.376138377328\\\\0.0911831189862196 & -0.0911831189862196\\end{matrix}\\right]$"
      ],
      "text/plain": [
       "Matrix([\n",
       "[               0.0,                 0.0],\n",
       "[               0.0,                 0.0],\n",
       "[               0.0,                 0.0],\n",
       "[               0.0,                 0.0],\n",
       "[ 0.288397096889256,   0.288397096889256],\n",
       "[               0.0,                 0.0],\n",
       "[ -1.24919551521133,   -1.24919551521133],\n",
       "[ -14.8800418218508,    14.8800418218508],\n",
       "[  -13.376138377328,    -13.376138377328],\n",
       "[0.0911831189862196, -0.0911831189862196]])"
      ]
     },
     "metadata": {},
     "output_type": "display_data"
    }
   ],
   "source": [
    "# Define generalized coordinates and their derivatives\n",
    "m = sym.Matrix([p_y,psi, theta, phi, v_x, v_y, v_z, w_x, w_y, w_z])\n",
    "mu = sym.Matrix([p_y,psi, theta, phi, v_x, v_y, v_z, w_x, w_y, w_z, delta_r, delta_l])\n",
    "u = sym.Matrix([delta_r, delta_l])\n",
    "\n",
    "xd = f_cut\n",
    "An = sym.lambdify(mu,xd.jacobian([m]))\n",
    "Bn = sym.lambdify(mu,xd.jacobian([u]))\n",
    "\n",
    "# TODO pick better equlibirum points, these are *okay* but could be better\n",
    "#      p_y,psi, theta,         phi, v_x, v_y, v_z, w_x, w_y, w_z, delta_r, delta_l\n",
    "A = An(0,  0,  0,              0 ,  25,   0,   -1,   0,   0,   0,   0,       0)\n",
    "B = Bn(0,  0,  0,              0 ,  25,   0,   -1,   0,   0,   0,   0,       0)\n",
    "\n",
    "#      p_y,  psi,     theta,  phi,  v_x,    v_y,    v_z,   w_x,     w_y,  w_z,  delta_r, delta_l\n",
    "A = An(0.000, -0.000, 0.138, 0.000, 6.524, 0.000, 1.488, -0.000, -0.000, 0.000, -0.441, -0.441) # fall rate is too high\n",
    "B = Bn(0.000, -0.000, 0.138, 0.000, 6.524, 0.000, 1.488, -0.000, -0.000, 0.000, -0.441, -0.441)\n",
    "\n",
    "#A = An(0.000, -0.000, 0.250, -0.000, 5.221, -0.000, .5, -0.000, -0.000, 0.000, -.984, -.984)\n",
    "#B = Bn(0.000, -0.000, 0.250, -0.000, 5.221, -0.000, .5, -0.000, -0.000, 0.000, -.984, -.984)\n",
    "display(sym.Matrix(A))\n",
    "display(sym.Matrix(B))\n",
    "#eq_points = sym.solve(f_cut,m)\n",
    "#eq_points"
   ]
  },
  {
   "cell_type": "code",
   "execution_count": null,
   "id": "94ed9c4b",
   "metadata": {},
   "outputs": [],
   "source": [
    "# find eq point\n",
    "xd_eq = xd.jacobian([m]) @ m + xd.jacobian([u]) @ u\n",
    "equilibrium_points = sym.solve(xd_eq, (p_y, psi, theta, phi, v_x, v_y, v_z, w_x, w_y, w_z, delta_r, delta_l))\n",
    "\n",
    "print(equilibrium_points)"
   ]
  },
  {
   "cell_type": "code",
   "execution_count": 77,
   "id": "dac8eff4",
   "metadata": {},
   "outputs": [
    {
     "name": "stdout",
     "output_type": "stream",
     "text": [
      "Computed Gain Matrix K:\n",
      " [[-754.0498186168546, -5605.169932217304, -15.721253786112314, 2080.5839730931075, 3.197691282639539, -275.7506849753214, 1.5063260608993667, 26.429028149319276, -1.163745235553257, 4617.915654665558], [52.85347396346367, 18.34073354951608, -13.88810430450917, -166.4766694637986, 2.742227501061257, 8.124129408701714, 1.3300301289346923, -2.0192368835625016, -1.0716497650247792, -429.313041280156]]\n",
      "Eigenvalues of F_n: [-20.         -11.         -10.          -9.          -8.\n",
      "  -6.99999999  -6.          -5.          -4.          -3.        ]\n",
      "Targeted poles    : [-20 -11 -10  -9  -8  -7  -6  -5  -4  -3]\n"
     ]
    },
    {
     "name": "stderr",
     "output_type": "stream",
     "text": [
      "C:\\Users\\jelly\\AppData\\Local\\Temp\\ipykernel_3124\\3582211726.py:8: UserWarning: Convergence was not reached after maxiter iterations.\n",
      "You asked for a tolerance of 0.001, we got 0.9999999999742408.\n",
      "  K_place = place_poles(A_num, B_num, desired_poles, maxiter=1000).gain_matrix\n"
     ]
    }
   ],
   "source": [
    "A_num = np.array(A).astype(float)\n",
    "B_num = np.array(B).astype(float)\n",
    "\n",
    "# We should take an automated approach to testing out various poles to see which works.\n",
    "desired_poles = [-10,-20,-3,-4,-5,-6,-7,-8,-9,-11] # Desired pole locations\n",
    "\n",
    "# Compute gain matrix K\n",
    "K_place = place_poles(A_num, B_num, desired_poles, maxiter=1000).gain_matrix\n",
    "Fn = A_num - B_num @ K_place\n",
    "\n",
    "eig_values = np.linalg.eigvals(Fn)\n",
    "\n",
    "print(\"Computed Gain Matrix K:\\n\", K_place.tolist())\n",
    "print(\"Eigenvalues of F_n:\", np.sort(eig_values))\n",
    "print(\"Targeted poles    :\", np.sort(desired_poles))"
   ]
  },
  {
   "cell_type": "code",
   "execution_count": 78,
   "id": "f8f455b6",
   "metadata": {},
   "outputs": [
    {
     "name": "stdout",
     "output_type": "stream",
     "text": [
      "Computed Gain Matrix K: [[-0.7071067811865478, -10.301484462433978, -3.4097408737733206, -5.419932787991832, 0.46589930093429943, -1.3508854584180543, 0.17172614702692995, -0.7276622667677066, -0.7213014817337017, -6.133372160262535], [0.7071067811865578, 10.301484462434116, -3.409740873773326, 5.419932787991843, 0.46589930093429743, 1.3508854584180636, 0.17172614702692918, 0.7276622667677071, -0.7213014817337019, 6.133372160262571]]\n",
      "Eigenvalues of F_n: [-22.26387227+0.j         -13.05382933-2.62272731j\n",
      " -13.05382933+2.62272731j  -2.42315298-2.41830758j\n",
      "  -2.42315298+2.41830758j  -1.46549128-2.120757j\n",
      "  -1.46549128+2.120757j    -1.15389302+0.j\n",
      "  -0.19433861-0.63208863j  -0.19433861+0.63208863j]\n"
     ]
    }
   ],
   "source": [
    "A_num = np.array(A).astype(float)\n",
    "B_num = np.array(B).astype(float)\n",
    "\n",
    "# LQR\n",
    "Q = np.eye(A_num.shape[0])  # State weighting matrix\n",
    "R = np.eye(B_num.shape[1])  # Control weighting matrix\n",
    "\n",
    "\n",
    "P = solve_continuous_are(A_num, B_num, Q, R)\n",
    "K_lqr = np.linalg.inv(R) @ B_num.T @ P\n",
    "Fn = A_num - B_num @ K_lqr\n",
    "\n",
    "\n",
    "eig_values = np.linalg.eigvals(Fn)\n",
    "\n",
    "print(\"Computed Gain Matrix K:\", K_lqr.tolist())\n",
    "print(\"Eigenvalues of F_n:\", np.sort(eig_values))\n"
   ]
  },
  {
   "cell_type": "code",
   "execution_count": 79,
   "id": "e1846146",
   "metadata": {},
   "outputs": [
    {
     "name": "stdout",
     "output_type": "stream",
     "text": [
      "0.000, -0.000, 0.650, -0.000, 2.221, -0.000, 2.746, -0.000, -0.000, 0.000, -1.584, -1.584\n",
      "Computed Gain Matrix K:\n",
      " [[23189.586131768865, 102632.22537281354, -42.934885472988945, -102428.43453411941, 0.44019466521775447, 8750.340609886145, 6.864825331014402, -2427.556165030187, -3.7355952667528403, -396033.6127595628], [45723.67741100568, 211353.54070452796, -52.90841043911792, -201308.06903077426, 1.37097139219161, 17573.575589240645, 9.706382369401561, -4735.25973732838, -4.165846305497678, -774412.8010620215]]\n",
      "Eigenvalues of F_n: [-20.00000001 -11.00000001 -10.00000033  -8.99999939  -8.00000035\n",
      "  -7.00000001  -6.00000003  -5.          -3.99999993  -3.00000002]\n",
      "Targeted poles    : [-20 -11 -10  -9  -8  -7  -6  -5  -4  -3]\n"
     ]
    },
    {
     "name": "stderr",
     "output_type": "stream",
     "text": [
      "C:\\Users\\jelly\\AppData\\Local\\Temp\\ipykernel_3124\\2413736680.py:55: UserWarning: Convergence was not reached after maxiter iterations.\n",
      "You asked for a tolerance of 0.001, we got 0.9999999999999799.\n",
      "  K_place = place_poles(A_num, B_num, desired_poles, maxiter=1000).gain_matrix\n"
     ]
    }
   ],
   "source": [
    "from sympy import *\n",
    "from scipy.optimize import root\n",
    "\n",
    "p_ye =0\n",
    "w_ze = 0\n",
    "\n",
    "\n",
    "f = f_sym.subs(params)\n",
    "\n",
    "a = f[1:2]\n",
    "b = f[3:14]\n",
    "fnew = Matrix(a+b)\n",
    "\n",
    "f_num = sym.lambdify([p_y,psi,theta,phi,v_x,v_y,v_z,w_x,w_y,w_z,delta_r,delta_l],fnew)\n",
    "\n",
    "f_num_root = lambda x: f_num(p_ye, x[0],x[1],x[2],x[3],x[4],x[5],x[6], x[7], w_ze, x[8],x[9]).flatten()\n",
    "\n",
    "#      p_y,  psi,   theta,  phi,  v_x,    v_y,    v_z,   w_x,     w_y,  w_z,  delta_r, delta_l\n",
    "x0 =   [     0.000,0.000,0.000,5.000, 0.000,  0.500,   0.000,  0.000,         -0.060, -0.060]\n",
    "\n",
    "sol = root(f_num_root,x0)\n",
    "#print(f\"{sol.x[0]:.6f}\")\n",
    "psi_e = sol.x[0]\n",
    "theta_e = sol.x[1]\n",
    "phi_e = sol.x[2]\n",
    "vx_e = sol.x[3]\n",
    "vy_e = sol.x[4]\n",
    "vz_e = sol.x[5]\n",
    "wx_e = sol.x[6]\n",
    "wy_e = sol.x[7]\n",
    "delta_re = sol.x[8]\n",
    "delta_le =sol.x[9]\n",
    "\n",
    "#print(f_num(p_ye, psi_e, theta_e, phi_e, vx_e, vy_e, vz_e, wx_e, wy_e, w_ze, delta_re, delta_le))\n",
    "\n",
    "#print(p_ye, psi_e, theta_e, phi_e, vx_e, vy_e, vz_e, wx_e, wy_e, w_ze, delta_re, delta_le)\n",
    "#new cell\n",
    "A_num = sym.lambdify([p_y,psi,theta,phi,v_x,v_y,v_z,w_x,w_y,w_z,delta_r,delta_l],fnew.jacobian([p_y,psi,theta,phi,v_x,v_y,v_z,w_x,w_y,w_z]))\n",
    "B_num = sym.lambdify([p_y,psi,theta,phi,v_x,v_y,v_z,w_x,w_y,w_z,delta_r,delta_l],fnew.jacobian([delta_r,delta_l]))\n",
    "\n",
    "A = A_num(p_ye, psi_e, theta_e, phi_e, vx_e, vy_e, vz_e, wx_e, wy_e, w_ze, delta_re, delta_le)\n",
    "B = B_num(p_ye, psi_e, theta_e, phi_e, vx_e, vy_e, vz_e, wx_e, wy_e, w_ze, delta_re, delta_le)\n",
    "\n",
    "#Matrix(B)\n",
    "print(f\"{p_ye:.3f}, {psi_e:.3f}, {theta_e:.3f}, {phi_e:.3f}, {vx_e:.3f}, {vy_e:.3f}, {vz_e:.3f}, {wx_e:.3f}, {wy_e:.3f}, {w_ze:.3f}, {delta_re:.3f}, {delta_le:.3f}\")\n",
    "\n",
    "# Substitute values\n",
    "A_num = np.array(A).astype(float)\n",
    "B_num = np.array(B).astype(float)\n",
    "\n",
    "# We should take an automated approach to testing out various poles to see which works.\n",
    "desired_poles = [-10,-20,-3,-4,-5,-6,-7,-8,-9,-11] # Desired pole locations\n",
    "\n",
    "# Compute gain matrix K\n",
    "K_place = place_poles(A_num, B_num, desired_poles, maxiter=1000).gain_matrix\n",
    "\n",
    "# Compute F_n = A - BK\n",
    "Fn = A_num - B_num @ K_place\n",
    "\n",
    "# Compute eigenvalues of F_n\n",
    "eig_values = np.linalg.eigvals(Fn)\n",
    "\n",
    "# Output results\n",
    "print(\"Computed Gain Matrix K:\\n\", K_place.tolist())\n",
    "print(\"Eigenvalues of F_n:\", np.sort(eig_values))\n",
    "print(\"Targeted poles    :\", np.sort(desired_poles))"
   ]
  },
  {
   "cell_type": "code",
   "execution_count": null,
   "id": "d782dd92",
   "metadata": {},
   "outputs": [],
   "source": []
  }
 ],
 "metadata": {
  "kernelspec": {
   "display_name": "ae353",
   "language": "python",
   "name": "python3"
  },
  "language_info": {
   "codemirror_mode": {
    "name": "ipython",
    "version": 3
   },
   "file_extension": ".py",
   "mimetype": "text/x-python",
   "name": "python",
   "nbconvert_exporter": "python",
   "pygments_lexer": "ipython3",
   "version": "3.13.1"
  }
 },
 "nbformat": 4,
 "nbformat_minor": 5
}
