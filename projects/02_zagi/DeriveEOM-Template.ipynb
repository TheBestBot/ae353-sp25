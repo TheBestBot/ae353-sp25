{
 "cells": [
  {
   "cell_type": "markdown",
   "id": "occasional-george",
   "metadata": {},
   "source": [
    "# Equations of motion for a \"zagi-like\" flying wing UAV"
   ]
  },
  {
   "cell_type": "markdown",
   "id": "d4cbc89f",
   "metadata": {},
   "source": [
    "Do imports."
   ]
  },
  {
   "cell_type": "code",
   "execution_count": 30,
   "id": "sitting-discount",
   "metadata": {},
   "outputs": [],
   "source": [
    "import numpy as np\n",
    "import sympy as sym\n",
    "from scipy import linalg\n",
    "import matplotlib.pyplot as plt\n",
    "from IPython.display import display, Markdown\n",
    "from scipy.signal import place_poles\n",
    "from scipy.linalg import solve_continuous_are\n",
    "from scipy.optimize import minimize"
   ]
  },
  {
   "cell_type": "markdown",
   "id": "e2bc1e04",
   "metadata": {},
   "source": [
    "Define variables and parameters as symbols."
   ]
  },
  {
   "cell_type": "code",
   "execution_count": 3,
   "id": "eb2cd207",
   "metadata": {},
   "outputs": [],
   "source": [
    "#\n",
    "# VARIABLES\n",
    "#\n",
    "\n",
    "# Time\n",
    "t = sym.Symbol('t', real=True)\n",
    "\n",
    "# Components of position (meters)\n",
    "p_x, p_y, p_z = sym.symbols('p_x, p_y, p_z', real=True)\n",
    "\n",
    "# Yaw, pitch, and roll angles (radians)\n",
    "psi, theta, phi = sym.symbols('psi, theta, phi', real=True)\n",
    "\n",
    "# Components of linear velocity in the body frame (meters / second)\n",
    "v_x, v_y, v_z = sym.symbols('v_x, v_y, v_z', real=True)\n",
    "\n",
    "# Components of angular velocity in the body frame (radians / second)\n",
    "w_x, w_y, w_z = sym.symbols('w_x, w_y, w_z', real=True)\n",
    "\n",
    "# Elevon angles\n",
    "delta_r, delta_l = sym.symbols('delta_r, delta_l', real=True)\n",
    "\n",
    "#\n",
    "# PARAMETERS\n",
    "#\n",
    "\n",
    "# Aerodynamic parameters\n",
    "rho, S, c, b = sym.symbols('rho, S, c, b', real=True)\n",
    "C_L_0, C_L_alpha, C_L_q, C_L_delta_e = sym.symbols('C_L_0, C_L_alpha, C_L_q, C_L_delta_e', real=True)\n",
    "C_D_0, C_D_alpha, C_D_q, C_D_delta_e = sym.symbols('C_D_0, C_D_alpha, C_D_q, C_D_delta_e', real=True)\n",
    "C_m_0, C_m_alpha, C_m_q, C_m_delta_e = sym.symbols('C_m_0, C_m_alpha, C_m_q, C_m_delta_e', real=True)\n",
    "C_Y_0, C_Y_beta, C_Y_p, C_Y_r, C_Y_delta_a = sym.symbols('C_Y_0, C_Y_beta, C_Y_p, C_Y_r, C_Y_delta_a', real=True)\n",
    "C_l_0, C_l_beta, C_l_p, C_l_r, C_l_delta_a = sym.symbols('C_l_0, C_l_beta, C_l_p, C_l_r, C_l_delta_a', real=True)\n",
    "C_n_0, C_n_beta, C_n_p, C_n_r, C_n_delta_a = sym.symbols('C_n_0, C_n_beta, C_n_p, C_n_r, C_n_delta_a', real=True)\n",
    "e, alpha_0, C_D_p, M = sym.symbols('e, alpha_0, C_D_p, M', real=True)\n",
    "k, k_e = sym.symbols('k, k_e', real=True)\n",
    "\n",
    "# Mass and inertia parameters\n",
    "J_x, J_y, J_z, J_xz = sym.symbols('J_x, J_y, J_z, J_xz', real=True)\n",
    "m, g = sym.symbols('m, g', real=True)"
   ]
  },
  {
   "cell_type": "markdown",
   "id": "9a082a6b",
   "metadata": {},
   "source": [
    "Define numerical values of parameters."
   ]
  },
  {
   "cell_type": "code",
   "execution_count": 4,
   "id": "43e0698b",
   "metadata": {},
   "outputs": [],
   "source": [
    "params = {\n",
    "    g: 9.81,               # Gravity (m/s²)\n",
    "    m: 1.56,               # Mass of the UAV (kg)\n",
    "    J_x: 0.1147,           # Moment of inertia about x-axis (kg·m²) [UPDATED 02/28/2025]\n",
    "    J_y: 0.0576,           # Moment of inertia about y-axis (kg·m²) [UPDATED 02/28/2025]\n",
    "    J_z: 0.1712,           # Moment of inertia about z-axis (kg·m²) [UPDATED 02/28/2025]\n",
    "    J_xz: 0.0015,          # Product of inertia (kg·m²)             [UPDATED 02/28/2025]\n",
    "\n",
    "    S: 0.4696,             # Wing area (m²)\n",
    "    b: 1.4224,             # Wingspan (m)\n",
    "    c: 0.3302,             # Mean aerodynamic chord (m)\n",
    "\n",
    "    rho: 1.2682,           # Air density (kg/m³)\n",
    "\n",
    "    # Lift Coefficients\n",
    "    C_L_0: 0.2,            # Lift coefficient at zero AoA\n",
    "    C_L_alpha: 4.8,        # Lift curve slope (1/rad)\n",
    "    C_L_q: 2.2,            # Pitch rate effect on lift (1/rad)\n",
    "\n",
    "    # Drag Coefficients\n",
    "    C_D_0: 0.02,           # Zero-lift drag coefficient\n",
    "    C_D_alpha: 0.30,       # Drag change per AoA (1/rad)\n",
    "    C_D_q: 0.0,            # Pitch rate effect on drag (1/rad)\n",
    "    C_D_p: 0.03,           # Parasitic drag coefficient\n",
    "\n",
    "    # Pitching Moment Coefficients\n",
    "    C_m_0: -0.02,          # Pitching moment at zero AoA\n",
    "    C_m_alpha: -0.6,       # Pitching moment change per AoA (1/rad)\n",
    "    C_m_q: -1.8,           # Pitch rate effect on moment (1/rad)\n",
    "    C_m_delta_e: -0.35,    # Effect of elevator deflection on pitching moment (1/rad)\n",
    "\n",
    "    # Side Force Coefficients\n",
    "    C_Y_0: 0.0,            # Side force at zero sideslip\n",
    "    C_Y_beta: -0.08,       # Side force per sideslip angle (1/rad)\n",
    "    C_Y_p: 0.0,            # Side force due to roll rate\n",
    "    C_Y_r: 0.0,            # Side force due to yaw rate\n",
    "    C_Y_delta_a: 0.0,      # Side force due to aileron deflection\n",
    "\n",
    "    # Roll Moment Coefficients\n",
    "    C_l_0: 0.0,            # Roll moment at zero sideslip\n",
    "    C_l_beta: -0.10,       # Roll moment due to sideslip (1/rad)\n",
    "    C_l_p: -0.45,          # Roll damping derivative (1/rad)\n",
    "    C_l_r: 0.03,           # Roll moment due to yaw rate (1/rad)\n",
    "    C_l_delta_a: 0.18,     # Aileron effect on roll (1/rad)\n",
    "\n",
    "    # Yaw Moment Coefficients\n",
    "    C_n_0: 0.0,            # Yaw moment at zero sideslip\n",
    "    C_n_beta: 0.008,       # Yaw moment due to sideslip (1/rad)\n",
    "    C_n_p: -0.022,         # Yaw moment due to roll rate (1/rad)\n",
    "    C_n_r: -0.009,         # Yaw damping derivative (1/rad)\n",
    "    C_n_delta_a: -0.004,   # Aileron effect on yaw (1/rad)\n",
    "\n",
    "    # Control Derivatives\n",
    "    C_L_delta_e: 0.30,     # Effect of elevator deflection on lift (1/rad)\n",
    "    C_D_delta_e: 0.32,     # Effect of elevator deflection on drag (1/rad)\n",
    "\n",
    "    # Efficiency Factors\n",
    "    e: 0.85,               # Oswald efficiency factor\n",
    "    alpha_0: 0.45,         # Zero-lift angle of attack (rad)\n",
    "\n",
    "    # Additional Drag & Lift Coefficients\n",
    "    M: 50.0,               # Sigmoid blending function parameter\n",
    "    k_e: 0.01,             # Drag due to elevator deflection (empirical coefficient)\n",
    "    k: 0.048               # Induced drag factor\n",
    "}"
   ]
  },
  {
   "cell_type": "markdown",
   "id": "ac2be7c3",
   "metadata": {},
   "source": [
    "Compute aerodynamic forces and torques (assuming low angles of attack, so no stall)."
   ]
  },
  {
   "cell_type": "code",
   "execution_count": 5,
   "id": "2e55a7b4",
   "metadata": {},
   "outputs": [],
   "source": [
    "# Get airspeed, angle of attack, and angle of sideslip\n",
    "V_a = sym.sqrt(v_x**2 + v_y**2 + v_z**2)\n",
    "alpha = sym.atan(v_z / v_x)\n",
    "beta = sym.asin(v_y / V_a)\n",
    "\n",
    "# Convert from right and left elevon deflections to equivalent elevator and aileron deflections\n",
    "delta_e = (delta_r + delta_l) / 2\n",
    "delta_a = (-delta_r + delta_l) / 2\n",
    "\n",
    "# Longitudinal aerodynamics\n",
    "C_L = C_L_0 + C_L_alpha * alpha\n",
    "F_lift = rho * V_a**2 * S * (C_L + C_L_q * (c / (2 * V_a)) * w_y + C_L_delta_e * delta_e) / 2\n",
    "F_drag = rho * V_a**2 * S * ((C_D_0 + k * C_L**2) + C_D_q * (c / (2 * V_a)) * w_y + k_e * (C_L_delta_e * delta_e)**2) / 2\n",
    "f_x, f_z = sym.Matrix([[sym.cos(alpha), -sym.sin(alpha)], [sym.sin(alpha), sym.cos(alpha)]]) @ sym.Matrix([[-F_drag], [-F_lift]])\n",
    "tau_y = rho * V_a**2 * S * c * (C_m_0 + C_m_alpha * alpha + C_m_q * (c / (2 * V_a)) * w_y + C_m_delta_e * delta_e) / 2\n",
    "\n",
    "# Lateral aerodynamics\n",
    "f_y =   rho * V_a**2 * S *     (C_Y_0 + C_Y_beta * beta + C_Y_p * (b / (2 * V_a)) * w_x + C_Y_r * (b / (2 * V_a)) * w_z + C_Y_delta_a * delta_a) / 2\n",
    "tau_x = rho * V_a**2 * S * b * (C_l_0 + C_l_beta * beta + C_l_p * (b / (2 * V_a)) * w_x + C_l_r * (b / (2 * V_a)) * w_z + C_l_delta_a * delta_a) / 2\n",
    "tau_z = rho * V_a**2 * S * b * (C_n_0 + C_n_beta * beta + C_n_p * (b / (2 * V_a)) * w_x + C_n_r * (b / (2 * V_a)) * w_z + C_n_delta_a * delta_a) / 2"
   ]
  },
  {
   "cell_type": "markdown",
   "id": "a2dc1366",
   "metadata": {},
   "source": [
    "Define the linear velocity vector $v^B_{W, B}$ and the angular velocity vector $w^B_{W, B}$ in the coordinates of the body frame."
   ]
  },
  {
   "cell_type": "code",
   "execution_count": 6,
   "id": "90019c9a",
   "metadata": {},
   "outputs": [],
   "source": [
    "v_inB_ofWB = sym.Matrix([v_x, v_y, v_z])\n",
    "w_inB_ofWB = sym.Matrix([w_x, w_y, w_z])"
   ]
  },
  {
   "cell_type": "markdown",
   "id": "5228b6ce",
   "metadata": {},
   "source": [
    "Define the moment of inertia matrix in the coordinates of the body frame."
   ]
  },
  {
   "cell_type": "code",
   "execution_count": 7,
   "id": "2c51e28d",
   "metadata": {},
   "outputs": [],
   "source": [
    "J_inB = sym.Matrix([[  J_x,    0, -J_xz],\n",
    "                    [    0,  J_y,     0],\n",
    "                    [-J_xz,    0,   J_z]])"
   ]
  },
  {
   "cell_type": "markdown",
   "id": "c4b2b9b3",
   "metadata": {},
   "source": [
    "Define individual rotation matrices."
   ]
  },
  {
   "cell_type": "code",
   "execution_count": 8,
   "id": "abb422e6",
   "metadata": {},
   "outputs": [],
   "source": [
    "Rz = sym.Matrix([[sym.cos(psi), -sym.sin(psi), 0],\n",
    "                 [sym.sin(psi), sym.cos(psi), 0],\n",
    "                 [0, 0, 1]])\n",
    "\n",
    "Ry = sym.Matrix([[sym.cos(theta), 0, sym.sin(theta)],\n",
    "                 [0, 1, 0],\n",
    "                 [-sym.sin(theta), 0, sym.cos(theta)]])\n",
    "\n",
    "Rx = sym.Matrix([[1, 0, 0],\n",
    "                 [0, sym.cos(phi), -sym.sin(phi)],\n",
    "                 [0, sym.sin(phi), sym.cos(phi)]])"
   ]
  },
  {
   "cell_type": "markdown",
   "id": "bfe068f4",
   "metadata": {},
   "source": [
    "Apply sequential transformation to compute the rotation matrix that describes the orientation of the aircraft (i.e., of frame $B$ in the coordinates of frame $W$)."
   ]
  },
  {
   "cell_type": "code",
   "execution_count": 9,
   "id": "a708cce2",
   "metadata": {},
   "outputs": [],
   "source": [
    "R_inW_ofB = Rz @ Ry @ Rx"
   ]
  },
  {
   "cell_type": "markdown",
   "id": "2d450c82",
   "metadata": {},
   "source": [
    "Compute the matrix $N$ for which\n",
    "\n",
    "$$\\begin{bmatrix} \\dot{\\psi} \\\\ \\dot{\\theta} \\\\ \\dot{\\phi} \\end{bmatrix} = N w_{W, B}^{B}.$$"
   ]
  },
  {
   "cell_type": "code",
   "execution_count": 10,
   "id": "e1984caf",
   "metadata": {},
   "outputs": [],
   "source": [
    "# First, compute the inverse of N\n",
    "Ninv = sym.Matrix.hstack((Ry * Rx).T * sym.Matrix([0, 0, 1]),\n",
    "                              (Rx).T * sym.Matrix([0, 1, 0]),\n",
    "                                       sym.Matrix([1, 0, 0]))\n",
    "\n",
    "# Then, take the inverse of this result to compute N\n",
    "N = sym.simplify(Ninv.inv())"
   ]
  },
  {
   "cell_type": "markdown",
   "id": "291bac9d",
   "metadata": {},
   "source": [
    "Compute the total force and torque on the aicraft in the body frame (remember that $z$ is down!)."
   ]
  },
  {
   "cell_type": "code",
   "execution_count": 11,
   "id": "3603cc4f",
   "metadata": {},
   "outputs": [],
   "source": [
    "# Total force\n",
    "f_inB = R_inW_ofB.T * sym.Matrix([0, 0, m * g]) + sym.Matrix([f_x, f_y, f_z])\n",
    "\n",
    "# Total torque\n",
    "tau_inB = sym.Matrix([tau_x, tau_y, tau_z])"
   ]
  },
  {
   "cell_type": "markdown",
   "id": "7384c6b3",
   "metadata": {},
   "source": [
    "Define (fully) symbolic equations of motion. These are complicated enough that we won't bother to show them."
   ]
  },
  {
   "cell_type": "code",
   "execution_count": 12,
   "id": "14326c7d",
   "metadata": {},
   "outputs": [],
   "source": [
    "f_sym = sym.Matrix.vstack(\n",
    "    R_inW_ofB * v_inB_ofWB,\n",
    "    N * w_inB_ofWB,\n",
    "    (1 / m) * (f_inB - w_inB_ofWB.cross(m * v_inB_ofWB)),\n",
    "    J_inB.inv() * (tau_inB - w_inB_ofWB.cross(J_inB * w_inB_ofWB)),\n",
    ")"
   ]
  },
  {
   "cell_type": "markdown",
   "id": "3943b6f1",
   "metadata": {},
   "source": [
    "Substitute numerical values for each parameter. The only symbols that remain in these equations of motion are the (nonlinear) states and inputs. Again, these equations of motion are complicated, so we won't bother to show them. They have the following form:\n",
    "\n",
    "$$\n",
    "\\begin{bmatrix} \\dot{p}_x \\\\ \\dot{p}_y \\\\ \\dot{p}_z \\\\ \\dot{\\psi} \\\\ \\dot{\\theta} \\\\ \\dot{\\phi} \\\\ \\dot{v}_x \\\\ \\dot{v}_y \\\\ \\dot{v}_z \\\\ \\dot{w}_x \\\\ \\dot{w}_y \\\\ \\dot{w}_z \\end{bmatrix}\n",
    "=\n",
    "f\\left(\n",
    "\\begin{bmatrix} p_x \\\\ p_y \\\\ p_z \\\\ \\psi \\\\ \\theta \\\\ \\phi \\\\ v_x \\\\ v_y \\\\ v_z \\\\ w_x \\\\ w_y \\\\ w_z \\end{bmatrix},\n",
    "\\begin{bmatrix} \\delta_r \\\\ \\delta_l \\end{bmatrix}\n",
    "\\right).\n",
    "$$"
   ]
  },
  {
   "cell_type": "code",
   "execution_count": 13,
   "id": "fa92b4e7",
   "metadata": {},
   "outputs": [],
   "source": [
    "f = f_sym.subs(params)\n",
    "\n",
    "a = f[1:2]\n",
    "b = f[3:14]\n",
    "f_cut = sym.Matrix(a+b)\n",
    "\n",
    "#display(f_cut)\n",
    "#display(f) # Basically useless"
   ]
  },
  {
   "cell_type": "code",
   "execution_count": 67,
   "id": "f30a37a7",
   "metadata": {},
   "outputs": [
    {
     "data": {
      "text/latex": [
       "$\\displaystyle \\left[\\begin{matrix}0.0 & 7.14180169621525 & 0.0 & -1.355 & 0.0 & 1.0 & 0.0 & 0.0 & 0.0 & 0.0\\\\0.0 & 0.0 & 0.0 & 0.0 & 0.0 & 0.0 & 0.0 & 0.0 & 0.0 & 1.00619228572814\\\\0.0 & 0.0 & 0.0 & 0.0 & 0.0 & 0.0 & 0.0 & 0.0 & 1.0 & 0.0\\\\0.0 & 0.0 & 0.0 & 0.0 & 0.0 & 0.0 & 0.0 & 1.0 & 0.0 & 0.111458135005104\\\\0.0 & 0.0 & -9.74962752064922 & 0.0 & -0.0648254024214451 & -4.22397673468489 \\cdot 10^{-5} & 1.93660354582171 & 0.0 & -1.26105572988292 & -0.001\\\\0.0 & 0.0 & 0.0 & 9.74962752064922 & 1.49948224592026 \\cdot 10^{-5} & -0.109401995885615 & 2.88812856179382 \\cdot 10^{-6} & 1.355 & 0.0 & -7.035\\\\0.0 & 0.0 & -1.086675300446 & 0.0 & -1.45797843669719 & 0.000380033559764948 & -6.82597729024404 & 0.001 & 6.54725244260245 & 0.0\\\\0.0 & 0.0 & 0.0 & 0.0 & 0.000362392758993803 & -2.64401204057503 & 6.9799884639176 \\cdot 10^{-5} & -8.47145846942031 & 0.0 & 0.563038236601735\\\\0.0 & 0.0 & 0.0 & 0.0 & 1.38500431551202 & 3.99257893721586 \\cdot 10^{-7} & -7.20590270800931 & 0.0 & -3.63441074431622 & 0.0\\\\0.0 & 0.0 & 0.0 & 0.0 & -1.62598013679941 \\cdot 10^{-5} & 0.118631262704313 & -3.13177410854754 \\cdot 10^{-6} & -0.351551292522594 & 0.0 & -0.108518819130677\\end{matrix}\\right]$"
      ],
      "text/plain": [
       "Matrix([\n",
       "[0.0, 7.14180169621525,               0.0,           -1.355,                  0.0,                  1.0,                  0.0,                0.0,               0.0,                0.0],\n",
       "[0.0,              0.0,               0.0,              0.0,                  0.0,                  0.0,                  0.0,                0.0,               0.0,   1.00619228572814],\n",
       "[0.0,              0.0,               0.0,              0.0,                  0.0,                  0.0,                  0.0,                0.0,               1.0,                0.0],\n",
       "[0.0,              0.0,               0.0,              0.0,                  0.0,                  0.0,                  0.0,                1.0,               0.0,  0.111458135005104],\n",
       "[0.0,              0.0, -9.74962752064922,              0.0,  -0.0648254024214451, -4.22397673468489e-5,     1.93660354582171,                0.0, -1.26105572988292,             -0.001],\n",
       "[0.0,              0.0,               0.0, 9.74962752064922,  1.49948224592026e-5,   -0.109401995885615,  2.88812856179382e-6,              1.355,               0.0,             -7.035],\n",
       "[0.0,              0.0,   -1.086675300446,              0.0,    -1.45797843669719, 0.000380033559764948,    -6.82597729024404,              0.001,  6.54725244260245,                0.0],\n",
       "[0.0,              0.0,               0.0,              0.0, 0.000362392758993803,    -2.64401204057503,   6.9799884639176e-5,  -8.47145846942031,               0.0,  0.563038236601735],\n",
       "[0.0,              0.0,               0.0,              0.0,     1.38500431551202,  3.99257893721586e-7,    -7.20590270800931,                0.0, -3.63441074431622,                0.0],\n",
       "[0.0,              0.0,               0.0,              0.0, -1.62598013679941e-5,    0.118631262704313, -3.13177410854754e-6, -0.351551292522594,               0.0, -0.108518819130677]])"
      ]
     },
     "metadata": {},
     "output_type": "display_data"
    },
    {
     "data": {
      "text/latex": [
       "$\\displaystyle \\left[\\begin{matrix}0.0 & 0.0\\\\0.0 & 0.0\\\\0.0 & 0.0\\\\0.0 & 0.0\\\\0.281265639770187 & 0.281265639770187\\\\0.0 & 0.0\\\\-1.4424419460494 & -1.4424419460494\\\\-17.0568912033001 & 17.0568912033001\\\\-15.3329768661896 & -15.3329768661896\\\\0.104522591989064 & -0.104522591989064\\end{matrix}\\right]$"
      ],
      "text/plain": [
       "Matrix([\n",
       "[              0.0,                0.0],\n",
       "[              0.0,                0.0],\n",
       "[              0.0,                0.0],\n",
       "[              0.0,                0.0],\n",
       "[0.281265639770187,  0.281265639770187],\n",
       "[              0.0,                0.0],\n",
       "[ -1.4424419460494,   -1.4424419460494],\n",
       "[-17.0568912033001,   17.0568912033001],\n",
       "[-15.3329768661896,  -15.3329768661896],\n",
       "[0.104522591989064, -0.104522591989064]])"
      ]
     },
     "metadata": {},
     "output_type": "display_data"
    }
   ],
   "source": [
    "# Define generalized coordinates and their derivatives\n",
    "m = sym.Matrix([p_y,psi, theta, phi, v_x, v_y, v_z, w_x, w_y, w_z])\n",
    "mu = sym.Matrix([p_y,psi, theta, phi, v_x, v_y, v_z, w_x, w_y, w_z, delta_r, delta_l])\n",
    "u = sym.Matrix([delta_r, delta_l])\n",
    "\n",
    "xd = f_cut\n",
    "An = sym.lambdify(mu,xd.jacobian([m]))\n",
    "Bn = sym.lambdify(mu,xd.jacobian([u]))\n",
    "\n",
    "# TODO pick better equlibirum points, these are *okay* but could be better\n",
    "#      p_y,psi, theta,         phi, v_x, v_y, v_z, w_x, w_y, w_z, delta_r, delta_l\n",
    "A = An(0,  0,  0,              0 ,  25,   0,   -1,   0,   0,   0,   0,       0)\n",
    "B = Bn(0,  0,  0,              0 ,  25,   0,   -1,   0,   0,   0,   0,       0)\n",
    "\n",
    "#      p_y,  psi,     theta,  phi,  v_x,    v_y,    v_z,   w_x,     w_y,  w_z,  delta_r, delta_l\n",
    "A = An(0.000, -0.000, 0.138, 0.000, 6.524, 0.000, 1.488, -0.000, -0.000, 0.000, -0.441, -0.441) # fall rate is too high\n",
    "B = Bn(0.000, -0.000, 0.138, 0.000, 6.524, 0.000, 1.488, -0.000, -0.000, 0.000, -0.441, -0.441)\n",
    "\n",
    "#      0.000, 0.000, 0.227, -0.000, 5.294, -0.000, 1.851, -0.000, 0.000, -0.000, -0.634, -0.634\n",
    "#      0.000, 0.000, 0.007, -0.000, 9.991, -0.000, 0.766, -0.000, 0.000, -0.000, -0.188, -0.188 # this one might work\n",
    "A = An(0.000, 0.000, 0.007, -0.000, 9.991, -0.000, 0.766, -0.000, 0.000, -0.000, -0.188, -0.188)\n",
    "B = Bn(0.000, 0.000, 0.007, -0.000, 9.991, -0.000, 0.766, -0.000, 0.000, -0.000, -0.188, -0.188)\n",
    "\n",
    "#      0.000, 0.000, 0.111, -0.000, 7.035, -0.001, 1.355, -0.000, 0.000, -0.000, -0.383, -0.383 # new EQ\n",
    "A = An(0.000, 0.000, 0.111, -0.000, 7.035, -0.001, 1.355, -0.000, 0.000, -0.000, -0.383, -0.383)\n",
    "B = Bn(0.000, 0.000, 0.111, -0.000, 7.035, -0.001, 1.355, -0.000, 0.000, -0.000, -0.383, -0.383)\n",
    "\n",
    "#A = An(0.000, -0.000, 0.250, -0.000, 5.221, -0.000, .5, -0.000, -0.000, 0.000, -.984, -.984)\n",
    "#B = Bn(0.000, -0.000, 0.250, -0.000, 5.221, -0.000, .5, -0.000, -0.000, 0.000, -.984, -.984)\n",
    "display(sym.Matrix(A))\n",
    "display(sym.Matrix(B))\n",
    "#eq_points = sym.solve(f_cut,m)\n",
    "#eq_points"
   ]
  },
  {
   "cell_type": "code",
   "execution_count": 68,
   "id": "dac8eff4",
   "metadata": {},
   "outputs": [
    {
     "name": "stdout",
     "output_type": "stream",
     "text": [
      "Computed Gain Matrix K:\n",
      " [[-1534.0411187209265, -10446.053949048179, -8.37333912597382, 4150.427910924574, 1.304678337664958, -516.2616957221518, 0.6807286075800351, 51.720716218735575, -0.7771648139736959, 8828.027988185739], [-401.1186752556395, -2824.4488462177073, -7.782240522127182, 1094.392023859124, 1.219619969947604, -135.93835372352765, 0.6497566298181775, 14.208781033753242, -0.7386541186066975, 2307.0498503933673]]\n",
      "Eigenvalues of F_n: [-20.         -11.         -10.          -9.          -7.99999999\n",
      "  -7.00000001  -6.          -5.          -4.          -3.        ]\n",
      "Targeted poles    : [-20 -11 -10  -9  -8  -7  -6  -5  -4  -3]\n"
     ]
    },
    {
     "name": "stderr",
     "output_type": "stream",
     "text": [
      "C:\\Users\\jelly\\AppData\\Local\\Temp\\ipykernel_3148\\3582211726.py:8: UserWarning: Convergence was not reached after maxiter iterations.\n",
      "You asked for a tolerance of 0.001, we got 0.9999999999592722.\n",
      "  K_place = place_poles(A_num, B_num, desired_poles, maxiter=1000).gain_matrix\n"
     ]
    }
   ],
   "source": [
    "A_num = np.array(A).astype(float)\n",
    "B_num = np.array(B).astype(float)\n",
    "\n",
    "# We should take an automated approach to testing out various poles to see which works.\n",
    "desired_poles = [-10,-20,-3,-4,-5,-6,-7,-8,-9,-11] # Desired pole locations\n",
    "\n",
    "# Compute gain matrix K\n",
    "K_place = place_poles(A_num, B_num, desired_poles, maxiter=1000).gain_matrix\n",
    "Fn = A_num - B_num @ K_place\n",
    "\n",
    "eig_values = np.linalg.eigvals(Fn)\n",
    "\n",
    "print(\"Computed Gain Matrix K:\\n\", K_place.tolist())\n",
    "print(\"Eigenvalues of F_n:\", np.sort(eig_values))\n",
    "print(\"Targeted poles    :\", np.sort(desired_poles))"
   ]
  },
  {
   "cell_type": "code",
   "execution_count": 78,
   "id": "f8f455b6",
   "metadata": {},
   "outputs": [
    {
     "data": {
      "text/latex": [
       "$\\displaystyle \\left[\\begin{matrix}-0.707080480392236 & -10.8219752093133 & -3.478943491828 & -5.68673648582942 & 0.493813163783551 & -1.37370197816552 & 0.141456031474526 & -0.716555724134964 & -0.717357852485604 & -6.02453807024472\\\\0.707133081002651 & 10.8213090906008 & -3.47869456624136 & 5.68534237349051 & 0.493814126490846 & 1.37360048461444 & 0.141481427340814 & 0.716530036643642 & -0.717349030223311 & 6.02198822996857\\end{matrix}\\right]$"
      ],
      "text/plain": [
       "Matrix([\n",
       "[-0.707080480392236, -10.8219752093133,   -3.478943491828, -5.68673648582942, 0.493813163783551, -1.37370197816552, 0.141456031474526, -0.716555724134964, -0.717357852485604, -6.02453807024472],\n",
       "[ 0.707133081002651,  10.8213090906008, -3.47869456624136,  5.68534237349051, 0.493814126490846,  1.37360048461444, 0.141481427340814,  0.716530036643642, -0.717349030223311,  6.02198822996857]])"
      ]
     },
     "metadata": {},
     "output_type": "display_data"
    },
    {
     "data": {
      "text/plain": [
       "array([[ -0.70708048, -10.82197521,  -3.47894349,  -5.68673649,\n",
       "          0.49381316,  -1.37370198,   0.14145603,  -0.71655572,\n",
       "         -0.71735785,  -6.02453807],\n",
       "       [  0.70713308,  10.82130909,  -3.47869457,   5.68534237,\n",
       "          0.49381413,   1.37360048,   0.14148143,   0.71653004,\n",
       "         -0.71734903,   6.02198823]])"
      ]
     },
     "metadata": {},
     "output_type": "display_data"
    }
   ],
   "source": [
    "def lqr(A, B, Q, R):\n",
    "    P = linalg.solve_continuous_are(A, B, Q, R)\n",
    "    K = linalg.inv(R) @  B.T @ P\n",
    "    return K, P\n",
    "\n",
    "Q = np.diag([1., 1., 1., 1., 1., 1., 1., 1., 1., 1.])\n",
    "R = np.diag([1., 1.])\n",
    "\n",
    "K, P = lqr(A, B, Q, R)\n",
    "display(sym.Matrix(K))\n",
    "display(K)\n"
   ]
  },
  {
   "cell_type": "code",
   "execution_count": 18,
   "id": "e1846146",
   "metadata": {},
   "outputs": [
    {
     "name": "stdout",
     "output_type": "stream",
     "text": [
      "0.000, -0.000, 0.650, -0.000, 2.221, -0.000, 2.746, -0.000, -0.000, 0.000, -1.584, -1.584\n",
      "Computed Gain Matrix K:\n",
      " [[-5287.578247199959, -30547.139566992715, -40.098364741791215, 22897.501158002604, -0.13196412004727975, -2239.45072598521, 5.686911247546208, 517.6733543313546, -3.6287795416700144, 85450.05489535719], [13610.258120120741, 66166.7846406815, -32.17185441516256, -59782.3024328155, -0.5595109754258787, 5340.08643500163, 3.8295428031243013, -1395.405655639092, -3.257494772187899, -228645.7830837267]]\n",
      "Eigenvalues of F_n: [-19.99999998 -11.00000016 -10.00000013  -8.99999984  -7.99999962\n",
      "  -6.99999973  -6.00000089  -4.99999976  -3.99999985  -3.00000005]\n",
      "Targeted poles    : [-20 -11 -10  -9  -8  -7  -6  -5  -4  -3]\n"
     ]
    },
    {
     "name": "stderr",
     "output_type": "stream",
     "text": [
      "C:\\Users\\jelly\\AppData\\Local\\Temp\\ipykernel_3148\\2413736680.py:55: UserWarning: Convergence was not reached after maxiter iterations.\n",
      "You asked for a tolerance of 0.001, we got 0.9999999999999962.\n",
      "  K_place = place_poles(A_num, B_num, desired_poles, maxiter=1000).gain_matrix\n"
     ]
    }
   ],
   "source": [
    "from sympy import *\n",
    "from scipy.optimize import root\n",
    "\n",
    "p_ye =0\n",
    "w_ze = 0\n",
    "\n",
    "\n",
    "f = f_sym.subs(params)\n",
    "\n",
    "a = f[1:2]\n",
    "b = f[3:14]\n",
    "fnew = Matrix(a+b)\n",
    "\n",
    "f_num = sym.lambdify([p_y,psi,theta,phi,v_x,v_y,v_z,w_x,w_y,w_z,delta_r,delta_l],fnew)\n",
    "\n",
    "f_num_root = lambda x: f_num(p_ye, x[0],x[1],x[2],x[3],x[4],x[5],x[6], x[7], w_ze, x[8],x[9]).flatten()\n",
    "\n",
    "#      p_y,  psi,   theta,  phi,  v_x,    v_y,    v_z,   w_x,     w_y,  w_z,  delta_r, delta_l\n",
    "x0 =   [     0.000,0.000,0.000,5.000, 0.000,  0.500,   0.000,  0.000,         -0.060, -0.060]\n",
    "\n",
    "sol = root(f_num_root,x0)\n",
    "#print(f\"{sol.x[0]:.6f}\")\n",
    "psi_e = sol.x[0]\n",
    "theta_e = sol.x[1]\n",
    "phi_e = sol.x[2]\n",
    "vx_e = sol.x[3]\n",
    "vy_e = sol.x[4]\n",
    "vz_e = sol.x[5]\n",
    "wx_e = sol.x[6]\n",
    "wy_e = sol.x[7]\n",
    "delta_re = sol.x[8]\n",
    "delta_le =sol.x[9]\n",
    "\n",
    "#print(f_num(p_ye, psi_e, theta_e, phi_e, vx_e, vy_e, vz_e, wx_e, wy_e, w_ze, delta_re, delta_le))\n",
    "\n",
    "#print(p_ye, psi_e, theta_e, phi_e, vx_e, vy_e, vz_e, wx_e, wy_e, w_ze, delta_re, delta_le)\n",
    "#new cell\n",
    "A_num = sym.lambdify([p_y,psi,theta,phi,v_x,v_y,v_z,w_x,w_y,w_z,delta_r,delta_l],fnew.jacobian([p_y,psi,theta,phi,v_x,v_y,v_z,w_x,w_y,w_z]))\n",
    "B_num = sym.lambdify([p_y,psi,theta,phi,v_x,v_y,v_z,w_x,w_y,w_z,delta_r,delta_l],fnew.jacobian([delta_r,delta_l]))\n",
    "\n",
    "A = A_num(p_ye, psi_e, theta_e, phi_e, vx_e, vy_e, vz_e, wx_e, wy_e, w_ze, delta_re, delta_le)\n",
    "B = B_num(p_ye, psi_e, theta_e, phi_e, vx_e, vy_e, vz_e, wx_e, wy_e, w_ze, delta_re, delta_le)\n",
    "\n",
    "#Matrix(B)\n",
    "print(f\"{p_ye:.3f}, {psi_e:.3f}, {theta_e:.3f}, {phi_e:.3f}, {vx_e:.3f}, {vy_e:.3f}, {vz_e:.3f}, {wx_e:.3f}, {wy_e:.3f}, {w_ze:.3f}, {delta_re:.3f}, {delta_le:.3f}\")\n",
    "\n",
    "# Substitute values\n",
    "A_num = np.array(A).astype(float)\n",
    "B_num = np.array(B).astype(float)\n",
    "\n",
    "# We should take an automated approach to testing out various poles to see which works.\n",
    "desired_poles = [-10,-20,-3,-4,-5,-6,-7,-8,-9,-11] # Desired pole locations\n",
    "\n",
    "# Compute gain matrix K\n",
    "K_place = place_poles(A_num, B_num, desired_poles, maxiter=1000).gain_matrix\n",
    "\n",
    "# Compute F_n = A - BK\n",
    "Fn = A_num - B_num @ K_place\n",
    "\n",
    "# Compute eigenvalues of F_n\n",
    "eig_values = np.linalg.eigvals(Fn)\n",
    "\n",
    "# Output results\n",
    "print(\"Computed Gain Matrix K:\\n\", K_place.tolist())\n",
    "print(\"Eigenvalues of F_n:\", np.sort(eig_values))\n",
    "print(\"Targeted poles    :\", np.sort(desired_poles))"
   ]
  },
  {
   "cell_type": "code",
   "execution_count": 65,
   "id": "bcc86d3a",
   "metadata": {},
   "outputs": [
    {
     "name": "stdout",
     "output_type": "stream",
     "text": [
      "  message: Optimization terminated successfully.\n",
      "  success: True\n",
      "   status: 0\n",
      "      fun: 4.260123524098284e-09\n",
      "        x: [ 0.000e+00  9.498e-05  1.107e-01 -7.015e-06  7.035e+00\n",
      "            -6.878e-04  1.355e+00 -2.514e-05  1.766e-06 -3.847e-06\n",
      "            -3.832e-01 -3.834e-01]\n",
      "      nit: 18\n",
      "      jac: [ 0.000e+00 -4.948e-07  8.896e-07 -1.181e-06  5.438e-07\n",
      "            -1.091e-05  1.061e-05  2.344e-06  7.845e-07  1.644e-06\n",
      "             2.524e-05  7.411e-06]\n",
      " hess_inv: [[ 1.000e+00  0.000e+00 ...  0.000e+00  0.000e+00]\n",
      "            [ 0.000e+00  3.675e-02 ...  1.710e-02 -1.410e-02]\n",
      "            ...\n",
      "            [ 0.000e+00  1.710e-02 ...  1.157e-01  4.779e-02]\n",
      "            [ 0.000e+00 -1.410e-02 ...  4.779e-02  1.132e-01]]\n",
      "     nfev: 351\n",
      "     njev: 27\n",
      "\n",
      "0.000, 0.000, 0.111, -0.000, 7.035, -0.001, 1.355, -0.000, 0.000, -0.000, -0.383, -0.383\n"
     ]
    }
   ],
   "source": [
    "# Lambda function to evaluate f_reduced\n",
    "f_num = sym.lambdify(mu, f_cut)\n",
    "\n",
    "# Lambda function to evalaute the cost function for minimization (i.e., the norm squared of f_reduced)\n",
    "f_num_for_minimize = lambda x: np.linalg.norm(f_num(*x).flatten())**2\n",
    "\n",
    "#      p_y,psi, theta,         phi, v_x, v_y, v_z, w_x, w_y, w_z, delta_r, delta_l\n",
    "x0 =   [0,  0,  0.1,              0 ,  7,   0,   .2,   0,   0,   0,   -.1,       -.1]\n",
    "\n",
    "# Find minimum (\"tol\" is a tolerance that says how accurate you want the solution)\n",
    "sol = minimize(f_num_for_minimize, x0, tol=1e-4)\n",
    "\n",
    "# Show solution\n",
    "print(sol)\n",
    "print('')\n",
    "print(\", \".join(f\"{val:.3f}\" for val in sol.x))\n"
   ]
  },
  {
   "cell_type": "code",
   "execution_count": null,
   "id": "24450397",
   "metadata": {},
   "outputs": [],
   "source": []
  },
  {
   "cell_type": "code",
   "execution_count": null,
   "id": "3413fd89",
   "metadata": {},
   "outputs": [],
   "source": []
  }
 ],
 "metadata": {
  "kernelspec": {
   "display_name": "ae353",
   "language": "python",
   "name": "python3"
  },
  "language_info": {
   "codemirror_mode": {
    "name": "ipython",
    "version": 3
   },
   "file_extension": ".py",
   "mimetype": "text/x-python",
   "name": "python",
   "nbconvert_exporter": "python",
   "pygments_lexer": "ipython3",
   "version": "3.13.1"
  }
 },
 "nbformat": 4,
 "nbformat_minor": 5
}
