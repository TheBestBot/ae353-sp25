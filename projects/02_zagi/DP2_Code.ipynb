{
 "cells": [
  {
   "cell_type": "markdown",
   "id": "occasional-george",
   "metadata": {},
   "source": [
    "# Equations of motion for a \"zagi-like\" flying wing UAV"
   ]
  },
  {
   "cell_type": "markdown",
   "id": "d4cbc89f",
   "metadata": {},
   "source": [
    "Do imports."
   ]
  },
  {
   "cell_type": "code",
   "execution_count": 4,
   "id": "sitting-discount",
   "metadata": {},
   "outputs": [],
   "source": [
    "import numpy as np\n",
    "import sympy as sym\n",
    "from scipy import linalg\n",
    "import matplotlib.pyplot as plt\n",
    "from IPython.display import display, Markdown\n",
    "from scipy.signal import place_poles\n",
    "from scipy.linalg import solve_continuous_are\n",
    "from scipy.optimize import minimize"
   ]
  },
  {
   "cell_type": "markdown",
   "id": "e2bc1e04",
   "metadata": {},
   "source": [
    "Define variables and parameters as symbols."
   ]
  },
  {
   "cell_type": "code",
   "execution_count": 5,
   "id": "eb2cd207",
   "metadata": {},
   "outputs": [],
   "source": [
    "#\n",
    "# VARIABLES\n",
    "#\n",
    "\n",
    "# Time\n",
    "t = sym.Symbol('t', real=True)\n",
    "\n",
    "# Components of position (meters)\n",
    "p_x, p_y, p_z = sym.symbols('p_x, p_y, p_z', real=True)\n",
    "\n",
    "# Yaw, pitch, and roll angles (radians)\n",
    "psi, theta, phi = sym.symbols('psi, theta, phi', real=True)\n",
    "\n",
    "# Components of linear velocity in the body frame (meters / second)\n",
    "v_x, v_y, v_z = sym.symbols('v_x, v_y, v_z', real=True)\n",
    "\n",
    "# Components of angular velocity in the body frame (radians / second)\n",
    "w_x, w_y, w_z = sym.symbols('w_x, w_y, w_z', real=True)\n",
    "\n",
    "# Elevon angles\n",
    "delta_r, delta_l = sym.symbols('delta_r, delta_l', real=True)\n",
    "\n",
    "#\n",
    "# PARAMETERS\n",
    "#\n",
    "\n",
    "# Aerodynamic parameters\n",
    "rho, S, c, b = sym.symbols('rho, S, c, b', real=True)\n",
    "C_L_0, C_L_alpha, C_L_q, C_L_delta_e = sym.symbols('C_L_0, C_L_alpha, C_L_q, C_L_delta_e', real=True)\n",
    "C_D_0, C_D_alpha, C_D_q, C_D_delta_e = sym.symbols('C_D_0, C_D_alpha, C_D_q, C_D_delta_e', real=True)\n",
    "C_m_0, C_m_alpha, C_m_q, C_m_delta_e = sym.symbols('C_m_0, C_m_alpha, C_m_q, C_m_delta_e', real=True)\n",
    "C_Y_0, C_Y_beta, C_Y_p, C_Y_r, C_Y_delta_a = sym.symbols('C_Y_0, C_Y_beta, C_Y_p, C_Y_r, C_Y_delta_a', real=True)\n",
    "C_l_0, C_l_beta, C_l_p, C_l_r, C_l_delta_a = sym.symbols('C_l_0, C_l_beta, C_l_p, C_l_r, C_l_delta_a', real=True)\n",
    "C_n_0, C_n_beta, C_n_p, C_n_r, C_n_delta_a = sym.symbols('C_n_0, C_n_beta, C_n_p, C_n_r, C_n_delta_a', real=True)\n",
    "e, alpha_0, C_D_p, M = sym.symbols('e, alpha_0, C_D_p, M', real=True)\n",
    "k, k_e = sym.symbols('k, k_e', real=True)\n",
    "\n",
    "# Mass and inertia parameters\n",
    "J_x, J_y, J_z, J_xz = sym.symbols('J_x, J_y, J_z, J_xz', real=True)\n",
    "m, g = sym.symbols('m, g', real=True)"
   ]
  },
  {
   "cell_type": "markdown",
   "id": "9a082a6b",
   "metadata": {},
   "source": [
    "Define numerical values of parameters."
   ]
  },
  {
   "cell_type": "code",
   "execution_count": 6,
   "id": "43e0698b",
   "metadata": {},
   "outputs": [],
   "source": [
    "params = {\n",
    "    g: 9.81,               # Gravity (m/s²)\n",
    "    m: 1.56,               # Mass of the UAV (kg)\n",
    "    J_x: 0.1147,           # Moment of inertia about x-axis (kg·m²) [UPDATED 02/28/2025]\n",
    "    J_y: 0.0576,           # Moment of inertia about y-axis (kg·m²) [UPDATED 02/28/2025]\n",
    "    J_z: 0.1712,           # Moment of inertia about z-axis (kg·m²) [UPDATED 02/28/2025]\n",
    "    J_xz: 0.0015,          # Product of inertia (kg·m²)             [UPDATED 02/28/2025]\n",
    "\n",
    "    S: 0.4696,             # Wing area (m²)\n",
    "    b: 1.4224,             # Wingspan (m)\n",
    "    c: 0.3302,             # Mean aerodynamic chord (m)\n",
    "\n",
    "    rho: 1.2682,           # Air density (kg/m³)\n",
    "\n",
    "    # Lift Coefficients\n",
    "    C_L_0: 0.2,            # Lift coefficient at zero AoA\n",
    "    C_L_alpha: 4.8,        # Lift curve slope (1/rad)\n",
    "    C_L_q: 2.2,            # Pitch rate effect on lift (1/rad)\n",
    "\n",
    "    # Drag Coefficients\n",
    "    C_D_0: 0.02,           # Zero-lift drag coefficient\n",
    "    C_D_alpha: 0.30,       # Drag change per AoA (1/rad)\n",
    "    C_D_q: 0.0,            # Pitch rate effect on drag (1/rad)\n",
    "    C_D_p: 0.03,           # Parasitic drag coefficient\n",
    "\n",
    "    # Pitching Moment Coefficients\n",
    "    C_m_0: -0.02,          # Pitching moment at zero AoA\n",
    "    C_m_alpha: -0.6,       # Pitching moment change per AoA (1/rad)\n",
    "    C_m_q: -1.8,           # Pitch rate effect on moment (1/rad)\n",
    "    C_m_delta_e: -0.35,    # Effect of elevator deflection on pitching moment (1/rad)\n",
    "\n",
    "    # Side Force Coefficients\n",
    "    C_Y_0: 0.0,            # Side force at zero sideslip\n",
    "    C_Y_beta: -0.08,       # Side force per sideslip angle (1/rad)\n",
    "    C_Y_p: 0.0,            # Side force due to roll rate\n",
    "    C_Y_r: 0.0,            # Side force due to yaw rate\n",
    "    C_Y_delta_a: 0.0,      # Side force due to aileron deflection\n",
    "\n",
    "    # Roll Moment Coefficients\n",
    "    C_l_0: 0.0,            # Roll moment at zero sideslip\n",
    "    C_l_beta: -0.10,       # Roll moment due to sideslip (1/rad)\n",
    "    C_l_p: -0.45,          # Roll damping derivative (1/rad)\n",
    "    C_l_r: 0.03,           # Roll moment due to yaw rate (1/rad)\n",
    "    C_l_delta_a: 0.18,     # Aileron effect on roll (1/rad)\n",
    "\n",
    "    # Yaw Moment Coefficients\n",
    "    C_n_0: 0.0,            # Yaw moment at zero sideslip\n",
    "    C_n_beta: 0.008,       # Yaw moment due to sideslip (1/rad)\n",
    "    C_n_p: -0.022,         # Yaw moment due to roll rate (1/rad)\n",
    "    C_n_r: -0.009,         # Yaw damping derivative (1/rad)\n",
    "    C_n_delta_a: -0.004,   # Aileron effect on yaw (1/rad)\n",
    "\n",
    "    # Control Derivatives\n",
    "    C_L_delta_e: 0.30,     # Effect of elevator deflection on lift (1/rad)\n",
    "    C_D_delta_e: 0.32,     # Effect of elevator deflection on drag (1/rad)\n",
    "\n",
    "    # Efficiency Factors\n",
    "    e: 0.85,               # Oswald efficiency factor\n",
    "    alpha_0: 0.45,         # Zero-lift angle of attack (rad)\n",
    "\n",
    "    # Additional Drag & Lift Coefficients\n",
    "    M: 50.0,               # Sigmoid blending function parameter\n",
    "    k_e: 0.01,             # Drag due to elevator deflection (empirical coefficient)\n",
    "    k: 0.048               # Induced drag factor\n",
    "}"
   ]
  },
  {
   "cell_type": "markdown",
   "id": "ac2be7c3",
   "metadata": {},
   "source": [
    "Compute aerodynamic forces and torques (assuming low angles of attack, so no stall)."
   ]
  },
  {
   "cell_type": "code",
   "execution_count": 7,
   "id": "2e55a7b4",
   "metadata": {},
   "outputs": [],
   "source": [
    "# Get airspeed, angle of attack, and angle of sideslip\n",
    "V_a = sym.sqrt(v_x**2 + v_y**2 + v_z**2)\n",
    "alpha = sym.atan(v_z / v_x)\n",
    "beta = sym.asin(v_y / V_a)\n",
    "\n",
    "# Convert from right and left elevon deflections to equivalent elevator and aileron deflections\n",
    "delta_e = (delta_r + delta_l) / 2\n",
    "delta_a = (-delta_r + delta_l) / 2\n",
    "\n",
    "# Longitudinal aerodynamics\n",
    "C_L = C_L_0 + C_L_alpha * alpha\n",
    "F_lift = rho * V_a**2 * S * (C_L + C_L_q * (c / (2 * V_a)) * w_y + C_L_delta_e * delta_e) / 2\n",
    "F_drag = rho * V_a**2 * S * ((C_D_0 + k * C_L**2) + C_D_q * (c / (2 * V_a)) * w_y + k_e * (C_L_delta_e * delta_e)**2) / 2\n",
    "f_x, f_z = sym.Matrix([[sym.cos(alpha), -sym.sin(alpha)], [sym.sin(alpha), sym.cos(alpha)]]) @ sym.Matrix([[-F_drag], [-F_lift]])\n",
    "tau_y = rho * V_a**2 * S * c * (C_m_0 + C_m_alpha * alpha + C_m_q * (c / (2 * V_a)) * w_y + C_m_delta_e * delta_e) / 2\n",
    "\n",
    "# Lateral aerodynamics\n",
    "f_y =   rho * V_a**2 * S *     (C_Y_0 + C_Y_beta * beta + C_Y_p * (b / (2 * V_a)) * w_x + C_Y_r * (b / (2 * V_a)) * w_z + C_Y_delta_a * delta_a) / 2\n",
    "tau_x = rho * V_a**2 * S * b * (C_l_0 + C_l_beta * beta + C_l_p * (b / (2 * V_a)) * w_x + C_l_r * (b / (2 * V_a)) * w_z + C_l_delta_a * delta_a) / 2\n",
    "tau_z = rho * V_a**2 * S * b * (C_n_0 + C_n_beta * beta + C_n_p * (b / (2 * V_a)) * w_x + C_n_r * (b / (2 * V_a)) * w_z + C_n_delta_a * delta_a) / 2"
   ]
  },
  {
   "cell_type": "markdown",
   "id": "a2dc1366",
   "metadata": {},
   "source": [
    "Define the linear velocity vector $v^B_{W, B}$ and the angular velocity vector $w^B_{W, B}$ in the coordinates of the body frame."
   ]
  },
  {
   "cell_type": "code",
   "execution_count": 8,
   "id": "90019c9a",
   "metadata": {},
   "outputs": [],
   "source": [
    "v_inB_ofWB = sym.Matrix([v_x, v_y, v_z])\n",
    "w_inB_ofWB = sym.Matrix([w_x, w_y, w_z])"
   ]
  },
  {
   "cell_type": "markdown",
   "id": "5228b6ce",
   "metadata": {},
   "source": [
    "Define the moment of inertia matrix in the coordinates of the body frame."
   ]
  },
  {
   "cell_type": "code",
   "execution_count": 9,
   "id": "2c51e28d",
   "metadata": {},
   "outputs": [],
   "source": [
    "J_inB = sym.Matrix([[  J_x,    0, -J_xz],\n",
    "                    [    0,  J_y,     0],\n",
    "                    [-J_xz,    0,   J_z]])"
   ]
  },
  {
   "cell_type": "markdown",
   "id": "c4b2b9b3",
   "metadata": {},
   "source": [
    "Define individual rotation matrices."
   ]
  },
  {
   "cell_type": "code",
   "execution_count": 10,
   "id": "abb422e6",
   "metadata": {},
   "outputs": [],
   "source": [
    "Rz = sym.Matrix([[sym.cos(psi), -sym.sin(psi), 0],\n",
    "                 [sym.sin(psi), sym.cos(psi), 0],\n",
    "                 [0, 0, 1]])\n",
    "\n",
    "Ry = sym.Matrix([[sym.cos(theta), 0, sym.sin(theta)],\n",
    "                 [0, 1, 0],\n",
    "                 [-sym.sin(theta), 0, sym.cos(theta)]])\n",
    "\n",
    "Rx = sym.Matrix([[1, 0, 0],\n",
    "                 [0, sym.cos(phi), -sym.sin(phi)],\n",
    "                 [0, sym.sin(phi), sym.cos(phi)]])"
   ]
  },
  {
   "cell_type": "markdown",
   "id": "bfe068f4",
   "metadata": {},
   "source": [
    "Apply sequential transformation to compute the rotation matrix that describes the orientation of the aircraft (i.e., of frame $B$ in the coordinates of frame $W$)."
   ]
  },
  {
   "cell_type": "code",
   "execution_count": 11,
   "id": "a708cce2",
   "metadata": {},
   "outputs": [],
   "source": [
    "R_inW_ofB = Rz @ Ry @ Rx"
   ]
  },
  {
   "cell_type": "markdown",
   "id": "2d450c82",
   "metadata": {},
   "source": [
    "Compute the matrix $N$ for which\n",
    "\n",
    "$$\\begin{bmatrix} \\dot{\\psi} \\\\ \\dot{\\theta} \\\\ \\dot{\\phi} \\end{bmatrix} = N w_{W, B}^{B}.$$"
   ]
  },
  {
   "cell_type": "code",
   "execution_count": 12,
   "id": "e1984caf",
   "metadata": {},
   "outputs": [],
   "source": [
    "# First, compute the inverse of N\n",
    "Ninv = sym.Matrix.hstack((Ry * Rx).T * sym.Matrix([0, 0, 1]),\n",
    "                              (Rx).T * sym.Matrix([0, 1, 0]),\n",
    "                                       sym.Matrix([1, 0, 0]))\n",
    "\n",
    "# Then, take the inverse of this result to compute N\n",
    "N = sym.simplify(Ninv.inv())"
   ]
  },
  {
   "cell_type": "markdown",
   "id": "291bac9d",
   "metadata": {},
   "source": [
    "Compute the total force and torque on the aicraft in the body frame (remember that $z$ is down!)."
   ]
  },
  {
   "cell_type": "code",
   "execution_count": 13,
   "id": "3603cc4f",
   "metadata": {},
   "outputs": [],
   "source": [
    "# Total force\n",
    "f_inB = R_inW_ofB.T * sym.Matrix([0, 0, m * g]) + sym.Matrix([f_x, f_y, f_z])\n",
    "\n",
    "# Total torque\n",
    "tau_inB = sym.Matrix([tau_x, tau_y, tau_z])"
   ]
  },
  {
   "cell_type": "markdown",
   "id": "7384c6b3",
   "metadata": {},
   "source": [
    "Define (fully) symbolic equations of motion. These are complicated enough that we won't bother to show them."
   ]
  },
  {
   "cell_type": "code",
   "execution_count": 14,
   "id": "14326c7d",
   "metadata": {},
   "outputs": [],
   "source": [
    "f_sym = sym.Matrix.vstack(\n",
    "    R_inW_ofB * v_inB_ofWB,\n",
    "    N * w_inB_ofWB,\n",
    "    (1 / m) * (f_inB - w_inB_ofWB.cross(m * v_inB_ofWB)),\n",
    "    J_inB.inv() * (tau_inB - w_inB_ofWB.cross(J_inB * w_inB_ofWB)),\n",
    ")"
   ]
  },
  {
   "cell_type": "markdown",
   "id": "3943b6f1",
   "metadata": {},
   "source": [
    "Substitute numerical values for each parameter. The only symbols that remain in these equations of motion are the (nonlinear) states and inputs. Again, these equations of motion are complicated, so we won't bother to show them. They have the following form:\n",
    "\n",
    "$$\n",
    "\\begin{bmatrix} \\dot{p}_x \\\\ \\dot{p}_y \\\\ \\dot{p}_z \\\\ \\dot{\\psi} \\\\ \\dot{\\theta} \\\\ \\dot{\\phi} \\\\ \\dot{v}_x \\\\ \\dot{v}_y \\\\ \\dot{v}_z \\\\ \\dot{w}_x \\\\ \\dot{w}_y \\\\ \\dot{w}_z \\end{bmatrix}\n",
    "=\n",
    "f\\left(\n",
    "\\begin{bmatrix} p_x \\\\ p_y \\\\ p_z \\\\ \\psi \\\\ \\theta \\\\ \\phi \\\\ v_x \\\\ v_y \\\\ v_z \\\\ w_x \\\\ w_y \\\\ w_z \\end{bmatrix},\n",
    "\\begin{bmatrix} \\delta_r \\\\ \\delta_l \\end{bmatrix}\n",
    "\\right).\n",
    "$$"
   ]
  },
  {
   "cell_type": "markdown",
   "id": "cf7c0d6e",
   "metadata": {},
   "source": [
    "## Linearize the System\n",
    "The $p_x$ and $p_z$ variables need to be removed in order for the system to have an equlibirum point that allows for motion."
   ]
  },
  {
   "cell_type": "code",
   "execution_count": 15,
   "id": "fa92b4e7",
   "metadata": {},
   "outputs": [],
   "source": [
    "f = f_sym.subs(params)\n",
    "a = f[1:2]\n",
    "b = f[3:14]\n",
    "f_cut = sym.Matrix(a+b)"
   ]
  },
  {
   "cell_type": "markdown",
   "id": "0c766e39",
   "metadata": {},
   "source": [
    "In order to find an appropiate equlibrium point, we will use a minimizer to find a numeric solution to the system."
   ]
  },
  {
   "cell_type": "code",
   "execution_count": 16,
   "id": "dddd339b",
   "metadata": {},
   "outputs": [],
   "source": [
    "m = sym.Matrix([p_y,psi, theta, phi, v_x, v_y, v_z, w_x, w_y, w_z])\n",
    "mu = sym.Matrix([p_y,psi, theta, phi, v_x, v_y, v_z, w_x, w_y, w_z, delta_r, delta_l])\n",
    "u = sym.Matrix([delta_r, delta_l])\n",
    "\n",
    "f_num = sym.lambdify(mu, f_cut)\n",
    "f_num_for_minimize = lambda x: np.linalg.norm(f_num(*x).flatten())**2"
   ]
  },
  {
   "cell_type": "markdown",
   "id": "903fbd22",
   "metadata": {},
   "source": [
    "We will use a Monte-Carlo method to generate guesses for the equlibrium point. The guesses will be constrained to have velocities $v_x$ and $v_z$ that are achiviable given the starting condition of 5 m/s."
   ]
  },
  {
   "cell_type": "code",
   "execution_count": 17,
   "id": "49592d32",
   "metadata": {},
   "outputs": [
    {
     "name": "stdout",
     "output_type": "stream",
     "text": [
      "Found 39 unique equilibrium points.\n",
      "  0.000,  -0.000,  -0.032,  -0.000,  11.745,  -0.000,   0.515,  -0.000,   0.000,  -0.000,  -0.132,  -0.132\n",
      "  0.000,  -0.000,  -0.030,  -0.000,  11.660,  -0.000,   0.526,  -0.000,   0.000,  -0.000,  -0.134,  -0.134\n",
      "  0.000,   0.000,  -0.027,  -0.000,  11.517,  -0.000,   0.545,  -0.000,   0.000,  -0.000,  -0.138,  -0.138\n",
      "  0.000,  -0.000,  -0.019,  -0.000,  11.136,   0.000,   0.596,   0.000,   0.000,  -0.000,  -0.149,  -0.149\n",
      "  0.000,   0.000,  -0.013,  -0.000,  10.827,  -0.000,   0.640,  -0.000,   0.000,  -0.000,  -0.158,  -0.158\n",
      "  0.000,   0.000,  -0.011,  -0.000,  10.744,  -0.000,   0.652,  -0.000,   0.000,  -0.000,  -0.161,  -0.161\n",
      "  0.000,   0.000,  -0.006,  -0.000,  10.517,  -0.000,   0.685,  -0.000,   0.000,  -0.000,  -0.169,  -0.169\n",
      "  0.000,  -0.000,   0.001,  -0.000,  10.230,   0.000,   0.728,   0.000,   0.000,  -0.000,  -0.179,  -0.179\n",
      "  0.000,   0.000,   0.007,  -0.000,   9.981,  -0.001,   0.767,  -0.000,   0.000,  -0.000,  -0.189,  -0.189\n",
      "  0.000,  -0.000,   0.029,  -0.000,   9.196,   0.000,   0.899,  -0.000,   0.000,  -0.000,  -0.224,  -0.224\n",
      "  0.000,   0.000,   0.041,  -0.000,   8.775,  -0.000,   0.976,  -0.000,   0.000,  -0.000,  -0.247,  -0.247\n",
      "  0.000,   0.000,   0.071,  -0.000,   7.933,  -0.001,   1.146,  -0.000,   0.000,  -0.000,  -0.303,  -0.303\n",
      "  0.000,  -0.000,   0.072,  -0.000,   7.903,   0.000,   1.153,   0.000,   0.000,  -0.000,  -0.305,  -0.305\n",
      "  0.000,   0.000,   0.073,  -0.000,   7.882,  -0.000,   1.157,  -0.000,   0.000,  -0.000,  -0.307,  -0.307\n",
      "  0.000,   0.000,   0.073,  -0.000,   7.870,  -0.001,   1.160,  -0.000,   0.000,  -0.000,  -0.308,  -0.308\n",
      "  0.000,  -0.000,   0.108,   0.000,   7.090,   0.000,   1.341,   0.000,   0.000,   0.000,  -0.378,  -0.378\n",
      "  0.000,   0.000,   0.110,  -0.000,   7.046,  -0.001,   1.352,  -0.000,   0.000,  -0.000,  -0.382,  -0.382\n",
      "  0.000,  -0.000,   0.117,   0.000,   6.904,   0.000,   1.388,   0.000,   0.000,  -0.000,  -0.397,  -0.397\n",
      "  0.000,  -0.000,   0.137,  -0.000,   6.549,   0.000,   1.481,   0.000,   0.000,  -0.000,  -0.438,  -0.438\n",
      "  0.000,   0.000,   0.145,  -0.000,   6.417,  -0.000,   1.517,  -0.000,   0.000,   0.000,  -0.455,  -0.455\n",
      "  0.000,  -0.000,   0.150,   0.000,   6.326,   0.000,   1.542,   0.000,   0.000,   0.000,  -0.467,  -0.467\n",
      "  0.000,   0.000,   0.158,  -0.000,   6.207,  -0.000,   1.575,  -0.000,   0.000,  -0.000,  -0.483,  -0.483\n",
      "  0.000,   0.000,   0.220,  -0.000,   5.379,  -0.002,   1.824,  -0.000,   0.000,   0.000,  -0.617,  -0.618\n",
      "  0.000,   0.000,   0.258,  -0.000,   4.953,  -0.000,   1.961,  -0.000,  -0.000,   0.000,  -0.703,  -0.703\n",
      "  0.000,   0.000,   0.264,   0.000,   4.895,  -0.000,   1.980,  -0.000,   0.000,   0.000,  -0.716,  -0.716\n",
      "  0.000,   0.000,   0.293,   0.000,   4.613,  -0.001,   2.073,  -0.000,   0.000,   0.000,  -0.781,  -0.781\n",
      "  0.000,  -0.000,   0.304,   0.000,   4.516,   0.001,   2.105,   0.000,   0.000,   0.000,  -0.805,  -0.805\n",
      "  0.000,  -0.000,   0.310,   0.000,   4.459,   0.001,   2.124,   0.000,   0.000,  -0.000,  -0.819,  -0.819\n",
      "  0.000,   0.000,   0.312,  -0.000,   4.448,  -0.002,   2.128,  -0.000,   0.000,   0.000,  -0.822,  -0.822\n",
      "  0.000,  -0.000,   0.313,  -0.000,   4.436,   0.000,   2.131,   0.000,   0.000,  -0.000,  -0.825,  -0.825\n",
      "  0.000,  -0.000,   0.317,   0.000,   4.396,   0.000,   2.145,   0.000,   0.000,   0.000,  -0.835,  -0.835\n",
      "  0.000,  -0.000,   0.325,   0.000,   4.331,   0.001,   2.166,   0.000,   0.000,   0.000,  -0.852,  -0.852\n",
      "  0.000,  -0.000,   0.327,   0.000,   4.311,   0.001,   2.173,   0.000,  -0.000,  -0.000,  -0.858,  -0.857\n",
      "  0.000,  -0.000,   0.340,   0.000,   4.203,   0.000,   2.209,   0.000,   0.000,  -0.000,  -0.887,  -0.887\n",
      "  0.000,  -0.001,   0.352,   0.000,   4.111,   0.003,   2.239,   0.000,  -0.000,  -0.000,  -0.912,  -0.912\n",
      "  0.000,  -0.000,   0.387,   0.000,   3.835,   0.000,   2.328,   0.000,   0.000,  -0.000,  -0.993,  -0.992\n",
      "  0.000,  -0.001,   0.390,   0.000,   3.817,   0.003,   2.334,   0.000,   0.000,  -0.000,  -0.998,  -0.998\n",
      "  0.000,   0.001,   0.399,  -0.000,   3.749,  -0.004,   2.356,  -0.000,  -0.000,   0.000,  -1.019,  -1.020\n",
      "  0.000,  -0.001,   0.427,   0.000,   3.552,   0.004,   2.417,   0.000,  -0.000,  -0.000,  -1.082,  -1.081\n"
     ]
    }
   ],
   "source": [
    "num_attempts = 40  # number of guesses\n",
    "solutions = []\n",
    "\n",
    "#      p_y,psi, theta, phi, v_x, v_y, v_z, w_x, w_y, w_z, delta_r, delta_l\n",
    "x0 =   [0,  0,   0.1,   0 ,  0,   0,   0,   0,   0,   0,   -.1,       -.1] # rough initial guess\n",
    "\n",
    "for _ in range(num_attempts):\n",
    "    x0_random = np.array(x0)\n",
    "\n",
    "    # monte carlo EQ point finding lul\n",
    "    x0_random[4] = np.random.uniform(3, 11)\n",
    "    x0_random[6] = np.random.uniform(0, 1)\n",
    "    \n",
    "    sol = minimize(f_num_for_minimize, x0_random, tol=1e-4)\n",
    "    \n",
    "    if sol.success:\n",
    "        eq_point = sol.x\n",
    "        if not any(np.linalg.norm(eq_point - s) < 1e-2 for s in solutions):  # remove duplicates\n",
    "            solutions.append(eq_point)\n",
    "\n",
    "print(f\"Found {len(solutions)} unique equilibrium points.\")\n",
    "solutions_sorted = sorted(solutions, key=lambda x: x[4], reverse=True)\n",
    "\n",
    "for eq_point in solutions_sorted:\n",
    "    print(\", \".join([f\"{val:7.3f}\" for val in eq_point]))  "
   ]
  },
  {
   "cell_type": "code",
   "execution_count": 25,
   "id": "29e5c501",
   "metadata": {},
   "outputs": [
    {
     "data": {
      "image/png": "[encoded data removed]",
      "text/plain": [
       "<Figure size 800x600 with 1 Axes>"
      ]
     },
     "metadata": {},
     "output_type": "display_data"
    }
   ],
   "source": [
    "v_x_vals = [eq_point[4] for eq_point in solutions_sorted]\n",
    "v_y_vals = [eq_point[6] for eq_point in solutions_sorted]\n",
    "\n",
    "plt.figure(figsize=(8, 6))\n",
    "plt.plot(v_x_vals, v_y_vals, marker='o', linestyle='-', color='b')\n",
    "\n",
    "plt.xlabel(r'$v_x$')\n",
    "plt.ylabel(r'$v_z$')\n",
    "plt.title('Velocity Componets of Equilibrium Points')\n",
    "plt.show()"
   ]
  },
  {
   "cell_type": "markdown",
   "id": "c7d1fc40",
   "metadata": {},
   "source": [
    "The flying wing must travel 150 meters forwards with only 15 meters of height. From the generated plot and list, a point where the $v_x$ is at least 10 times $v_z$. Since the runway extends another 25 meters, and there will be height losses due to varying initial conditions, we will pick a point where $\\frac{v_x}{v_z} = 15$. We can now linearize about the point."
   ]
  },
  {
   "cell_type": "code",
   "execution_count": 18,
   "id": "f30a37a7",
   "metadata": {},
   "outputs": [],
   "source": [
    "An = sym.lambdify(mu,f_cut.jacobian([m]))\n",
    "Bn = sym.lambdify(mu,f_cut.jacobian([u]))\n",
    "\n",
    "A = An(0.000,  -0.000,   0.022,   0.000,   9.432,   0.000,   0.858,   0.000,   0.000,  -0.000,  -0.213,  -0.213)\n",
    "B = Bn(0.000,  -0.000,   0.022,   0.000,   9.432,   0.000,   0.858,   0.000,   0.000,  -0.000,  -0.213,  -0.213)"
   ]
  },
  {
   "cell_type": "markdown",
   "id": "7ac9441e",
   "metadata": {},
   "source": [
    "Finially we can use a linear quadratic regulator to generate a gain matrix K. Heaviliy weighting the $v_y$ and $v_z$ forces the system to converge to equilibrium velocity quickly."
   ]
  },
  {
   "cell_type": "code",
   "execution_count": 19,
   "id": "f8f455b6",
   "metadata": {},
   "outputs": [
    {
     "data": {
      "text/latex": [
       "$\\displaystyle \\left[\\begin{matrix}-0.707106781186562 & -13.4183741874969 & -3.67765539098743 & -6.86904408098856 & 0.57406325375383 & -1.48201856322967 & 0.0239192561042623 & -0.688754534886728 & -0.703393658596772 & -5.45375341891724\\\\0.707106781186551 & 13.4183741874967 & -3.67765539098742 & 6.86904408098851 & 0.574063253753831 & 1.48201856322966 & 0.0239192561042602 & 0.688754534886727 & -0.703393658596771 & 5.45375341891716\\end{matrix}\\right]$"
      ],
      "text/plain": [
       "Matrix([\n",
       "[-0.707106781186562, -13.4183741874969, -3.67765539098743, -6.86904408098856,  0.57406325375383, -1.48201856322967, 0.0239192561042623, -0.688754534886728, -0.703393658596772, -5.45375341891724],\n",
       "[ 0.707106781186551,  13.4183741874967, -3.67765539098742,  6.86904408098851, 0.574063253753831,  1.48201856322966, 0.0239192561042602,  0.688754534886727, -0.703393658596771,  5.45375341891716]])"
      ]
     },
     "metadata": {},
     "output_type": "display_data"
    }
   ],
   "source": [
    "def lqr(A, B, Q, R):\n",
    "    P = linalg.solve_continuous_are(A, B, Q, R)\n",
    "    K = linalg.inv(R) @  B.T @ P\n",
    "    return K, P\n",
    "\n",
    "#           p_y,psi, theta, phi, v_x, v_y, v_z, w_x, w_y, w_z\n",
    "Q = np.diag([1,  1,    1,    1 ,  1,   1,   1,   1,   1,   1])\n",
    "\n",
    "#        delta_r, delta_l\n",
    "R = np.diag([1.,   1.])\n",
    "\n",
    "K, P = lqr(A, B, Q, R)\n",
    "display(sym.Matrix(K))"
   ]
  },
  {
   "cell_type": "code",
   "execution_count": null,
   "id": "0285bd75",
   "metadata": {},
   "outputs": [],
   "source": []
  }
 ],
 "metadata": {
  "kernelspec": {
   "display_name": "ae353",
   "language": "python",
   "name": "python3"
  },
  "language_info": {
   "codemirror_mode": {
    "name": "ipython",
    "version": 3
   },
   "file_extension": ".py",
   "mimetype": "text/x-python",
   "name": "python",
   "nbconvert_exporter": "python",
   "pygments_lexer": "ipython3",
   "version": "3.13.1"
  }
 },
 "nbformat": 4,
 "nbformat_minor": 5
}
