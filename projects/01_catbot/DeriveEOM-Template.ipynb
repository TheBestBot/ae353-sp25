{
 "cells": [
  {
   "cell_type": "markdown",
   "id": "occasional-george",
   "metadata": {},
   "source": [
    "# Equations of motion for the cat-bot"
   ]
  },
  {
   "cell_type": "markdown",
   "id": "d4cbc89f",
   "metadata": {},
   "source": [
    "Do imports."
   ]
  },
  {
   "cell_type": "code",
   "execution_count": 10,
   "id": "sitting-discount",
   "metadata": {},
   "outputs": [],
   "source": [
    "import sympy as sym\n",
    "import numpy as np\n",
    "from IPython.display import display, Markdown\n",
    "from sympy.physics import mechanics\n",
    "from scipy.signal import place_poles\n",
    "mechanics.init_vprinting()"
   ]
  },
  {
   "cell_type": "markdown",
   "id": "e2bc1e04",
   "metadata": {},
   "source": [
    "Define variables and constants as symbols."
   ]
  },
  {
   "cell_type": "code",
   "execution_count": 2,
   "id": "eb2cd207",
   "metadata": {},
   "outputs": [],
   "source": [
    "# Time\n",
    "t = sym.Symbol('t')\n",
    "\n",
    "# Horizontal position of wheel axle\n",
    "zeta = mechanics.dynamicsymbols('zeta', real=True)\n",
    "\n",
    "# Angle of body from vertical (positive means leaning forward)\n",
    "theta = mechanics.dynamicsymbols('theta', real=True)\n",
    "\n",
    "# Torque applied by the body on the wheel\n",
    "tau = sym.symbols('tau', real=True)\n",
    "\n",
    "# Wheel parameters\n",
    "#   m_w  mass\n",
    "#   J_w  moment of inertia\n",
    "#   r_w  radius\n",
    "m_w, J_w, r_w = sym.symbols('m_w, J_w, r_w', real=True, positive=True)\n",
    "\n",
    "# Body parameters\n",
    "#   m_b  mass\n",
    "#   J_b  moment of inertia (about center-of-mass)\n",
    "#   r_b  distance between wheel axle and body center-of-mass\n",
    "m_b, J_b, r_b = sym.symbols('m_b, J_b, r_b', real=True, positive=True)\n",
    "\n",
    "# Acceleration of gravity\n",
    "g = sym.symbols('g', real=True, positive=True)"
   ]
  },
  {
   "cell_type": "markdown",
   "id": "ac2be7c3",
   "metadata": {},
   "source": [
    "Compute Lagrangian."
   ]
  },
  {
   "cell_type": "code",
   "execution_count": 3,
   "id": "2e55a7b4",
   "metadata": {},
   "outputs": [],
   "source": [
    "# Position of wheel and body\n",
    "p_w = sym.Matrix([zeta, r_w])\n",
    "p_b = sym.Matrix([zeta + r_b * sym.sin(theta), r_w + r_b * sym.cos(theta)])\n",
    "\n",
    "# Linear velocity of wheel and body\n",
    "v_w = p_w.diff(t)\n",
    "v_b = p_b.diff(t)\n",
    "\n",
    "# Angular velocity of wheel (assume rolling without slipping on flat ground) and body\n",
    "omega_w = zeta.diff(t) / r_w\n",
    "omega_b = theta.diff(t)\n",
    "\n",
    "# Kinetic and potential energy\n",
    "T = (m_w * v_w.dot(v_w) + m_b * v_b.dot(v_b) + J_w * omega_w**2 + J_b * omega_b**2) / 2\n",
    "V = (m_w * p_w[1] * g) + (m_b * p_b[1] * g)\n",
    "\n",
    "# Lagrangian\n",
    "L = sym.Matrix([sym.simplify(T - V)])"
   ]
  },
  {
   "cell_type": "markdown",
   "id": "5474ce73",
   "metadata": {},
   "source": [
    "Compute and show the matrices $M(q)$, $N(q, \\dot{q})$, and $F(q)$ for which the equations of motion can be expressed as\n",
    "\n",
    "$$ M(q) \\ddot{q} + N(q, \\dot{q}) = F(q) r $$\n",
    "\n",
    "where\n",
    "\n",
    "$$ q = \\begin{bmatrix} \\zeta \\\\ \\theta \\end{bmatrix} \\qquad\\text{and}\\qquad r = \\begin{bmatrix} \\tau \\end{bmatrix}. $$"
   ]
  },
  {
   "cell_type": "code",
   "execution_count": 4,
   "id": "c9852b1e",
   "metadata": {},
   "outputs": [
    {
     "data": {
      "text/markdown": [
       "$$ M(q) = \\left[\\begin{matrix}\\frac{J_{w}}{r_{w}^{2}} + m_{b} + m_{w} & m_{b} r_{b} \\cos{\\left(\\theta \\right)}\\\\m_{b} r_{b} \\cos{\\left(\\theta \\right)} & J_{b} + m_{b} r_{b}^{2}\\end{matrix}\\right] $$"
      ],
      "text/plain": [
       "<IPython.core.display.Markdown object>"
      ]
     },
     "metadata": {},
     "output_type": "display_data"
    },
    {
     "data": {
      "text/markdown": [
       "$$ N(q, \\dot{q}) = \\left[\\begin{matrix}- m_{b} r_{b} \\sin{\\left(\\theta \\right)} \\dot{\\theta}^{2}\\\\- g m_{b} r_{b} \\sin{\\left(\\theta \\right)}\\end{matrix}\\right] $$"
      ],
      "text/plain": [
       "<IPython.core.display.Markdown object>"
      ]
     },
     "metadata": {},
     "output_type": "display_data"
    },
    {
     "data": {
      "text/markdown": [
       "$$ F(q) = \\left[\\begin{matrix}\\frac{1}{r_{w}}\\\\-1\\end{matrix}\\right] $$"
      ],
      "text/plain": [
       "<IPython.core.display.Markdown object>"
      ]
     },
     "metadata": {},
     "output_type": "display_data"
    }
   ],
   "source": [
    "# Generalized coordinates\n",
    "q = sym.Matrix([zeta, theta])\n",
    "\n",
    "# Generalized velocities\n",
    "v = q.diff(t)\n",
    "\n",
    "# Coefficients in the equations of motion\n",
    "M = sym.simplify(L.jacobian(v).jacobian(v))\n",
    "N = sym.simplify(L.jacobian(v).jacobian(q) @ v - L.jacobian(q).T)\n",
    "F = sym.simplify(sym.Matrix([(zeta / r_w) - theta]).jacobian(q).T)\n",
    "\n",
    "# Show results\n",
    "display(Markdown(f'$$ M(q) = {mechanics.mlatex(M)} $$'))\n",
    "display(Markdown(f'$$ N(q, \\\\dot{{q}}) = {mechanics.mlatex(N)} $$'))\n",
    "display(Markdown(f'$$ F(q) = {mechanics.mlatex(F)} $$'))"
   ]
  },
  {
   "cell_type": "markdown",
   "id": "0e6572e3",
   "metadata": {},
   "source": [
    "Define and show the numerical value of constants (consistant with the URDF file)."
   ]
  },
  {
   "cell_type": "code",
   "execution_count": 5,
   "id": "d2fcc5aa",
   "metadata": {},
   "outputs": [
    {
     "data": {
      "text/markdown": [
       "$$ \\begin{align*}r_w &= 0.325 \\\\ m_w &= 2.4 \\\\ J_w &= 0.12675 \\\\ r_b &= 0.3 \\\\ m_b &= 12.0 \\\\ J_b &= 0.8 \\\\ g &= 9.81 \\end{align*} $$"
      ],
      "text/plain": [
       "<IPython.core.display.Markdown object>"
      ]
     },
     "metadata": {},
     "output_type": "display_data"
    }
   ],
   "source": [
    "##########################################\n",
    "# Temporary variables that can be ignored\n",
    "\n",
    "# Dimensions of chassis\n",
    "dx = 0.4\n",
    "dy = 0.6\n",
    "dz = 0.8\n",
    "\n",
    "# Distance between axle and COM of chassis\n",
    "h = 0.3\n",
    "\n",
    "# Half-distance between wheels\n",
    "a = 0.7 / 2\n",
    "\n",
    "# Mass of chassis\n",
    "mb = 12.\n",
    "\n",
    "# MOI of chassis\n",
    "Jbx = (mb / 12) * (dy**2 + dz**2)\n",
    "Jby = (mb / 12) * (dx**2 + dz**2)\n",
    "Jbz = (mb / 12) * (dx**2 + dy**2)\n",
    "\n",
    "# Radius of each wheel\n",
    "r = 0.325\n",
    "\n",
    "# Width of each wheel\n",
    "hw = 0.075\n",
    "\n",
    "# Mass of each wheel\n",
    "mw = 1.2\n",
    "\n",
    "# MOI of each wheel\n",
    "Jw = (mw / 2) * r**2\n",
    "Jwt = (mw / 12) * (3 * r**2 + hw**2)\n",
    "\n",
    "# Total mass\n",
    "m = mb + 2 * mw\n",
    "\n",
    "# Total MOI\n",
    "Jx = Jbx + 2 * Jwt\n",
    "Jy = Jby\n",
    "Jz = Jbz + 2 * Jwt\n",
    "\n",
    "##########################################\n",
    "# Parameters\n",
    "\n",
    "# Define them\n",
    "params = {\n",
    "    r_w: r,\n",
    "    m_w: 2 * mw,\n",
    "    J_w: 2 * Jw,\n",
    "    r_b: h,\n",
    "    m_b: mb,\n",
    "    J_b: Jby,\n",
    "    g: 9.81,\n",
    "}\n",
    "\n",
    "# Show them\n",
    "s = ''\n",
    "for key, val in params.items():\n",
    "    s += fr'{key} &= {mechanics.mlatex(val)} \\\\ '\n",
    "s = s[:-3]\n",
    "display(Markdown(fr'$$ \\begin{{align*}}{s}\\end{{align*}} $$'))"
   ]
  },
  {
   "cell_type": "code",
   "execution_count": 6,
   "id": "a11dde11",
   "metadata": {},
   "outputs": [],
   "source": [
    "# Define generalized coordinates and their derivatives\n",
    "q = sym.Matrix([zeta, theta])\n",
    "dq = q.diff(t)\n",
    "ddq = dq.diff(t)\n",
    "\n",
    "# Define the state vector\n",
    "m = sym.Matrix([zeta, theta, dq[0], dq[1]])\n",
    "\n",
    "# Define input\n",
    "r = sym.Matrix([tau])\n",
    "\n",
    "# Express the second-order system as first-order\n",
    "M_inv = M.inv()\n",
    "ddq_expr = M_inv * (F * r - N)\n",
    "\n",
    "# Define the first-order ODE system\n",
    "f_m = sym.Matrix([dq[0], dq[1], ddq_expr[0], ddq_expr[1]])\n",
    "\n",
    "# Find equilibrium points\n",
    "m_eq = sym.Matrix([sym.Symbol('zeta_e'), sym.Symbol('theta_e'), 0, 0])\n",
    "r_eq = sym.Matrix([sym.Symbol('tau_e')])\n",
    "eqn = f_m.subs({zeta: m_eq[0], theta: m_eq[1], dq[0]: 0, dq[1]: 0, tau: r_eq[0]})\n",
    "eq_points = sym.solve(eqn, [m_eq[0], m_eq[1], r_eq[0]])\n",
    "\n"
   ]
  },
  {
   "cell_type": "code",
   "execution_count": 7,
   "id": "e98559ac",
   "metadata": {},
   "outputs": [],
   "source": [
    "values = {\n",
    "    r_w: 0.325,\n",
    "    m_w: 2.5,\n",
    "    J_w: 0.12675,\n",
    "    r_b: 0.3,\n",
    "    m_b: 12.0,\n",
    "    J_b: 0.8,\n",
    "    g: 9.81,\n",
    "    tau: 0.0\n",
    "}\n",
    "\n",
    "eq_point = eq_points[0]\n",
    "\n",
    "A = f_m.jacobian(m).subs({zeta: eq_point[0], theta: eq_point[1], dq[0]: 0, dq[1]: 0, tau: eq_point[2]})\n",
    "B = f_m.jacobian(r).subs({zeta: eq_point[0], theta: eq_point[1], dq[0]: 0, dq[1]: 0, tau: eq_point[2]})\n",
    "\n",
    "# Display A and B matrices\n",
    "#display(Markdown(f'$$ {mechanics.mlatex(A)} $$'))\n",
    "#display(Markdown(f'$$ {mechanics.mlatex(B)} $$'))"
   ]
  },
  {
   "cell_type": "code",
   "execution_count": 8,
   "id": "e00c2481",
   "metadata": {},
   "outputs": [
    {
     "data": {
      "text/latex": [
       "$\\displaystyle \\left[\\begin{matrix}0 & 0 & 1.0 & 0\\\\0 & 0 & 0 & 1.0\\\\0 & -7.67924619473303 & 0 & 0\\\\0 & 33.4900459048079 & 0 & 0\\end{matrix}\\right]$"
      ],
      "text/plain": [
       "⎡0          0          1.0   0 ⎤\n",
       "⎢                              ⎥\n",
       "⎢0          0           0   1.0⎥\n",
       "⎢                              ⎥\n",
       "⎢0  -7.67924619473303   0    0 ⎥\n",
       "⎢                              ⎥\n",
       "⎣0  33.4900459048079    0    0 ⎦"
      ]
     },
     "metadata": {},
     "output_type": "display_data"
    },
    {
     "data": {
      "text/latex": [
       "$\\displaystyle \\left[\\begin{matrix}0\\\\0\\\\0.566840745627892\\\\-1.61735461928745\\end{matrix}\\right]$"
      ],
      "text/plain": [
       "⎡        0        ⎤\n",
       "⎢                 ⎥\n",
       "⎢        0        ⎥\n",
       "⎢                 ⎥\n",
       "⎢0.566840745627892⎥\n",
       "⎢                 ⎥\n",
       "⎣-1.61735461928745⎦"
      ]
     },
     "metadata": {},
     "output_type": "display_data"
    }
   ],
   "source": [
    "# Find the numeric values for A and B for the given system\n",
    "values = {\n",
    "    r_w: 0.325,\n",
    "    m_w: 2.5,\n",
    "    J_w: 0.12675,\n",
    "    r_b: 0.3,\n",
    "    m_b: 12.0,\n",
    "    J_b: 0.8,\n",
    "    g: 9.81,\n",
    "    tau: 0.0\n",
    "}\n",
    "\n",
    "An = A.subs(values).evalf()\n",
    "Bn = B.subs(values).evalf()\n",
    "display(An)\n",
    "display(Bn)"
   ]
  },
  {
   "cell_type": "code",
   "execution_count": 9,
   "id": "dc4b77f3",
   "metadata": {},
   "outputs": [
    {
     "ename": "NameError",
     "evalue": "name 'place_poles' is not defined",
     "output_type": "error",
     "traceback": [
      "\u001b[1;31m---------------------------------------------------------------------------\u001b[0m",
      "\u001b[1;31mNameError\u001b[0m                                 Traceback (most recent call last)",
      "Cell \u001b[1;32mIn[9], line 10\u001b[0m\n\u001b[0;32m      6\u001b[0m desired_poles \u001b[38;5;241m=\u001b[39m [\u001b[38;5;241m-\u001b[39m\u001b[38;5;241m123\u001b[39m, \u001b[38;5;241m-\u001b[39m\u001b[38;5;241m0.14\u001b[39m\u001b[38;5;241m+\u001b[39m\u001b[38;5;241m1\u001b[39mj, \u001b[38;5;241m-\u001b[39m\u001b[38;5;241m0.14\u001b[39m\u001b[38;5;241m-\u001b[39m\u001b[38;5;241m1\u001b[39mj, \u001b[38;5;241m-\u001b[39m\u001b[38;5;241m0.45\u001b[39m]\n\u001b[0;32m      7\u001b[0m \u001b[38;5;66;03m# Zeta, Theta, Zeta dot, Theta dot\u001b[39;00m\n\u001b[0;32m      8\u001b[0m \n\u001b[0;32m      9\u001b[0m \u001b[38;5;66;03m# Compute gain matrix K\u001b[39;00m\n\u001b[1;32m---> 10\u001b[0m K_place \u001b[38;5;241m=\u001b[39m \u001b[43mplace_poles\u001b[49m(A_num, B_num, desired_poles)\u001b[38;5;241m.\u001b[39mgain_matrix\n\u001b[0;32m     12\u001b[0m \u001b[38;5;66;03m# Compute F_n = A - BK\u001b[39;00m\n\u001b[0;32m     13\u001b[0m Fn \u001b[38;5;241m=\u001b[39m A_num \u001b[38;5;241m-\u001b[39m B_num \u001b[38;5;241m@\u001b[39m K_place\n",
      "\u001b[1;31mNameError\u001b[0m: name 'place_poles' is not defined"
     ]
    }
   ],
   "source": [
    "# Substitute values\n",
    "A_num = np.array(An).astype(float)\n",
    "B_num = np.array(Bn).astype(float)\n",
    "\n",
    "# Desired pole locations\n",
    "desired_poles = [-123, -0.14+1j, -0.14-1j, -0.45]\n",
    "# Zeta, Theta, Zeta dot, Theta dot\n",
    "\n",
    "# Compute gain matrix K\n",
    "K_place = place_poles(A_num, B_num, desired_poles).gain_matrix\n",
    "\n",
    "# Compute F_n = A - BK\n",
    "Fn = A_num - B_num @ K_place\n",
    "\n",
    "# Compute eigenvalues of F_n\n",
    "eig_values = np.linalg.eigvals(Fn)\n",
    "\n",
    "# Output results\n",
    "print(\"Computed Gain Matrix K:\\n\", K_place.tolist())\n",
    "print(\"Eigenvalues of F_n:\\n\", eig_values)"
   ]
  },
  {
   "cell_type": "code",
   "execution_count": null,
   "id": "16497f3f",
   "metadata": {},
   "outputs": [
    {
     "name": "stdout",
     "output_type": "stream",
     "text": [
      "A: [[0, 0, 1.00000000000000, 0], [0, 0, 0, 1.00000000000000], [0, -7.67924619473303, 0, 0], [0, 33.4900459048079, 0, 0]]\n",
      "B: [[0], [0], [0.566840745627892], [-1.61735461928745]]\n",
      "K: [[-8.598342145259968, -79.94507514657211, -21.538587408936433, -84.05018128092573]]\n"
     ]
    }
   ],
   "source": [
    "print(\"A:\",An.tolist())\n",
    "print(\"B:\",Bn.tolist())\n",
    "print(\"K:\",K_place.tolist())"
   ]
  },
  {
   "cell_type": "code",
   "execution_count": null,
   "id": "182f7ef1",
   "metadata": {},
   "outputs": [
    {
     "name": "stdout",
     "output_type": "stream",
     "text": [
      "Eigenvalues of F_n:\n",
      " [-123.33681832+0.j           -0.13970468+0.98595846j\n",
      "   -0.13970468-0.98595846j   -0.48223208+0.j        ]\n"
     ]
    }
   ],
   "source": [
    "K_place = np.array([[-8.986, -82.634, -21.239, -84.173]])\n",
    "\n",
    "# Compute F_n = A - BK\n",
    "Fn = A_num - B_num @ K_place\n",
    "\n",
    "# Compute eigenvalues of F_n\n",
    "eig_values = np.linalg.eigvals(Fn)\n",
    "print(\"Eigenvalues of F_n:\\n\", eig_values)"
   ]
  },
  {
   "cell_type": "code",
   "execution_count": null,
   "id": "0631797b",
   "metadata": {},
   "outputs": [
    {
     "name": "stdout",
     "output_type": "stream",
     "text": [
      "25\n"
     ]
    },
    {
     "data": {
      "image/png": "[encoded data removed]",
      "text/plain": [
       "<Figure size 600x600 with 1 Axes>"
      ]
     },
     "metadata": {},
     "output_type": "display_data"
    }
   ],
   "source": [
    "# Plot data from the 25 Trials\n",
    "labels = ['0 Cats', '1 Cat', '2 Cats', '3 Cats', '4 Cats', '5 Cats', '6 Cats']\n",
    "sizes = [5, 3, 5, 6, 3, 2, 1]  # Data goes here\n",
    "print(sum(sizes))\n",
    "def absolute_value(val):\n",
    "    return f'{int(val * sum(sizes) / 100)}'\n",
    "\n",
    "# Create pie chart\n",
    "plt.figure(figsize=(6, 6))\n",
    "plt.pie(sizes, labels=labels, autopct=absolute_value, startangle=90, textprops={'fontsize': 14})\n",
    "plt.title('Number of Cats Caught in a Trial',fontsize=16)\n",
    "plt.show()\n"
   ]
  },
  {
   "cell_type": "code",
   "execution_count": null,
   "id": "232c4d7d",
   "metadata": {},
   "outputs": [],
   "source": []
  }
 ],
 "metadata": {
  "kernelspec": {
   "display_name": "ae353",
   "language": "python",
   "name": "python3"
  },
  "language_info": {
   "codemirror_mode": {
    "name": "ipython",
    "version": 3
   },
   "file_extension": ".py",
   "mimetype": "text/x-python",
   "name": "python",
   "nbconvert_exporter": "python",
   "pygments_lexer": "ipython3",
   "version": "3.13.1"
  }
 },
 "nbformat": 4,
 "nbformat_minor": 5
}
